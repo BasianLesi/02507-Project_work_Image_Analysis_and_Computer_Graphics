{
 "cells": [
  {
   "cell_type": "code",
   "execution_count": 1,
   "metadata": {},
   "outputs": [],
   "source": [
    "# FUNCTION:\n",
    "#    Converts open3d TriangleMesh to trimesh Trimesh and vise versa\n",
    "# INPUT:\n",
    "#    mesh (open3d TriangleMesh/trimesh Trimesh)\n",
    "# OUTPUT:\n",
    "#    return (trimesh Trimesh/open3d TriangleMesh)\n",
    "\n",
    "def convert(mesh):\n",
    "    if isinstance(mesh, o3d.cpu.pybind.geometry.TriangleMesh):\n",
    "        return trimesh.Trimesh(np.asarray(mesh.vertices), np.asarray(mesh.triangles), vertex_normals=np.asarray(mesh.vertex_normals))\n",
    "    else:\n",
    "        omesh = mesh.as_open3d\n",
    "        omesh.compute_vertex_normals()\n",
    "        return omesh\n",
    "    \n",
    "def convert2open3d(tmesh):\n",
    "    if isinstance(tmesh, o3d.cpu.pybind.geometry.TriangleMesh):\n",
    "        return tmesh\n",
    "    else:\n",
    "        mesh = tmesh.as_open3d\n",
    "        mesh.compute_vertex_normals()\n",
    "        return mesh\n",
    "    \n",
    "def convert2trimesh(mesh):\n",
    "    if isinstance(mesh, o3d.cpu.pybind.geometry.TriangleMesh):\n",
    "        return trimesh.Trimesh(np.asarray(mesh.vertices), np.asarray(mesh.triangles), vertex_normals=np.asarray(mesh.vertex_normals))\n",
    "    else:\n",
    "        return tmesh"
   ]
  },
  {
   "cell_type": "code",
   "execution_count": 2,
   "metadata": {},
   "outputs": [],
   "source": [
    "# FUNCTION:\n",
    "#    Converts open3d TriangleMesh to trimesh Trimesh and vise versa\n",
    "# INPUT:\n",
    "#    mesh (open3d TriangleMesh/trimesh Trimesh)\n",
    "# OUTPUT:\n",
    "#    return (trimesh Trimesh/open3d TriangleMesh)\n",
    "\n",
    "def make_mesh(cloud, alpha = 0.2):\n",
    "    mesh = o3d.geometry.TriangleMesh.create_from_point_cloud_alpha_shape(cloud, alpha)       \n",
    "    mesh.compute_vertex_normals()    \n",
    "    tmesh = convert2trimesh(mesh)\n",
    "    trimesh.repair.fix_normals(tmesh)\n",
    "    return tmesh.as_open3d\n",
    "    \n",
    "def smooth(mesh,  smooth_iterations = 10, smooth_lamb = 0.5):\n",
    "    smooth_mesh = mesh.filter_smooth_laplacian(smooth_iterations, smooth_lamb)\n",
    "    smooth_mesh.compute_vertex_normals()\n",
    "    return smooth_mesh"
   ]
  },
  {
   "cell_type": "code",
   "execution_count": 3,
   "metadata": {},
   "outputs": [],
   "source": [
    "# FUNCTION converts an open3d PointCloud into an open3d mese\n",
    "# INPUT:\n",
    "#   - cloud (open3d PointCloud): point cloud\n",
    "#   - alpha (float): alpha parameter of the meshing algorithm\n",
    "#   - smooth_lamb (float): lambda parameter of the laplacian smoothing algorithm\n",
    "#   - smooth_iterations (float): iterations parameter of the laplacian smoothing algorithm    \n",
    "def make_smooth_mesh(cloud, alpha = 0.2, smooth_iterations = 10, smooth_lamb = 0.5):    \n",
    "    return smooth(make_mesh(cloud, alpha), smooth_iterations, smooth_lamb)"
   ]
  },
  {
   "cell_type": "code",
   "execution_count": null,
   "metadata": {},
   "outputs": [],
   "source": []
  }
 ],
 "metadata": {
  "kernelspec": {
   "display_name": "Python 3",
   "language": "python",
   "name": "python3"
  },
  "language_info": {
   "codemirror_mode": {
    "name": "ipython",
    "version": 3
   },
   "file_extension": ".py",
   "mimetype": "text/x-python",
   "name": "python",
   "nbconvert_exporter": "python",
   "pygments_lexer": "ipython3",
   "version": "3.7.4"
  }
 },
 "nbformat": 4,
 "nbformat_minor": 4
}
