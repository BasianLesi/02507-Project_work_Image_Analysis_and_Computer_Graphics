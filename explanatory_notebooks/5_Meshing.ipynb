{
 "cells": [
  {
   "cell_type": "markdown",
   "metadata": {},
   "source": [
    "## Imports"
   ]
  },
  {
   "cell_type": "code",
   "execution_count": 1,
   "metadata": {},
   "outputs": [],
   "source": [
    "import numpy as np\n",
    "import open3d as o3d\n",
    "import trimesh"
   ]
  },
  {
   "cell_type": "markdown",
   "metadata": {},
   "source": [
    "## Load File"
   ]
  },
  {
   "cell_type": "markdown",
   "metadata": {},
   "source": [
    "This loads a point cloud. This cloud is already stitched together and all outliers have been removed."
   ]
  },
  {
   "cell_type": "code",
   "execution_count": 2,
   "metadata": {},
   "outputs": [],
   "source": [
    "point_cloud = o3d.io.read_point_cloud('../data/complete_cluster_3.pcd')\n",
    "#The point cloud should have normals, but just in case we create the here\n",
    "point_cloud.estimate_normals()"
   ]
  },
  {
   "cell_type": "markdown",
   "metadata": {},
   "source": [
    "# Step by Step"
   ]
  },
  {
   "cell_type": "markdown",
   "metadata": {},
   "source": [
    "## Meshing"
   ]
  },
  {
   "cell_type": "markdown",
   "metadata": {},
   "source": [
    "We tried the different meshing algorithms of open3d to find the best one for this purpose."
   ]
  },
  {
   "cell_type": "markdown",
   "metadata": {},
   "source": [
    "#### Ball Pivot"
   ]
  },
  {
   "cell_type": "markdown",
   "metadata": {},
   "source": [
    "We found that ball pivot meshing gives really bad results. WWe included it here nonetheless so you can check for yourself.  However we didn't consider it any further after that."
   ]
  },
  {
   "cell_type": "code",
   "execution_count": 3,
   "metadata": {},
   "outputs": [],
   "source": [
    "radii = [0.02, 0.04, 0.1, 0.2, 0.5]\n",
    "bp_mesh = o3d.geometry.TriangleMesh.create_from_point_cloud_ball_pivoting(point_cloud, o3d.utility.DoubleVector(radii))"
   ]
  },
  {
   "cell_type": "code",
   "execution_count": 4,
   "metadata": {},
   "outputs": [],
   "source": [
    "o3d.visualization.draw_geometries([bp_mesh], mesh_show_back_face=True)"
   ]
  },
  {
   "cell_type": "markdown",
   "metadata": {},
   "source": [
    "#### Poisson Meshing"
   ]
  },
  {
   "cell_type": "markdown",
   "metadata": {},
   "source": [
    "Poisson Meshing looked a lot more promising. It closes a lot of holes successfully and it is really fast. However it also introduces a lot more artifacts which we could not get rid of. Those are caused by holes in the scan. If all the holes are closed it might be worth to reconsider this approach. In the end we decided that it was not worth it. Especially because we are not sure if patching the holes is really the way to go, because that would mean that we have to assume some information, which is not ideal for medical scans."
   ]
  },
  {
   "cell_type": "code",
   "execution_count": 5,
   "metadata": {},
   "outputs": [
    {
     "data": {
      "text/plain": [
       "TriangleMesh with 1025601 points and 2052723 triangles."
      ]
     },
     "execution_count": 5,
     "metadata": {},
     "output_type": "execute_result"
    }
   ],
   "source": [
    "pm_mesh, densities = o3d.geometry.TriangleMesh.create_from_point_cloud_poisson(point_cloud, depth=10)\n",
    "#The mesh has no normals yet, so we have to create them\n",
    "pm_mesh.compute_vertex_normals()"
   ]
  },
  {
   "cell_type": "code",
   "execution_count": 6,
   "metadata": {},
   "outputs": [],
   "source": [
    "o3d.visualization.draw_geometries([pm_mesh], mesh_show_back_face=True)"
   ]
  },
  {
   "cell_type": "markdown",
   "metadata": {},
   "source": [
    "#### Alpha Shape Meshing"
   ]
  },
  {
   "cell_type": "markdown",
   "metadata": {},
   "source": [
    "This algorithm gave us the best results. There are holes in the mesh, but as already mentioned we don't think patching them without getting additional data from scans is a good idea. The alpha meshing algorithm only needs one parameter which is called alpha. Alpha determines the largest size an edge between to points can be. If alpha is to small then some points that should be connected won't be, which leads to holes in the mesh. If alpha is to large then points that shouldn't be connected will be, which removes detail from the scan. We would that the best compromise is an alpha of 0.2.\n",
    "\n"
   ]
  },
  {
   "cell_type": "markdown",
   "metadata": {},
   "source": [
    "Open3d's explenation of the algorithm:\n",
    "\n",
    "Alpha shapes\n",
    "The alpha shape [Edelsbrunner1983] is a generalization of a convex hull. As described here [https://graphics.stanford.edu/courses/cs268-11-spring/handouts/AlphaShapes/as_fisher.pdf] one can intuitively think of an alpha shape as the following: Imagine a huge mass of ice cream containing the points S as hard chocolate pieces. Using one of these sphere-formed ice cream spoons we carve out all parts of the ice cream block we can reach without bumping into chocolate pieces, thereby even carving out holes in the inside (e.g., parts not reachable by simply moving the spoon from the outside). We will eventually end up with a (not necessarily convex) object bounded by caps, arcs and points. If we now straighten all round faces to triangles and line segments, we have an intuitive description of what is called the alpha shape of S."
   ]
  },
  {
   "cell_type": "code",
   "execution_count": 7,
   "metadata": {},
   "outputs": [],
   "source": [
    "#Example at alpha = 0.1 . This has to many small holes.\n",
    "as_mesh1 = o3d.geometry.TriangleMesh.create_from_point_cloud_alpha_shape(point_cloud, 0.1)  \n",
    "as_mesh1.compute_vertex_normals()   \n",
    "\n",
    "o3d.visualization.draw_geometries([as_mesh1], mesh_show_back_face=True)"
   ]
  },
  {
   "cell_type": "code",
   "execution_count": 8,
   "metadata": {},
   "outputs": [],
   "source": [
    "#Example at alpha = 0.2 . This is what we determined as ideal compromise.\n",
    "as_mesh2 = o3d.geometry.TriangleMesh.create_from_point_cloud_alpha_shape(point_cloud, 0.2)  \n",
    "as_mesh2.compute_vertex_normals()  \n",
    "\n",
    "o3d.visualization.draw_geometries([as_mesh2], mesh_show_back_face=True)"
   ]
  },
  {
   "cell_type": "code",
   "execution_count": 9,
   "metadata": {},
   "outputs": [],
   "source": [
    "#Example at alpha = 0.5 . This removes to much detail.\n",
    "as_mesh5 = o3d.geometry.TriangleMesh.create_from_point_cloud_alpha_shape(point_cloud, 0.5)  \n",
    "as_mesh5.compute_vertex_normals() \n",
    "\n",
    "o3d.visualization.draw_geometries([as_mesh5], mesh_show_back_face=True)"
   ]
  },
  {
   "cell_type": "markdown",
   "metadata": {},
   "source": [
    "One problem with open3d's alpha meshing is that some of the faces are oriented the wrong way. If you press Ctrl+9 in the visualizer you can see that the normals are all over the place:"
   ]
  },
  {
   "cell_type": "code",
   "execution_count": 10,
   "metadata": {},
   "outputs": [],
   "source": [
    "o3d.visualization.draw_geometries([as_mesh2], mesh_show_back_face=True)"
   ]
  },
  {
   "cell_type": "markdown",
   "metadata": {},
   "source": [
    "Fixing the triangle orientation is a bit time consuming and is  not always necessary, but it might save a lot of trouble later. Another package called 'trimesh' can do the fixing for us. However we have to convert the mesh first. "
   ]
  },
  {
   "cell_type": "code",
   "execution_count": 11,
   "metadata": {},
   "outputs": [
    {
     "data": {
      "text/plain": [
       "TriangleMesh with 197516 points and 409036 triangles."
      ]
     },
     "execution_count": 11,
     "metadata": {},
     "output_type": "execute_result"
    }
   ],
   "source": [
    "#chose which mesh to fix:\n",
    "mesh = as_mesh2\n",
    "\n",
    "#convert to trimesh\n",
    "tmesh = trimesh.Trimesh(np.asarray(mesh.vertices), np.asarray(mesh.triangles), vertex_normals=np.asarray(mesh.vertex_normals))\n",
    "\n",
    "#fix normals\n",
    "trimesh.repair.fix_normals(tmesh)\n",
    "\n",
    "#convert back to open3d mesh. We also have to calculate the new normals after convertion\n",
    "fixed_mesh = tmesh.as_open3d\n",
    "fixed_mesh.compute_vertex_normals()"
   ]
  },
  {
   "cell_type": "code",
   "execution_count": 12,
   "metadata": {},
   "outputs": [],
   "source": [
    "o3d.visualization.draw_geometries([fixed_mesh], mesh_show_back_face=True)"
   ]
  },
  {
   "cell_type": "markdown",
   "metadata": {},
   "source": [
    "## Smoothing"
   ]
  },
  {
   "cell_type": "markdown",
   "metadata": {},
   "source": [
    "The mesh is still very rough. Presumably due to noise from the scan. A simple smoothing algorithm can solve that. It should be said here that we did not do any evaluation on the correctness of the resulting mesh. This means that we do not know wether or not the meshing and or smoothing removed any detail or changed the form of the object in any undesireable way. We also didn't experiment with the parameters."
   ]
  },
  {
   "cell_type": "code",
   "execution_count": 13,
   "metadata": {},
   "outputs": [
    {
     "data": {
      "text/plain": [
       "TriangleMesh with 197516 points and 409036 triangles."
      ]
     },
     "execution_count": 13,
     "metadata": {},
     "output_type": "execute_result"
    }
   ],
   "source": [
    "smooth_mesh = fixed_mesh.filter_smooth_laplacian(10, 0.5)\n",
    "\n",
    "#The normals have to be recalculated for every time the faces change\n",
    "smooth_mesh.compute_vertex_normals()"
   ]
  },
  {
   "cell_type": "code",
   "execution_count": 14,
   "metadata": {},
   "outputs": [],
   "source": [
    "o3d.visualization.draw_geometries([smooth_mesh], mesh_show_back_face=True)"
   ]
  },
  {
   "cell_type": "markdown",
   "metadata": {},
   "source": [
    "# Functions"
   ]
  },
  {
   "cell_type": "markdown",
   "metadata": {},
   "source": [
    "The following code does the same, it is just splitt into functions for easier exploration."
   ]
  },
  {
   "cell_type": "code",
   "execution_count": 15,
   "metadata": {},
   "outputs": [],
   "source": [
    "def make_mesh(cloud, alpha = 0.2):\n",
    "    mesh = o3d.geometry.TriangleMesh.create_from_point_cloud_alpha_shape(cloud, alpha)       \n",
    "    mesh.compute_vertex_normals()    \n",
    "    tmesh = trimesh.Trimesh(np.asarray(mesh.vertices), np.asarray(mesh.triangles), vertex_normals=np.asarray(mesh.vertex_normals))\n",
    "    trimesh.repair.fix_normals(tmesh)\n",
    "    return tmesh.as_open3d\n",
    "    \n",
    "def smooth(mesh,  smooth_iterations = 10, smooth_lamb = 0.5):\n",
    "    smooth_mesh = fixed_mesh.filter_smooth_laplacian(smooth_iterations, smooth_lamb)\n",
    "    smooth_mesh.compute_vertex_normals()\n",
    "    return smooth_mesh\n",
    "    \n",
    "def make_smooth_mesh(cloud, alpha = 0.2, smooth_iterations = 10, smooth_lamb = 0.5):    \n",
    "    return smooth(make_mesh(cloud, alpha), smooth_iterations, smooth_lamb)"
   ]
  },
  {
   "cell_type": "code",
   "execution_count": 16,
   "metadata": {},
   "outputs": [],
   "source": [
    "final_mesh = make_smooth_mesh(point_cloud)  #optional parameters: (point_cloud, alpha = 0.2, smooth_iterations = 10, smooth_lamb = 0.5)\n",
    "o3d.visualization.draw_geometries([final_mesh], mesh_show_back_face=True)"
   ]
  },
  {
   "cell_type": "code",
   "execution_count": null,
   "metadata": {},
   "outputs": [],
   "source": []
  }
 ],
 "metadata": {
  "kernelspec": {
   "display_name": "Python 3",
   "language": "python",
   "name": "python3"
  },
  "language_info": {
   "codemirror_mode": {
    "name": "ipython",
    "version": 3
   },
   "file_extension": ".py",
   "mimetype": "text/x-python",
   "name": "python",
   "nbconvert_exporter": "python",
   "pygments_lexer": "ipython3",
   "version": "3.7.4"
  }
 },
 "nbformat": 4,
 "nbformat_minor": 2
}
