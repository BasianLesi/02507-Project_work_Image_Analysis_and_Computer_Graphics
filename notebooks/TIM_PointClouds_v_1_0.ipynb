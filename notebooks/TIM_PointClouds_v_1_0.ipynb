{
 "cells": [
  {
   "cell_type": "markdown",
   "metadata": {},
   "source": [
    "## Installs and Imports"
   ]
  },
  {
   "cell_type": "code",
   "execution_count": 2,
   "metadata": {
    "scrolled": true
   },
   "outputs": [
    {
     "name": "stdout",
     "output_type": "stream",
     "text": [
      "Requirement already satisfied: open3d in c:\\tools\\anaconda3\\lib\\site-packages (0.12.0)\n",
      "Requirement already satisfied: notebook in c:\\tools\\anaconda3\\lib\\site-packages (from open3d) (6.0.1)\n",
      "Requirement already satisfied: matplotlib in c:\\tools\\anaconda3\\lib\\site-packages (from open3d) (3.1.1)\n",
      "Requirement already satisfied: ipywidgets in c:\\tools\\anaconda3\\lib\\site-packages (from open3d) (7.5.1)\n",
      "Requirement already satisfied: widgetsnbextension in c:\\tools\\anaconda3\\lib\\site-packages (from open3d) (3.5.1)\n",
      "Requirement already satisfied: numpy in c:\\tools\\anaconda3\\lib\\site-packages (from open3d) (1.16.5)\n",
      "Requirement already satisfied: nbconvert in c:\\tools\\anaconda3\\lib\\site-packages (from notebook->open3d) (5.6.0)\n",
      "Requirement already satisfied: ipykernel in c:\\tools\\anaconda3\\lib\\site-packages (from notebook->open3d) (5.1.2)\n",
      "Requirement already satisfied: terminado>=0.8.1 in c:\\tools\\anaconda3\\lib\\site-packages (from notebook->open3d) (0.8.2)\n",
      "Requirement already satisfied: Send2Trash in c:\\tools\\anaconda3\\lib\\site-packages (from notebook->open3d) (1.5.0)\n",
      "Requirement already satisfied: jupyter-core>=4.4.0 in c:\\tools\\anaconda3\\lib\\site-packages (from notebook->open3d) (4.5.0)\n",
      "Requirement already satisfied: tornado>=5.0 in c:\\tools\\anaconda3\\lib\\site-packages (from notebook->open3d) (6.0.3)\n",
      "Requirement already satisfied: traitlets>=4.2.1 in c:\\tools\\anaconda3\\lib\\site-packages (from notebook->open3d) (4.3.3)\n",
      "Requirement already satisfied: prometheus-client in c:\\tools\\anaconda3\\lib\\site-packages (from notebook->open3d) (0.7.1)\n",
      "Requirement already satisfied: ipython-genutils in c:\\tools\\anaconda3\\lib\\site-packages (from notebook->open3d) (0.2.0)\n",
      "Requirement already satisfied: pyzmq>=17 in c:\\tools\\anaconda3\\lib\\site-packages (from notebook->open3d) (18.1.0)\n",
      "Requirement already satisfied: jupyter-client>=5.3.1 in c:\\tools\\anaconda3\\lib\\site-packages (from notebook->open3d) (5.3.3)\n",
      "Requirement already satisfied: nbformat in c:\\tools\\anaconda3\\lib\\site-packages (from notebook->open3d) (4.4.0)\n",
      "Requirement already satisfied: jinja2 in c:\\tools\\anaconda3\\lib\\site-packages (from notebook->open3d) (2.10.3)\n",
      "Requirement already satisfied: cycler>=0.10 in c:\\tools\\anaconda3\\lib\\site-packages (from matplotlib->open3d) (0.10.0)\n",
      "Requirement already satisfied: kiwisolver>=1.0.1 in c:\\tools\\anaconda3\\lib\\site-packages (from matplotlib->open3d) (1.1.0)\n",
      "Requirement already satisfied: pyparsing!=2.0.4,!=2.1.2,!=2.1.6,>=2.0.1 in c:\\tools\\anaconda3\\lib\\site-packages (from matplotlib->open3d) (2.4.2)\n",
      "Requirement already satisfied: python-dateutil>=2.1 in c:\\tools\\anaconda3\\lib\\site-packages (from matplotlib->open3d) (2.8.0)\n",
      "Requirement already satisfied: ipython>=4.0.0; python_version >= \"3.3\" in c:\\tools\\anaconda3\\lib\\site-packages (from ipywidgets->open3d) (7.8.0)\n",
      "Requirement already satisfied: defusedxml in c:\\tools\\anaconda3\\lib\\site-packages (from nbconvert->notebook->open3d) (0.6.0)\n",
      "Requirement already satisfied: pygments in c:\\tools\\anaconda3\\lib\\site-packages (from nbconvert->notebook->open3d) (2.4.2)\n",
      "Requirement already satisfied: pandocfilters>=1.4.1 in c:\\tools\\anaconda3\\lib\\site-packages (from nbconvert->notebook->open3d) (1.4.2)\n",
      "Requirement already satisfied: mistune<2,>=0.8.1 in c:\\tools\\anaconda3\\lib\\site-packages (from nbconvert->notebook->open3d) (0.8.4)\n",
      "Requirement already satisfied: testpath in c:\\tools\\anaconda3\\lib\\site-packages (from nbconvert->notebook->open3d) (0.4.2)\n",
      "Requirement already satisfied: bleach in c:\\tools\\anaconda3\\lib\\site-packages (from nbconvert->notebook->open3d) (3.1.0)\n",
      "Requirement already satisfied: entrypoints>=0.2.2 in c:\\tools\\anaconda3\\lib\\site-packages (from nbconvert->notebook->open3d) (0.3)\n",
      "Requirement already satisfied: six in c:\\tools\\anaconda3\\lib\\site-packages (from traitlets>=4.2.1->notebook->open3d) (1.12.0)\n",
      "Requirement already satisfied: decorator in c:\\tools\\anaconda3\\lib\\site-packages (from traitlets>=4.2.1->notebook->open3d) (4.4.0)\n",
      "Requirement already satisfied: pywin32>=1.0; sys_platform == \"win32\" in c:\\tools\\anaconda3\\lib\\site-packages (from jupyter-client>=5.3.1->notebook->open3d) (223)\n",
      "Requirement already satisfied: jsonschema!=2.5.0,>=2.4 in c:\\tools\\anaconda3\\lib\\site-packages (from nbformat->notebook->open3d) (3.0.2)\n",
      "Requirement already satisfied: MarkupSafe>=0.23 in c:\\tools\\anaconda3\\lib\\site-packages (from jinja2->notebook->open3d) (1.1.1)\n",
      "Requirement already satisfied: setuptools in c:\\tools\\anaconda3\\lib\\site-packages (from kiwisolver>=1.0.1->matplotlib->open3d) (41.4.0)\n",
      "Requirement already satisfied: backcall in c:\\tools\\anaconda3\\lib\\site-packages (from ipython>=4.0.0; python_version >= \"3.3\"->ipywidgets->open3d) (0.1.0)\n",
      "Requirement already satisfied: pickleshare in c:\\tools\\anaconda3\\lib\\site-packages (from ipython>=4.0.0; python_version >= \"3.3\"->ipywidgets->open3d) (0.7.5)\n",
      "Requirement already satisfied: colorama; sys_platform == \"win32\" in c:\\tools\\anaconda3\\lib\\site-packages (from ipython>=4.0.0; python_version >= \"3.3\"->ipywidgets->open3d) (0.4.1)\n",
      "Requirement already satisfied: prompt-toolkit<2.1.0,>=2.0.0 in c:\\tools\\anaconda3\\lib\\site-packages (from ipython>=4.0.0; python_version >= \"3.3\"->ipywidgets->open3d) (2.0.10)\n",
      "Requirement already satisfied: jedi>=0.10 in c:\\tools\\anaconda3\\lib\\site-packages (from ipython>=4.0.0; python_version >= \"3.3\"->ipywidgets->open3d) (0.15.1)\n",
      "Requirement already satisfied: webencodings in c:\\tools\\anaconda3\\lib\\site-packages (from bleach->nbconvert->notebook->open3d) (0.5.1)\n",
      "Requirement already satisfied: attrs>=17.4.0 in c:\\tools\\anaconda3\\lib\\site-packages (from jsonschema!=2.5.0,>=2.4->nbformat->notebook->open3d) (19.2.0)\n",
      "Requirement already satisfied: pyrsistent>=0.14.0 in c:\\tools\\anaconda3\\lib\\site-packages (from jsonschema!=2.5.0,>=2.4->nbformat->notebook->open3d) (0.15.4)\n",
      "Requirement already satisfied: wcwidth in c:\\tools\\anaconda3\\lib\\site-packages (from prompt-toolkit<2.1.0,>=2.0.0->ipython>=4.0.0; python_version >= \"3.3\"->ipywidgets->open3d) (0.1.7)\n",
      "Requirement already satisfied: parso>=0.5.0 in c:\\tools\\anaconda3\\lib\\site-packages (from jedi>=0.10->ipython>=4.0.0; python_version >= \"3.3\"->ipywidgets->open3d) (0.5.1)\n"
     ]
    }
   ],
   "source": [
    "!pip install open3d"
   ]
  },
  {
   "cell_type": "code",
   "execution_count": 2,
   "metadata": {},
   "outputs": [],
   "source": [
    "import numpy as np\n",
    "import open3d as o3d"
   ]
  },
  {
   "cell_type": "markdown",
   "metadata": {},
   "source": [
    "## Load Files"
   ]
  },
  {
   "cell_type": "code",
   "execution_count": 3,
   "metadata": {},
   "outputs": [
    {
     "name": "stdout",
     "output_type": "stream",
     "text": [
      "Load a ply point cloud, print it, and render it\n",
      "PointCloud with 24775 points.\n",
      "[[-8.684366 -8.684366 44.307988]\n",
      " [-8.567612 -8.676063 44.265625]\n",
      " [-8.461217 -8.678172 44.276386]\n",
      " ...\n",
      " [ 9.860027 10.116131 52.266242]\n",
      " [10.000024 10.128229 52.328747]\n",
      " [10.131802 10.131802 52.347209]]\n"
     ]
    }
   ],
   "source": [
    "print(\"Load a ply point cloud, print it, and render it\")\n",
    "pcd = o3d.io.read_point_cloud(\"plyfolder/points0.ply\")\n",
    "print(pcd)\n",
    "print(np.asarray(pcd.points))\n",
    "o3d.visualization.draw_geometries([pcd])"
   ]
  },
  {
   "cell_type": "markdown",
   "metadata": {},
   "source": [
    "## Outlier Removal"
   ]
  },
  {
   "cell_type": "code",
   "execution_count": 22,
   "metadata": {},
   "outputs": [],
   "source": [
    "downpcd = pcd.voxel_down_sample(voxel_size=0.1)"
   ]
  },
  {
   "cell_type": "code",
   "execution_count": 23,
   "metadata": {},
   "outputs": [],
   "source": [
    "o3d.visualization.draw_geometries([downpcd])"
   ]
  },
  {
   "cell_type": "markdown",
   "metadata": {},
   "source": [
    "## Mesh Convertion"
   ]
  },
  {
   "cell_type": "code",
   "execution_count": 26,
   "metadata": {},
   "outputs": [
    {
     "name": "stdout",
     "output_type": "stream",
     "text": [
      "TriangleMesh with 21367 points and 51648 triangles.\n"
     ]
    }
   ],
   "source": [
    "alpha = 0.7\n",
    "\n",
    "mesh = o3d.geometry.TriangleMesh.create_from_point_cloud_alpha_shape(downpcd, alpha)\n",
    "mesh.compute_vertex_normals()\n",
    "print(mesh)"
   ]
  },
  {
   "cell_type": "code",
   "execution_count": 28,
   "metadata": {},
   "outputs": [],
   "source": [
    "o3d.visualization.draw_geometries([mesh], mesh_show_back_face=True)"
   ]
  },
  {
   "cell_type": "code",
   "execution_count": null,
   "metadata": {},
   "outputs": [],
   "source": []
  }
 ],
 "metadata": {
  "kernelspec": {
   "display_name": "Python 3",
   "language": "python",
   "name": "python3"
  },
  "language_info": {
   "codemirror_mode": {
    "name": "ipython",
    "version": 3
   },
   "file_extension": ".py",
   "mimetype": "text/x-python",
   "name": "python",
   "nbconvert_exporter": "python",
   "pygments_lexer": "ipython3",
   "version": "3.7.4"
  }
 },
 "nbformat": 4,
 "nbformat_minor": 2
}
