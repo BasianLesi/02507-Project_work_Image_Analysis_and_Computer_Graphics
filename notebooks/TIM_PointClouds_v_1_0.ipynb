{
 "cells": [
  {
   "cell_type": "markdown",
   "metadata": {},
   "source": [
    "## Installs and Imports"
   ]
  },
  {
   "cell_type": "code",
   "execution_count": 2,
   "metadata": {
    "scrolled": true
   },
   "outputs": [
    {
     "name": "stdout",
     "output_type": "stream",
     "text": [
      "Requirement already satisfied: open3d in c:\\tools\\anaconda3\\lib\\site-packages (0.12.0)\n",
      "Requirement already satisfied: notebook in c:\\tools\\anaconda3\\lib\\site-packages (from open3d) (6.0.1)\n",
      "Requirement already satisfied: matplotlib in c:\\tools\\anaconda3\\lib\\site-packages (from open3d) (3.1.1)\n",
      "Requirement already satisfied: ipywidgets in c:\\tools\\anaconda3\\lib\\site-packages (from open3d) (7.5.1)\n",
      "Requirement already satisfied: widgetsnbextension in c:\\tools\\anaconda3\\lib\\site-packages (from open3d) (3.5.1)\n",
      "Requirement already satisfied: numpy in c:\\tools\\anaconda3\\lib\\site-packages (from open3d) (1.16.5)\n",
      "Requirement already satisfied: nbconvert in c:\\tools\\anaconda3\\lib\\site-packages (from notebook->open3d) (5.6.0)\n",
      "Requirement already satisfied: ipykernel in c:\\tools\\anaconda3\\lib\\site-packages (from notebook->open3d) (5.1.2)\n",
      "Requirement already satisfied: terminado>=0.8.1 in c:\\tools\\anaconda3\\lib\\site-packages (from notebook->open3d) (0.8.2)\n",
      "Requirement already satisfied: Send2Trash in c:\\tools\\anaconda3\\lib\\site-packages (from notebook->open3d) (1.5.0)\n",
      "Requirement already satisfied: jupyter-core>=4.4.0 in c:\\tools\\anaconda3\\lib\\site-packages (from notebook->open3d) (4.5.0)\n",
      "Requirement already satisfied: tornado>=5.0 in c:\\tools\\anaconda3\\lib\\site-packages (from notebook->open3d) (6.0.3)\n",
      "Requirement already satisfied: traitlets>=4.2.1 in c:\\tools\\anaconda3\\lib\\site-packages (from notebook->open3d) (4.3.3)\n",
      "Requirement already satisfied: prometheus-client in c:\\tools\\anaconda3\\lib\\site-packages (from notebook->open3d) (0.7.1)\n",
      "Requirement already satisfied: ipython-genutils in c:\\tools\\anaconda3\\lib\\site-packages (from notebook->open3d) (0.2.0)\n",
      "Requirement already satisfied: pyzmq>=17 in c:\\tools\\anaconda3\\lib\\site-packages (from notebook->open3d) (18.1.0)\n",
      "Requirement already satisfied: jupyter-client>=5.3.1 in c:\\tools\\anaconda3\\lib\\site-packages (from notebook->open3d) (5.3.3)\n",
      "Requirement already satisfied: nbformat in c:\\tools\\anaconda3\\lib\\site-packages (from notebook->open3d) (4.4.0)\n",
      "Requirement already satisfied: jinja2 in c:\\tools\\anaconda3\\lib\\site-packages (from notebook->open3d) (2.10.3)\n",
      "Requirement already satisfied: cycler>=0.10 in c:\\tools\\anaconda3\\lib\\site-packages (from matplotlib->open3d) (0.10.0)\n",
      "Requirement already satisfied: kiwisolver>=1.0.1 in c:\\tools\\anaconda3\\lib\\site-packages (from matplotlib->open3d) (1.1.0)\n",
      "Requirement already satisfied: pyparsing!=2.0.4,!=2.1.2,!=2.1.6,>=2.0.1 in c:\\tools\\anaconda3\\lib\\site-packages (from matplotlib->open3d) (2.4.2)\n",
      "Requirement already satisfied: python-dateutil>=2.1 in c:\\tools\\anaconda3\\lib\\site-packages (from matplotlib->open3d) (2.8.0)\n",
      "Requirement already satisfied: ipython>=4.0.0; python_version >= \"3.3\" in c:\\tools\\anaconda3\\lib\\site-packages (from ipywidgets->open3d) (7.8.0)\n",
      "Requirement already satisfied: defusedxml in c:\\tools\\anaconda3\\lib\\site-packages (from nbconvert->notebook->open3d) (0.6.0)\n",
      "Requirement already satisfied: pygments in c:\\tools\\anaconda3\\lib\\site-packages (from nbconvert->notebook->open3d) (2.4.2)\n",
      "Requirement already satisfied: pandocfilters>=1.4.1 in c:\\tools\\anaconda3\\lib\\site-packages (from nbconvert->notebook->open3d) (1.4.2)\n",
      "Requirement already satisfied: mistune<2,>=0.8.1 in c:\\tools\\anaconda3\\lib\\site-packages (from nbconvert->notebook->open3d) (0.8.4)\n",
      "Requirement already satisfied: testpath in c:\\tools\\anaconda3\\lib\\site-packages (from nbconvert->notebook->open3d) (0.4.2)\n",
      "Requirement already satisfied: bleach in c:\\tools\\anaconda3\\lib\\site-packages (from nbconvert->notebook->open3d) (3.1.0)\n",
      "Requirement already satisfied: entrypoints>=0.2.2 in c:\\tools\\anaconda3\\lib\\site-packages (from nbconvert->notebook->open3d) (0.3)\n",
      "Requirement already satisfied: six in c:\\tools\\anaconda3\\lib\\site-packages (from traitlets>=4.2.1->notebook->open3d) (1.12.0)\n",
      "Requirement already satisfied: decorator in c:\\tools\\anaconda3\\lib\\site-packages (from traitlets>=4.2.1->notebook->open3d) (4.4.0)\n",
      "Requirement already satisfied: pywin32>=1.0; sys_platform == \"win32\" in c:\\tools\\anaconda3\\lib\\site-packages (from jupyter-client>=5.3.1->notebook->open3d) (223)\n",
      "Requirement already satisfied: jsonschema!=2.5.0,>=2.4 in c:\\tools\\anaconda3\\lib\\site-packages (from nbformat->notebook->open3d) (3.0.2)\n",
      "Requirement already satisfied: MarkupSafe>=0.23 in c:\\tools\\anaconda3\\lib\\site-packages (from jinja2->notebook->open3d) (1.1.1)\n",
      "Requirement already satisfied: setuptools in c:\\tools\\anaconda3\\lib\\site-packages (from kiwisolver>=1.0.1->matplotlib->open3d) (41.4.0)\n",
      "Requirement already satisfied: backcall in c:\\tools\\anaconda3\\lib\\site-packages (from ipython>=4.0.0; python_version >= \"3.3\"->ipywidgets->open3d) (0.1.0)\n",
      "Requirement already satisfied: pickleshare in c:\\tools\\anaconda3\\lib\\site-packages (from ipython>=4.0.0; python_version >= \"3.3\"->ipywidgets->open3d) (0.7.5)\n",
      "Requirement already satisfied: colorama; sys_platform == \"win32\" in c:\\tools\\anaconda3\\lib\\site-packages (from ipython>=4.0.0; python_version >= \"3.3\"->ipywidgets->open3d) (0.4.1)\n",
      "Requirement already satisfied: prompt-toolkit<2.1.0,>=2.0.0 in c:\\tools\\anaconda3\\lib\\site-packages (from ipython>=4.0.0; python_version >= \"3.3\"->ipywidgets->open3d) (2.0.10)\n",
      "Requirement already satisfied: jedi>=0.10 in c:\\tools\\anaconda3\\lib\\site-packages (from ipython>=4.0.0; python_version >= \"3.3\"->ipywidgets->open3d) (0.15.1)\n",
      "Requirement already satisfied: webencodings in c:\\tools\\anaconda3\\lib\\site-packages (from bleach->nbconvert->notebook->open3d) (0.5.1)\n",
      "Requirement already satisfied: attrs>=17.4.0 in c:\\tools\\anaconda3\\lib\\site-packages (from jsonschema!=2.5.0,>=2.4->nbformat->notebook->open3d) (19.2.0)\n",
      "Requirement already satisfied: pyrsistent>=0.14.0 in c:\\tools\\anaconda3\\lib\\site-packages (from jsonschema!=2.5.0,>=2.4->nbformat->notebook->open3d) (0.15.4)\n",
      "Requirement already satisfied: wcwidth in c:\\tools\\anaconda3\\lib\\site-packages (from prompt-toolkit<2.1.0,>=2.0.0->ipython>=4.0.0; python_version >= \"3.3\"->ipywidgets->open3d) (0.1.7)\n",
      "Requirement already satisfied: parso>=0.5.0 in c:\\tools\\anaconda3\\lib\\site-packages (from jedi>=0.10->ipython>=4.0.0; python_version >= \"3.3\"->ipywidgets->open3d) (0.5.1)\n"
     ]
    }
   ],
   "source": [
    "!pip install open3d"
   ]
  },
  {
   "cell_type": "code",
   "execution_count": 2,
   "metadata": {},
   "outputs": [],
   "source": [
    "import numpy as np\n",
    "import open3d as o3d"
   ]
  },
  {
   "cell_type": "markdown",
   "metadata": {},
   "source": [
    "## Load Files"
   ]
  },
  {
   "cell_type": "code",
   "execution_count": 13,
   "metadata": {},
   "outputs": [
    {
     "name": "stdout",
     "output_type": "stream",
     "text": [
      "Load a ply point cloud, print it, and render it\n",
      "[Open3D DEBUG] Format auto File plyfolder/points3.ply\n",
      "[Open3D DEBUG] Read geometry::PointCloud: 25508 vertices.\n",
      "[Open3D DEBUG] [RemoveNonFinitePoints] 0 nan points have been removed.\n",
      "PointCloud with 25508 points.\n",
      "[[-8.854995 -8.854995 45.178547]\n",
      " [-8.739034 -8.849655 45.151302]\n",
      " [-8.617654 -8.838619 45.094997]\n",
      " ...\n",
      " [10.059387 10.32067  53.323016]\n",
      " [10.180428 10.310946 53.272779]\n",
      " [10.32945  10.32945  53.368382]]\n",
      "[Open3D DEBUG] Add geometry and update bounding box to [(-10.7799, -8.8968, 36.8682) - (10.6456, 10.6452, 55.0015)]\n"
     ]
    }
   ],
   "source": [
    "print(\"Load a ply point cloud, print it, and render it\")\n",
    "pcd = o3d.io.read_point_cloud(\"../plyfolder/points3.ply\")\n",
    "print(pcd)\n",
    "print(np.asarray(pcd.points))\n",
    "o3d.visualization.draw_geometries([pcd])"
   ]
  },
  {
   "cell_type": "markdown",
   "metadata": {},
   "source": [
    "## Outlier Removal"
   ]
  },
  {
   "cell_type": "code",
   "execution_count": 22,
   "metadata": {},
   "outputs": [],
   "source": [
    "downpcd = pcd.voxel_down_sample(voxel_size=0.1)"
   ]
  },
  {
   "cell_type": "code",
   "execution_count": 23,
   "metadata": {},
   "outputs": [],
   "source": [
    "o3d.visualization.draw_geometries([downpcd])"
   ]
  },
  {
   "cell_type": "markdown",
   "metadata": {},
   "source": [
    "## Mesh Convertion"
   ]
  },
  {
   "cell_type": "code",
   "execution_count": 26,
   "metadata": {},
   "outputs": [
    {
     "name": "stdout",
     "output_type": "stream",
     "text": [
      "TriangleMesh with 21367 points and 51648 triangles.\n"
     ]
    }
   ],
   "source": [
    "alpha = 0.7\n",
    "\n",
    "mesh = o3d.geometry.TriangleMesh.create_from_point_cloud_alpha_shape(downpcd, alpha)\n",
    "mesh.compute_vertex_normals()\n",
    "print(mesh)"
   ]
  },
  {
   "cell_type": "code",
   "execution_count": 28,
   "metadata": {},
   "outputs": [],
   "source": [
    "o3d.visualization.draw_geometries([mesh], mesh_show_back_face=True)"
   ]
  },
  {
   "cell_type": "markdown",
   "metadata": {},
   "source": [
    "## Stitching"
   ]
  },
  {
   "cell_type": "code",
   "execution_count": 16,
   "metadata": {},
   "outputs": [
    {
     "name": "stdout",
     "output_type": "stream",
     "text": [
      "[Open3D DEBUG] Format auto File plyfolder/points0.ply\n",
      "[Open3D DEBUG] Read geometry::PointCloud: 24775 vertices.\n",
      "[Open3D DEBUG] [RemoveNonFinitePoints] 0 nan points have been removed.\n",
      "[Open3D DEBUG] Pointcloud down sampled from 24775 points to 24760 points.\n",
      "[Open3D DEBUG] Format auto File plyfolder/points1.ply\n",
      "[Open3D DEBUG] Read geometry::PointCloud: 25350 vertices.\n",
      "[Open3D DEBUG] [RemoveNonFinitePoints] 0 nan points have been removed.\n",
      "[Open3D DEBUG] Pointcloud down sampled from 25350 points to 25338 points.\n",
      "[Open3D DEBUG] Format auto File plyfolder/points2.ply\n",
      "[Open3D DEBUG] Read geometry::PointCloud: 25371 vertices.\n",
      "[Open3D DEBUG] [RemoveNonFinitePoints] 0 nan points have been removed.\n",
      "[Open3D DEBUG] Pointcloud down sampled from 25371 points to 25350 points.\n",
      "[Open3D DEBUG] Add geometry and update bounding box to [(-10.7788, -10.2105, 38.6302) - (10.6511, 10.6452, 55.0300)]\n",
      "[Open3D DEBUG] Add geometry and update bounding box to [(-10.7788, -10.2105, 37.8673) - (10.6511, 10.6452, 55.0300)]\n",
      "[Open3D DEBUG] Add geometry and update bounding box to [(-10.7799, -10.2105, 37.0008) - (10.6511, 10.6452, 55.0300)]\n",
      "Full registration ...\n"
     ]
    },
    {
     "ename": "AttributeError",
     "evalue": "module 'open3d' has no attribute 'registration'",
     "output_type": "error",
     "traceback": [
      "\u001b[1;31m---------------------------------------------------------------------------\u001b[0m",
      "\u001b[1;31mAttributeError\u001b[0m                            Traceback (most recent call last)",
      "\u001b[1;32m<ipython-input-16-8512707e2d93>\u001b[0m in \u001b[0;36m<module>\u001b[1;34m\u001b[0m\n\u001b[0;32m     68\u001b[0m pose_graph = full_registration(pcds_down,\n\u001b[0;32m     69\u001b[0m                                \u001b[0mmax_correspondence_distance_coarse\u001b[0m\u001b[1;33m,\u001b[0m\u001b[1;33m\u001b[0m\u001b[1;33m\u001b[0m\u001b[0m\n\u001b[1;32m---> 70\u001b[1;33m                                max_correspondence_distance_fine)\n\u001b[0m\u001b[0;32m     71\u001b[0m \u001b[1;33m\u001b[0m\u001b[0m\n\u001b[0;32m     72\u001b[0m \u001b[0mprint\u001b[0m\u001b[1;33m(\u001b[0m\u001b[1;34m\"Optimizing PoseGraph ...\"\u001b[0m\u001b[1;33m)\u001b[0m\u001b[1;33m\u001b[0m\u001b[1;33m\u001b[0m\u001b[0m\n",
      "\u001b[1;32m<ipython-input-16-8512707e2d93>\u001b[0m in \u001b[0;36mfull_registration\u001b[1;34m(pcds, max_correspondence_distance_coarse, max_correspondence_distance_fine)\u001b[0m\n\u001b[0;32m     32\u001b[0m def full_registration(pcds, max_correspondence_distance_coarse,\n\u001b[0;32m     33\u001b[0m                       max_correspondence_distance_fine):\n\u001b[1;32m---> 34\u001b[1;33m     \u001b[0mpose_graph\u001b[0m \u001b[1;33m=\u001b[0m \u001b[0mo3d\u001b[0m\u001b[1;33m.\u001b[0m\u001b[0mregistration\u001b[0m\u001b[1;33m.\u001b[0m\u001b[0mPoseGraph\u001b[0m\u001b[1;33m(\u001b[0m\u001b[1;33m)\u001b[0m\u001b[1;33m\u001b[0m\u001b[1;33m\u001b[0m\u001b[0m\n\u001b[0m\u001b[0;32m     35\u001b[0m     \u001b[0modometry\u001b[0m \u001b[1;33m=\u001b[0m \u001b[0mnp\u001b[0m\u001b[1;33m.\u001b[0m\u001b[0midentity\u001b[0m\u001b[1;33m(\u001b[0m\u001b[1;36m4\u001b[0m\u001b[1;33m)\u001b[0m\u001b[1;33m\u001b[0m\u001b[1;33m\u001b[0m\u001b[0m\n\u001b[0;32m     36\u001b[0m     \u001b[0mpose_graph\u001b[0m\u001b[1;33m.\u001b[0m\u001b[0mnodes\u001b[0m\u001b[1;33m.\u001b[0m\u001b[0mappend\u001b[0m\u001b[1;33m(\u001b[0m\u001b[0mo3d\u001b[0m\u001b[1;33m.\u001b[0m\u001b[0mregistration\u001b[0m\u001b[1;33m.\u001b[0m\u001b[0mPoseGraphNode\u001b[0m\u001b[1;33m(\u001b[0m\u001b[0modometry\u001b[0m\u001b[1;33m)\u001b[0m\u001b[1;33m)\u001b[0m\u001b[1;33m\u001b[0m\u001b[1;33m\u001b[0m\u001b[0m\n",
      "\u001b[1;31mAttributeError\u001b[0m: module 'open3d' has no attribute 'registration'"
     ]
    }
   ],
   "source": [
    "# http://www.open3d.org/docs/0.7.0/tutorial/Advanced/multiway_registration.html\n",
    "voxel_size = 0.1\n",
    "max_correspondence_distance_coarse = voxel_size * 15\n",
    "max_correspondence_distance_fine = voxel_size * 1.5\n",
    "\n",
    "file_paths = [\"plyfolder/points0.ply\",\"plyfolder/points1.ply\",\"plyfolder/points2.ply\"]\n",
    "def load_point_clouds(voxel_size=0.0):\n",
    "    pcds = []\n",
    "    for i in range(3):\n",
    "        pcd = o3d.io.read_point_cloud(file_paths[i])\n",
    "        pcd_down = pcd.voxel_down_sample(voxel_size=voxel_size)\n",
    "        pcds.append(pcd_down)\n",
    "    return pcds\n",
    "\n",
    "\n",
    "def pairwise_registration(source, target):\n",
    "    print(\"Apply point-to-plane ICP\")\n",
    "    icp_coarse = o3d.registration.registration_icp(\n",
    "        source, target, max_correspondence_distance_coarse, np.identity(4),\n",
    "        o3d.registration.TransformationEstimationPointToPlane())\n",
    "    icp_fine = o3d.registration.registration_icp(\n",
    "        source, target, max_correspondence_distance_fine,\n",
    "        icp_coarse.transformation,\n",
    "        o3d.registration.TransformationEstimationPointToPlane())\n",
    "    transformation_icp = icp_fine.transformation\n",
    "    information_icp = o3d.registration.get_information_matrix_from_point_clouds(\n",
    "        source, target, max_correspondence_distance_fine,\n",
    "        icp_fine.transformation)\n",
    "    return transformation_icp, information_icp\n",
    "\n",
    "\n",
    "def full_registration(pcds, max_correspondence_distance_coarse,\n",
    "                      max_correspondence_distance_fine):\n",
    "    pose_graph = o3d.registration.PoseGraph()\n",
    "    odometry = np.identity(4)\n",
    "    pose_graph.nodes.append(o3d.registration.PoseGraphNode(odometry))\n",
    "    n_pcds = len(pcds)\n",
    "    for source_id in range(n_pcds):\n",
    "        for target_id in range(source_id + 1, n_pcds):\n",
    "            transformation_icp, information_icp = pairwise_registration(\n",
    "                pcds[source_id], pcds[target_id])\n",
    "            print(\"Build o3d.registration.PoseGraph\")\n",
    "            if target_id == source_id + 1:  # odometry case\n",
    "                odometry = np.dot(transformation_icp, odometry)\n",
    "                pose_graph.nodes.append(\n",
    "                    o3d.registration.PoseGraphNode(np.linalg.inv(odometry)))\n",
    "                pose_graph.edges.append(\n",
    "                    o3d.registration.PoseGraphEdge(source_id,\n",
    "                                                   target_id,\n",
    "                                                   transformation_icp,\n",
    "                                                   information_icp,\n",
    "                                                   uncertain=False))\n",
    "            else:  # loop closure case\n",
    "                pose_graph.edges.append(\n",
    "                    o3d.registration.PoseGraphEdge(source_id,\n",
    "                                                   target_id,\n",
    "                                                   transformation_icp,\n",
    "                                                   information_icp,\n",
    "                                                   uncertain=True))\n",
    "    return pose_graph\n",
    "\n",
    "\n",
    "o3d.utility.set_verbosity_level(o3d.utility.VerbosityLevel.Debug)\n",
    "pcds_down = load_point_clouds(voxel_size)\n",
    "o3d.visualization.draw_geometries(pcds_down)\n",
    "\n",
    "print(\"Full registration ...\")\n",
    "pose_graph = full_registration(pcds_down,\n",
    "                               max_correspondence_distance_coarse,\n",
    "                               max_correspondence_distance_fine)\n",
    "\n",
    "print(\"Optimizing PoseGraph ...\")\n",
    "option = o3d.registration.GlobalOptimizationOption(\n",
    "    max_correspondence_distance=max_correspondence_distance_fine,\n",
    "    edge_prune_threshold=0.25,\n",
    "    reference_node=0)\n",
    "o3d.registration.global_optimization(\n",
    "    pose_graph, o3d.registration.GlobalOptimizationLevenbergMarquardt(),\n",
    "    o3d.registration.GlobalOptimizationConvergenceCriteria(), option)\n",
    "\n",
    "print(\"Transform points and display\")\n",
    "for point_id in range(len(pcds_down)):\n",
    "    print(pose_graph.nodes[point_id].pose)\n",
    "    pcds_down[point_id].transform(pose_graph.nodes[point_id].pose)\n",
    "o3d.visualization.draw_geometries(pcds_down)\n",
    "\n",
    "print(\"Make a combined point cloud\")\n",
    "pcds = load_point_clouds(voxel_size)\n",
    "pcd_combined = o3d.geometry.PointCloud()\n",
    "for point_id in range(len(pcds)):\n",
    "    pcds[point_id].transform(pose_graph.nodes[point_id].pose)\n",
    "    pcd_combined += pcds[point_id]\n",
    "pcd_combined_down = o3d.geometry.voxel_down_sample(pcd_combined,\n",
    "                                                       voxel_size=voxel_size)\n",
    "o3d.io.write_point_cloud(\"multiway_registration.pcd\", pcd_combined_down)\n",
    "o3d.visualization.draw_geometries([pcd_combined_down])"
   ]
  },
  {
   "cell_type": "code",
   "execution_count": null,
   "metadata": {},
   "outputs": [],
   "source": []
  },
  {
   "cell_type": "code",
   "execution_count": null,
   "metadata": {},
   "outputs": [],
   "source": []
  }
 ],
 "metadata": {
  "kernelspec": {
   "display_name": "Python 3",
   "language": "python",
   "name": "python3"
  },
  "language_info": {
   "codemirror_mode": {
    "name": "ipython",
    "version": 3
   },
   "file_extension": ".py",
   "mimetype": "text/x-python",
   "name": "python",
   "nbconvert_exporter": "python",
   "pygments_lexer": "ipython3",
   "version": "3.7.4"
  }
 },
 "nbformat": 4,
 "nbformat_minor": 2
}
