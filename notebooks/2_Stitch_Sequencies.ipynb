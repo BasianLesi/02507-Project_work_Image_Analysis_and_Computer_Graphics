{
 "cells": [
  {
   "cell_type": "markdown",
   "metadata": {},
   "source": [
    "# Functions"
   ]
  },
  {
   "cell_type": "code",
   "execution_count": 2,
   "metadata": {},
   "outputs": [
    {
     "name": "stdout",
     "output_type": "stream",
     "text": [
      "loaded variables: \n",
      "myparams, myconfiguration_file\n"
     ]
    }
   ],
   "source": [
    "#%run \"../Notebooks/initialization.ipynb\"\n",
    "%run \"../Notebooks/Stitching_functions.ipynb\"\n",
    "%run \"../Notebooks/Visualization_functions.ipynb\"\n",
    "%run \"../Notebooks/Downsampling_and_outliers_functions.ipynb\"\n",
    "%load_ext autoreload"
   ]
  },
  {
   "cell_type": "markdown",
   "metadata": {},
   "source": [
    "# Sort sequences appropriately"
   ]
  },
  {
   "cell_type": "markdown",
   "metadata": {},
   "source": [
    "Given the initial 10 teeth: \n",
    "- external images are sorted as 0 to 9\n",
    "- internal images are sorted as 9 to 0\n",
    "- upper images are sorted as 0 to 9\n",
    "\n",
    "need to reverse the order of internal images and ply\n"
   ]
  },
  {
   "cell_type": "code",
   "execution_count": 3,
   "metadata": {},
   "outputs": [],
   "source": [
    "num_teeth = 10\n",
    "\n",
    "external_ply = [o3d.io.read_point_cloud(path) for path in all_paths_ply[:num_teeth]]\n",
    "internal_ply = [o3d.io.read_point_cloud(path) for path in all_paths_ply[num_teeth:2*num_teeth]]\n",
    "#upper_ply = [o3d.io.read_point_cloud(path) for path in all_paths_ply[-num_teeth:]]"
   ]
  },
  {
   "cell_type": "code",
   "execution_count": 4,
   "metadata": {},
   "outputs": [],
   "source": [
    "# reverse in place the internal ones\n",
    "internal_ply.reverse()"
   ]
  },
  {
   "cell_type": "code",
   "execution_count": 6,
   "metadata": {},
   "outputs": [],
   "source": [
    "# create sets of three could per tooth\n",
    "dictionary_pointclouds= { t: (external_ply[t],\n",
    "                              internal_ply[t]#,\n",
    "                              #upper_ply[t]\n",
    "                             ) for t in list(range(num_teeth))}"
   ]
  },
  {
   "cell_type": "markdown",
   "metadata": {},
   "source": [
    "# stitching sequences "
   ]
  },
  {
   "cell_type": "markdown",
   "metadata": {},
   "source": [
    "being in sequence the overlapping in a proper stitching should be high.\n",
    "\n",
    "Therefore we put a condition:\n",
    "> while result_icp.correspondence_set < 0.7*(len(np.asarray(target.points)))\n",
    "> do execute_global_registration\n",
    "> do refine_registration"
   ]
  },
  {
   "cell_type": "code",
   "execution_count": 7,
   "metadata": {},
   "outputs": [],
   "source": [
    "start = timer()"
   ]
  },
  {
   "cell_type": "code",
   "execution_count": 8,
   "metadata": {
    "scrolled": true
   },
   "outputs": [
    {
     "name": "stdout",
     "output_type": "stream",
     "text": [
      "13012021-10h49m28s\n"
     ]
    },
    {
     "data": {
      "application/vnd.jupyter.widget-view+json": {
       "model_id": "a33f28465d6f489ab39b60b3590442ae",
       "version_major": 2,
       "version_minor": 0
      },
      "text/plain": [
       "  0%|          | 0/9 [00:00<?, ?it/s]"
      ]
     },
     "metadata": {},
     "output_type": "display_data"
    },
    {
     "name": "stdout",
     "output_type": "stream",
     "text": [
      "--------------------------------------------------------------------------------\n",
      "stitching : imgs_0-1\n",
      "\n",
      "\n",
      "\n",
      "--------------------------------------------------------------------------------\n",
      "stitching : imgs_0-1-2\n",
      "\n",
      "\n",
      "\n",
      "--------------------------------------------------------------------------------\n",
      "stitching : imgs_0-1-2-3\n",
      "\n",
      "\n",
      "\n",
      "--------------------------------------------------------------------------------\n",
      "stitching : imgs_0-1-2-3-4\n",
      "\n",
      "\n",
      "\n",
      "--------------------------------------------------------------------------------\n",
      "stitching : imgs_0-1-2-3-4-5\n",
      "\n",
      "\n",
      "\n",
      "--------------------------------------------------------------------------------\n",
      "stitching : imgs_0-1-2-3-4-5-6\n",
      "\n",
      "\n",
      "\n",
      "--------------------------------------------------------------------------------\n",
      "stitching : imgs_0-1-2-3-4-5-6-7\n",
      "\n",
      "\n",
      "\n",
      "--------------------------------------------------------------------------------\n",
      "stitching : imgs_0-1-2-3-4-5-6-7-8\n",
      "\n",
      "\n",
      "\n",
      "--------------------------------------------------------------------------------\n",
      "stitching : imgs_0-1-2-3-4-5-6-7-8-9\n",
      "\n",
      "\n",
      "\n"
     ]
    }
   ],
   "source": [
    "t = 0\n",
    "list_new_pointclouds = []\n",
    "\n",
    "now = datetime.now()\n",
    "dt_string = now.strftime(\"%d%m%Y-%Hh%Mm%Ss\")\n",
    "print(dt_string)\n",
    "mytitle = \"imgs_%s\"%t\n",
    "\n",
    "for t in tqdm(list(range(9))):\n",
    "    print(dash)\n",
    "    mytitle = mytitle +\"-%s\"%(t+1)\n",
    "    #print (mytitle)\n",
    "    \n",
    "    if len(list_new_pointclouds) == 0:\n",
    "        source = external_ply[t]\n",
    "    else:\n",
    "        source = list_new_pointclouds[-1]\n",
    "        \n",
    "    target = external_ply[t+1]\n",
    "\n",
    "    newpointcloud_last,trasformations_list = stitch_two_point_clouds(source,\n",
    "                                        target,\n",
    "                                        mytitle,\n",
    "                                        dt_string,\n",
    "                                        voxel_size =0.1,\n",
    "                                        calculate_global = True,\n",
    "                                        calculate_icp = True,\n",
    "                                        trans_init = None,\n",
    "                                        pprint_statements = False,\n",
    "                                        save_statements = False,\n",
    "                                        visualization_on = False,\n",
    "                                        final_vis_on = False,\n",
    "                                        mmax_iteration = 10**6,\n",
    "                                        mmax_validation = 0.7\n",
    "                                       )\n",
    "\n",
    "    list_new_pointclouds.append(newpointcloud_last)"
   ]
  },
  {
   "cell_type": "code",
   "execution_count": 10,
   "metadata": {},
   "outputs": [
    {
     "name": "stdout",
     "output_type": "stream",
     "text": [
      "\u001b[1;33m[Open3D WARNING] GLFW Error: The GLFW library is not initialized\u001b[0;m\n"
     ]
    }
   ],
   "source": [
    "stitched_external_pc = list_new_pointclouds[-1]\n",
    "\n",
    "\n",
    "custom_draw_geometry(list_new_pointclouds[-1],\n",
    "                     params = myparams,  # parameter for camera point view, json file via pressing P\n",
    "                     configuration_file = myconfiguration_file, # configuration file for properties, json file via pressing o\n",
    "                     take_screen_shot = False,\n",
    "                     rotate = True)\n"
   ]
  },
  {
   "cell_type": "code",
   "execution_count": 11,
   "metadata": {
    "scrolled": true
   },
   "outputs": [
    {
     "name": "stdout",
     "output_type": "stream",
     "text": [
      "13012021-11h06m25s\n"
     ]
    },
    {
     "data": {
      "application/vnd.jupyter.widget-view+json": {
       "model_id": "0a95ebcbfba5474fb242d75ac6c7b571",
       "version_major": 2,
       "version_minor": 0
      },
      "text/plain": [
       "  0%|          | 0/9 [00:00<?, ?it/s]"
      ]
     },
     "metadata": {},
     "output_type": "display_data"
    },
    {
     "name": "stdout",
     "output_type": "stream",
     "text": [
      "--------------------------------------------------------------------------------\n"
     ]
    },
    {
     "ename": "NameError",
     "evalue": "name 'upper_ply' is not defined",
     "output_type": "error",
     "traceback": [
      "\u001b[0;31m---------------------------------------------------------------------------\u001b[0m",
      "\u001b[0;31mNameError\u001b[0m                                 Traceback (most recent call last)",
      "\u001b[0;32m<ipython-input-11-dce432dd57d1>\u001b[0m in \u001b[0;36m<module>\u001b[0;34m\u001b[0m\n\u001b[1;32m     13\u001b[0m \u001b[0;34m\u001b[0m\u001b[0m\n\u001b[1;32m     14\u001b[0m     \u001b[0;32mif\u001b[0m \u001b[0mlen\u001b[0m\u001b[0;34m(\u001b[0m\u001b[0mlist_new_pointclouds\u001b[0m\u001b[0;34m)\u001b[0m \u001b[0;34m==\u001b[0m \u001b[0;36m0\u001b[0m\u001b[0;34m:\u001b[0m\u001b[0;34m\u001b[0m\u001b[0;34m\u001b[0m\u001b[0m\n\u001b[0;32m---> 15\u001b[0;31m         \u001b[0msource\u001b[0m \u001b[0;34m=\u001b[0m \u001b[0mupper_ply\u001b[0m\u001b[0;34m[\u001b[0m\u001b[0mt\u001b[0m\u001b[0;34m]\u001b[0m\u001b[0;34m\u001b[0m\u001b[0;34m\u001b[0m\u001b[0m\n\u001b[0m\u001b[1;32m     16\u001b[0m     \u001b[0;32melse\u001b[0m\u001b[0;34m:\u001b[0m\u001b[0;34m\u001b[0m\u001b[0;34m\u001b[0m\u001b[0m\n\u001b[1;32m     17\u001b[0m         \u001b[0msource\u001b[0m \u001b[0;34m=\u001b[0m \u001b[0mlist_new_pointclouds\u001b[0m\u001b[0;34m[\u001b[0m\u001b[0;34m-\u001b[0m\u001b[0;36m1\u001b[0m\u001b[0;34m]\u001b[0m\u001b[0;34m\u001b[0m\u001b[0;34m\u001b[0m\u001b[0m\n",
      "\u001b[0;31mNameError\u001b[0m: name 'upper_ply' is not defined"
     ]
    }
   ],
   "source": [
    "t = 0\n",
    "list_new_pointclouds = []\n",
    "\n",
    "now = datetime.now()\n",
    "dt_string = now.strftime(\"%d%m%Y-%Hh%Mm%Ss\")\n",
    "print(dt_string)\n",
    "mytitle = \"imgs_%s\"%t\n",
    "\n",
    "for t in tqdm(list(range(9))):\n",
    "    print(dash)\n",
    "    mytitle = mytitle +\"-%s\"%(t+1)\n",
    "    #print (mytitle)\n",
    "    \n",
    "    if len(list_new_pointclouds) == 0:\n",
    "        source = upper_ply[t]\n",
    "    else:\n",
    "        source = list_new_pointclouds[-1]\n",
    "    target = upper_ply[t+1]\n",
    "\n",
    "    newpointcloud_last,trasformations_list = stitch_two_point_clouds(source,\n",
    "                                        target,\n",
    "                                        mytitle,\n",
    "                                        dt_string,\n",
    "                                        voxel_size =0.1,\n",
    "                                        calculate_global = True,\n",
    "                                        calculate_icp = True,\n",
    "                                        trans_init = None,\n",
    "                                        pprint_statements = False,\n",
    "                                        save_statements = False,\n",
    "                                        visualization_on = False,\n",
    "                                        final_vis_on = False,\n",
    "                                        mmax_iteration = 10**6,\n",
    "                                        mmax_validation = 0.7\n",
    "                                       )\n",
    "\n",
    "    list_new_pointclouds.append(newpointcloud_last)"
   ]
  },
  {
   "cell_type": "code",
   "execution_count": 20,
   "metadata": {},
   "outputs": [
    {
     "data": {
      "text/plain": [
       "'\\ncustom_draw_geometry(list_new_pointclouds[-1],\\n                     params = myparams,  # parameter for camera point view, json file via pressing P\\n                     configuration_file = myconfiguration_file, # configuration file for properties, json file via pressing o\\n                     take_screen_shot = False,\\n                     rotate = True)\\n'"
      ]
     },
     "execution_count": 20,
     "metadata": {},
     "output_type": "execute_result"
    }
   ],
   "source": [
    "#o3d.visualization.draw_geometries([list_new_pointclouds[-1]])\n",
    "stitched_upper_pc = list_new_pointclouds[-1]\n",
    "\n",
    "\"\"\"\n",
    "custom_draw_geometry(list_new_pointclouds[-1],\n",
    "                     params = myparams,  # parameter for camera point view, json file via pressing P\n",
    "                     configuration_file = myconfiguration_file, # configuration file for properties, json file via pressing o\n",
    "                     take_screen_shot = False,\n",
    "                     rotate = True)\n",
    "\"\"\""
   ]
  },
  {
   "cell_type": "code",
   "execution_count": 12,
   "metadata": {
    "scrolled": true
   },
   "outputs": [
    {
     "name": "stdout",
     "output_type": "stream",
     "text": [
      "13012021-11h06m48s\n"
     ]
    },
    {
     "data": {
      "application/vnd.jupyter.widget-view+json": {
       "model_id": "41ae77eaf4154c3b9dfbb3cdf68c279c",
       "version_major": 2,
       "version_minor": 0
      },
      "text/plain": [
       "  0%|          | 0/9 [00:00<?, ?it/s]"
      ]
     },
     "metadata": {},
     "output_type": "display_data"
    },
    {
     "name": "stdout",
     "output_type": "stream",
     "text": [
      "--------------------------------------------------------------------------------\n",
      "stitching : imgs_0-1\n",
      "\n",
      "\n",
      "\n",
      "--------------------------------------------------------------------------------\n",
      "stitching : imgs_0-1-2\n",
      "\n",
      "\n",
      "\n",
      "--------------------------------------------------------------------------------\n",
      "stitching : imgs_0-1-2-3\n",
      "\n",
      "\n",
      "\n",
      "--------------------------------------------------------------------------------\n",
      "stitching : imgs_0-1-2-3-4\n",
      "\n",
      "\n",
      "\n",
      "--------------------------------------------------------------------------------\n",
      "stitching : imgs_0-1-2-3-4-5\n",
      "\n",
      "\n",
      "\n",
      "--------------------------------------------------------------------------------\n",
      "stitching : imgs_0-1-2-3-4-5-6\n",
      "\n",
      "\n",
      "\n",
      "--------------------------------------------------------------------------------\n",
      "stitching : imgs_0-1-2-3-4-5-6-7\n",
      "\n",
      "\n",
      "\n",
      "--------------------------------------------------------------------------------\n",
      "stitching : imgs_0-1-2-3-4-5-6-7-8\n",
      "\n",
      "\n",
      "\n",
      "--------------------------------------------------------------------------------\n",
      "stitching : imgs_0-1-2-3-4-5-6-7-8-9\n",
      "\n",
      "\n",
      "\n"
     ]
    }
   ],
   "source": [
    "t = 0\n",
    "list_new_pointclouds = []\n",
    "\n",
    "now = datetime.now()\n",
    "dt_string = now.strftime(\"%d%m%Y-%Hh%Mm%Ss\")\n",
    "print(dt_string)\n",
    "mytitle = \"imgs_%s\"%t\n",
    "\n",
    "for t in tqdm(list(range(9))):\n",
    "    print(dash)\n",
    "    mytitle = mytitle +\"-%s\"%(t+1)\n",
    "    #print (mytitle)\n",
    "    \n",
    "    if len(list_new_pointclouds) == 0:\n",
    "        source = internal_ply[t]\n",
    "    else:\n",
    "        source = list_new_pointclouds[-1]\n",
    "    target = internal_ply[t+1]\n",
    "\n",
    "    newpointcloud_last,trasformations_list = stitch_two_point_clouds(source,\n",
    "                                        target,\n",
    "                                        mytitle,\n",
    "                                        dt_string,\n",
    "                                        voxel_size =0.1,\n",
    "                                        calculate_global = True,\n",
    "                                        calculate_icp = True,\n",
    "                                        trans_init = None,\n",
    "                                        pprint_statements = False,\n",
    "                                        save_statements = False,\n",
    "                                        visualization_on = False,\n",
    "                                        final_vis_on = False,\n",
    "                                        mmax_iteration = 10**6,\n",
    "                                        mmax_validation = 0.7\n",
    "                                       )\n",
    "\n",
    "    list_new_pointclouds.append(newpointcloud_last)"
   ]
  },
  {
   "cell_type": "code",
   "execution_count": 17,
   "metadata": {},
   "outputs": [
    {
     "name": "stdout",
     "output_type": "stream",
     "text": [
      "\u001b[1;33m[Open3D WARNING] GLFW Error: The GLFW library is not initialized\u001b[0;m\n"
     ]
    }
   ],
   "source": [
    "#o3d.visualization.draw_geometries([list_new_pointclouds[-1]])\n",
    "stitched_internal_pc = list_new_pointclouds[-1]\n",
    "\n",
    "custom_draw_geometry(stitched_internal_pc,\n",
    "                     params = myparams,  # parameter for camera point view, json file via pressing P\n",
    "                     configuration_file = myconfiguration_file, # configuration file for properties, json file via pressing o\n",
    "                     take_screen_shot = False,\n",
    "                     rotate = True)\n"
   ]
  },
  {
   "cell_type": "code",
   "execution_count": 13,
   "metadata": {},
   "outputs": [],
   "source": [
    "end = timer()"
   ]
  },
  {
   "cell_type": "code",
   "execution_count": 14,
   "metadata": {},
   "outputs": [
    {
     "name": "stdout",
     "output_type": "stream",
     "text": [
      "duration: 2306.1037368260004\n"
     ]
    }
   ],
   "source": [
    "print (f\"duration: {end-start}\")"
   ]
  },
  {
   "cell_type": "markdown",
   "metadata": {},
   "source": [
    "## results visualizations"
   ]
  },
  {
   "cell_type": "code",
   "execution_count": 20,
   "metadata": {},
   "outputs": [],
   "source": [
    "# all together, static\n",
    "o3d.visualization.draw_geometries([stitched_external_pc.paint_uniform_color([0.5, 0, 0]),\n",
    "                                   stitched_internal_pc.paint_uniform_color([0, 0.5, 0]),\n",
    "                                   #stitched_upper_pc.paint_uniform_color([0, 0, 0.5])\n",
    "                                    ],\n",
    "                                  width=1000, height=800,\n",
    "                                  window_name='3 raw views of tooth %s'%t\n",
    "                                 )"
   ]
  },
  {
   "cell_type": "code",
   "execution_count": 27,
   "metadata": {},
   "outputs": [
    {
     "name": "stdout",
     "output_type": "stream",
     "text": [
      "loading parameters: \n",
      "  ./ScreenCamera_2021-01-11-12-06-34.json\n",
      "loading configuration file: \n",
      "  RenderOption_2021-01-11-12-22-53.json\n",
      "\u001b[1;33m[Open3D WARNING] GLFW Error: The GLFW library is not initialized\u001b[0;m\n",
      "loading parameters: \n",
      "  ./ScreenCamera_2021-01-11-12-06-34.json\n",
      "loading configuration file: \n",
      "  RenderOption_2021-01-11-12-22-53.json\n",
      "\u001b[1;33m[Open3D WARNING] GLFW Error: The GLFW library is not initialized\u001b[0;m\n",
      "loading parameters: \n",
      "  ./ScreenCamera_2021-01-11-12-06-34.json\n",
      "loading configuration file: \n",
      "  RenderOption_2021-01-11-12-22-53.json\n",
      "\u001b[1;33m[Open3D WARNING] GLFW Error: The GLFW library is not initialized\u001b[0;m\n"
     ]
    }
   ],
   "source": [
    "# sequential, dynamic\n",
    "labels_stitches = [\"stitched_external_pc\",\"stitched_internal_pc\", \"stitched_upper_pc\"]\n",
    "list_stitches = [stitched_external_pc,stitched_internal_pc,stitched_upper_pc]\n",
    "color_stitches = [[1, 0.706, 0],[0, 0.651, 0.929],[0,0.7,0.3]]\n",
    "\n",
    "# plot a list of geometries\n",
    "custom_draw_geometry([list_stitches[:]],\n",
    "                     mytitle = [labels_stitches[:]],\n",
    "                     params = myparams,  # parameter for camera point view, json file via pressing P\n",
    "                     configuration_file = myconfiguration_file, # configuration file for properties, json file via pressing o\n",
    "                     take_screen_shot = False,\n",
    "                     rotate = True)"
   ]
  },
  {
   "cell_type": "code",
   "execution_count": 28,
   "metadata": {},
   "outputs": [
    {
     "name": "stdout",
     "output_type": "stream",
     "text": [
      "12012021-09h29m26s\n"
     ]
    }
   ],
   "source": [
    "print (dt_string)"
   ]
  },
  {
   "cell_type": "markdown",
   "metadata": {},
   "source": [
    "## store locally\n",
    "\n",
    "official and backup with timestamp"
   ]
  },
  {
   "cell_type": "code",
   "execution_count": 19,
   "metadata": {},
   "outputs": [
    {
     "data": {
      "text/plain": [
       "True"
      ]
     },
     "execution_count": 19,
     "metadata": {},
     "output_type": "execute_result"
    }
   ],
   "source": [
    "#save\n",
    "o3d.io.write_point_cloud(dt_string+\"stitched_external_pc.pcd\", stitched_external_pc)\n",
    "o3d.io.write_point_cloud(dt_string+\"stitched_internal_pc.pcd\", stitched_internal_pc)\n",
    "#o3d.io.write_point_cloud(dt_string+\"stitched_upper_pc.pcd\", stitched_upper_pc)\n",
    "o3d.io.write_point_cloud(\"stitched_external_pc.pcd\", stitched_external_pc)\n",
    "o3d.io.write_point_cloud(\"stitched_internal_pc.pcd\", stitched_internal_pc)\n",
    "#o3d.io.write_point_cloud(\"stitched_upper_pc.pcd\", stitched_upper_pc)\n"
   ]
  },
  {
   "cell_type": "code",
   "execution_count": null,
   "metadata": {},
   "outputs": [],
   "source": []
  }
 ],
 "metadata": {
  "kernelspec": {
   "display_name": "Python 3",
   "language": "python",
   "name": "python3"
  },
  "language_info": {
   "codemirror_mode": {
    "name": "ipython",
    "version": 3
   },
   "file_extension": ".py",
   "mimetype": "text/x-python",
   "name": "python",
   "nbconvert_exporter": "python",
   "pygments_lexer": "ipython3",
   "version": "3.8.5"
  }
 },
 "nbformat": 4,
 "nbformat_minor": 4
}
