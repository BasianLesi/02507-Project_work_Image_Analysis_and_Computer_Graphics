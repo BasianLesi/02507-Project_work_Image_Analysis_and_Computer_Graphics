{
 "cells": [
  {
   "cell_type": "code",
   "execution_count": 39,
   "metadata": {},
   "outputs": [
    {
     "name": "stdout",
     "output_type": "stream",
     "text": [
      "Clustering, Plotting and Meshing loaded at 09:41:36\n"
     ]
    }
   ],
   "source": [
    "import open3d as o3d\n",
    "import numpy as np\n",
    "import copy\n",
    "import trimesh\n",
    "import threading\n",
    "import time\n",
    "from multiprocessing.pool import ThreadPool\n",
    "\n",
    "%run \"../Notebooks/ClusteringPlottingMeshing.ipynb\"\n",
    "%run \"../Notebooks/Stitching_functions.ipynb\""
   ]
  },
  {
   "cell_type": "code",
   "execution_count": 9,
   "metadata": {},
   "outputs": [
    {
     "data": {
      "text/plain": [
       "PointCloud with 299291 points."
      ]
     },
     "execution_count": 9,
     "metadata": {},
     "output_type": "execute_result"
    }
   ],
   "source": [
    "model_mesh = o3d.io.read_triangle_mesh(\"../data/dental.stl\")\n",
    "model_mesh.scale(1000, [0,0,0])\n",
    "model_mesh.compute_vertex_normals()\n",
    "source_original = o3d.geometry.PointCloud()\n",
    "source_original.points = model_mesh.vertices\n",
    "source_original.estimate_normals()\n",
    "\n",
    "source_original.paint_uniform_color([0.2,0.2,0.8])\n",
    "target_original = o3d.io.read_point_cloud(\"../data/st_cropped_2.ply\")\n",
    "target_original.estimate_normals()\n",
    "target_original.paint_uniform_color([0.8,0.2,0.2])\n",
    "\n",
    "#source_original.paint_uniform_color([0.2,0.2,0.8])\n",
    "#target_original = o3d.io.read_point_cloud(\"../data/plyfolder/points0.ply\")\n",
    "#target_original.estimate_normals()\n",
    "#target_original.paint_uniform_color([0.8,0.2,0.2])\n",
    "\n",
    "\n",
    "#print(source_original, target_original)"
   ]
  },
  {
   "cell_type": "code",
   "execution_count": 10,
   "metadata": {},
   "outputs": [],
   "source": [
    "def draw_results(src, tar, trans):\n",
    "    src_copy = copy.deepcopy(src)\n",
    "    tar_copy = copy.deepcopy(tar)\n",
    "    tar_copy.transform(trans)\n",
    "    o3d.visualization.draw_geometries([src_copy,tar_copy], mesh_show_back_face=True)"
   ]
  },
  {
   "cell_type": "code",
   "execution_count": 11,
   "metadata": {},
   "outputs": [],
   "source": [
    "#m, t, c = trimesh.registration.icp(np.asarray(source_down.points), np.asarray(target_down.points), threshold = 0.02, max_iterations = 20)"
   ]
  },
  {
   "cell_type": "code",
   "execution_count": 12,
   "metadata": {},
   "outputs": [],
   "source": [
    "#result = o3d.geometry.PointCloud()\n",
    "#result.points = o3d.cpu.pybind.utility.Vector3dVector(t)\n",
    "#result.estimate_normals()\n",
    "#result.paint_uniform_color([0.2,0.8,0.2])"
   ]
  },
  {
   "cell_type": "code",
   "execution_count": 13,
   "metadata": {},
   "outputs": [],
   "source": [
    "#o3d.visualization.draw_geometries([target,result], mesh_show_back_face=True)"
   ]
  },
  {
   "cell_type": "code",
   "execution_count": 14,
   "metadata": {},
   "outputs": [],
   "source": [
    "#voxel_size = 0.01\n",
    "#source_down = source.voxel_down_sample(voxel_size)"
   ]
  },
  {
   "cell_type": "code",
   "execution_count": 15,
   "metadata": {},
   "outputs": [],
   "source": [
    "source = copy.deepcopy(model_mesh)\n",
    "source = copy.deepcopy(source_original)\n",
    "target = copy.deepcopy(target_original)\n",
    "\n",
    "\n",
    "\n",
    "transformation_setup = np.linalg.inv(np.array([\n",
    " [ -0.42848023,   0.89551476,  -0.12024146,  18.96549334],\n",
    " [ -0.72105517,  -0.41909148,  -0.55176243,  -4.08932589],\n",
    " [ -0.54450357,  -0.14971857,   0.82528796, -14.90926351],\n",
    " [  0.        ,   0.        ,   0.        ,   1.        ]]))\n",
    "\n",
    "transformation_setup = np.linalg.inv(np.array([\n",
    "     [ -0.42769944,   0.89569105,  -0.12169932,  19.20310461],\n",
    "     [ -0.7399105,   -0.42424645,  -0.52206073,  -6.14917153],\n",
    "     [ -0.51923563,  -0.13323848,   0.84418118,  -14.54139077],\n",
    "     [  0.,           0.,           0.,           1.        ]]))\n",
    "\n",
    "transformation_setup = np.linalg.inv(np.array([\n",
    "     [ -0.42936695,   0.89689573,  -0.10593428,  18.08900141],\n",
    "     [ -0.73091052,  -0.4139897 ,  -0.54257012,  -4.68199364],\n",
    "     [ -0.53048452,  -0.15553319,   0.83330402, -14.77113242],\n",
    "     [  0.        ,   0.        ,   0.        ,   1.        ]]))\n",
    "\n",
    "target.transform(transformation_setup)\n",
    "\n",
    "\n",
    "\n",
    "voxel_size = 0.5\n",
    "#source_down = source.voxel_down_sample(voxel_size)\n",
    "target_down = target.voxel_down_sample(voxel_size)\n",
    "\n",
    "#print(source_down, target_down)"
   ]
  },
  {
   "cell_type": "code",
   "execution_count": 28,
   "metadata": {},
   "outputs": [],
   "source": [
    "o3d.visualization.draw_geometries([source,target_down], mesh_show_back_face=True)"
   ]
  },
  {
   "cell_type": "code",
   "execution_count": 16,
   "metadata": {},
   "outputs": [],
   "source": [
    "#crop model to reduce processing time\n",
    "boundingbox = o3d.geometry.OrientedBoundingBox.create_from_points(target.points)\n",
    "cropped_mesh = copy.deepcopy(model_mesh).crop(boundingbox) \n",
    "\n",
    "o3d.visualization.draw_geometries([cropped_mesh,target,boundingbox], mesh_show_back_face=True)"
   ]
  },
  {
   "cell_type": "code",
   "execution_count": null,
   "metadata": {},
   "outputs": [],
   "source": [
    "o3d.visualization.draw_geometries([cropped_mesh,target,boundingbox], mesh_show_back_face=True)"
   ]
  },
  {
   "cell_type": "code",
   "execution_count": null,
   "metadata": {},
   "outputs": [],
   "source": [
    "dists = np.asarray(source.compute_point_cloud_distance(target))\n",
    "print(\"Hausdorff:\", max(dists))\n",
    "print(\"Median:\", np.median(dists))\n",
    "print(\"Mean:\", np.mean(dists))\n",
    "print(\"Mean Squared Error:\", np.mean(dists*dists))"
   ]
  },
  {
   "cell_type": "markdown",
   "metadata": {},
   "source": [
    "Hausdorff: 50.9394356497245\n",
    "Median: 26.624638329827974\n",
    "Mean: 24.168652337745673\n",
    "Mean Squared Error: 741.6561698445337"
   ]
  },
  {
   "cell_type": "code",
   "execution_count": 14,
   "metadata": {},
   "outputs": [],
   "source": [
    "signed_distance = trimesh.proximity.signed_distance(convert(cropped_mesh), np.asarray(target_down.points)[0:1])"
   ]
  },
  {
   "cell_type": "code",
   "execution_count": 42,
   "metadata": {},
   "outputs": [
    {
     "ename": "TypeError",
     "evalue": "test() takes 1 positional argument but 3 were given",
     "output_type": "error",
     "traceback": [
      "\u001b[1;31m---------------------------------------------------------------------------\u001b[0m",
      "\u001b[1;31mTypeError\u001b[0m                                 Traceback (most recent call last)",
      "\u001b[1;32m<ipython-input-42-1c6f5371d57d>\u001b[0m in \u001b[0;36m<module>\u001b[1;34m\u001b[0m\n\u001b[0;32m     21\u001b[0m \u001b[1;31m# do some other stuff in the main process\u001b[0m\u001b[1;33m\u001b[0m\u001b[1;33m\u001b[0m\u001b[1;33m\u001b[0m\u001b[0m\n\u001b[0;32m     22\u001b[0m \u001b[1;33m\u001b[0m\u001b[0m\n\u001b[1;32m---> 23\u001b[1;33m \u001b[0mdists\u001b[0m \u001b[1;33m=\u001b[0m \u001b[0masync_result\u001b[0m\u001b[1;33m.\u001b[0m\u001b[0mget\u001b[0m\u001b[1;33m(\u001b[0m\u001b[1;33m)\u001b[0m  \u001b[1;31m# get the return value from your function.\u001b[0m\u001b[1;33m\u001b[0m\u001b[1;33m\u001b[0m\u001b[0m\n\u001b[0m\u001b[0;32m     24\u001b[0m \u001b[1;33m\u001b[0m\u001b[0m\n",
      "\u001b[1;32mC:\\tools\\Anaconda3\\lib\\multiprocessing\\pool.py\u001b[0m in \u001b[0;36mget\u001b[1;34m(self, timeout)\u001b[0m\n\u001b[0;32m    655\u001b[0m             \u001b[1;32mreturn\u001b[0m \u001b[0mself\u001b[0m\u001b[1;33m.\u001b[0m\u001b[0m_value\u001b[0m\u001b[1;33m\u001b[0m\u001b[1;33m\u001b[0m\u001b[0m\n\u001b[0;32m    656\u001b[0m         \u001b[1;32melse\u001b[0m\u001b[1;33m:\u001b[0m\u001b[1;33m\u001b[0m\u001b[1;33m\u001b[0m\u001b[0m\n\u001b[1;32m--> 657\u001b[1;33m             \u001b[1;32mraise\u001b[0m \u001b[0mself\u001b[0m\u001b[1;33m.\u001b[0m\u001b[0m_value\u001b[0m\u001b[1;33m\u001b[0m\u001b[1;33m\u001b[0m\u001b[0m\n\u001b[0m\u001b[0;32m    658\u001b[0m \u001b[1;33m\u001b[0m\u001b[0m\n\u001b[0;32m    659\u001b[0m     \u001b[1;32mdef\u001b[0m \u001b[0m_set\u001b[0m\u001b[1;33m(\u001b[0m\u001b[0mself\u001b[0m\u001b[1;33m,\u001b[0m \u001b[0mi\u001b[0m\u001b[1;33m,\u001b[0m \u001b[0mobj\u001b[0m\u001b[1;33m)\u001b[0m\u001b[1;33m:\u001b[0m\u001b[1;33m\u001b[0m\u001b[1;33m\u001b[0m\u001b[0m\n",
      "\u001b[1;32mC:\\tools\\Anaconda3\\lib\\multiprocessing\\pool.py\u001b[0m in \u001b[0;36mworker\u001b[1;34m(inqueue, outqueue, initializer, initargs, maxtasks, wrap_exception)\u001b[0m\n\u001b[0;32m    119\u001b[0m         \u001b[0mjob\u001b[0m\u001b[1;33m,\u001b[0m \u001b[0mi\u001b[0m\u001b[1;33m,\u001b[0m \u001b[0mfunc\u001b[0m\u001b[1;33m,\u001b[0m \u001b[0margs\u001b[0m\u001b[1;33m,\u001b[0m \u001b[0mkwds\u001b[0m \u001b[1;33m=\u001b[0m \u001b[0mtask\u001b[0m\u001b[1;33m\u001b[0m\u001b[1;33m\u001b[0m\u001b[0m\n\u001b[0;32m    120\u001b[0m         \u001b[1;32mtry\u001b[0m\u001b[1;33m:\u001b[0m\u001b[1;33m\u001b[0m\u001b[1;33m\u001b[0m\u001b[0m\n\u001b[1;32m--> 121\u001b[1;33m             \u001b[0mresult\u001b[0m \u001b[1;33m=\u001b[0m \u001b[1;33m(\u001b[0m\u001b[1;32mTrue\u001b[0m\u001b[1;33m,\u001b[0m \u001b[0mfunc\u001b[0m\u001b[1;33m(\u001b[0m\u001b[1;33m*\u001b[0m\u001b[0margs\u001b[0m\u001b[1;33m,\u001b[0m \u001b[1;33m**\u001b[0m\u001b[0mkwds\u001b[0m\u001b[1;33m)\u001b[0m\u001b[1;33m)\u001b[0m\u001b[1;33m\u001b[0m\u001b[1;33m\u001b[0m\u001b[0m\n\u001b[0m\u001b[0;32m    122\u001b[0m         \u001b[1;32mexcept\u001b[0m \u001b[0mException\u001b[0m \u001b[1;32mas\u001b[0m \u001b[0me\u001b[0m\u001b[1;33m:\u001b[0m\u001b[1;33m\u001b[0m\u001b[1;33m\u001b[0m\u001b[0m\n\u001b[0;32m    123\u001b[0m             \u001b[1;32mif\u001b[0m \u001b[0mwrap_exception\u001b[0m \u001b[1;32mand\u001b[0m \u001b[0mfunc\u001b[0m \u001b[1;32mis\u001b[0m \u001b[1;32mnot\u001b[0m \u001b[0m_helper_reraises_exception\u001b[0m\u001b[1;33m:\u001b[0m\u001b[1;33m\u001b[0m\u001b[1;33m\u001b[0m\u001b[0m\n",
      "\u001b[1;31mTypeError\u001b[0m: test() takes 1 positional argument but 3 were given"
     ]
    }
   ],
   "source": [
    "def calcDists(points):\n",
    "    return abs(trimesh.proximity.signed_distance(convert(cropped_mesh), points))\n",
    "\n",
    "def test(x):\n",
    "    print(x)\n",
    "    \n",
    "points = np.asarray(target_down.points)[:5]\n",
    "dists = np.array([0]*len(points))\n",
    "\n",
    "step = 2\n",
    "threads = []\n",
    "pool = ThreadPool(processes=int(len(points)/step+0.5))\n",
    "\n",
    "inputs = []\n",
    "\n",
    "for i in range(0,len(points),step):\n",
    "    inputs.append(points[i:min(i+step, len(points))])\n",
    "    \n",
    "async_result = pool.apply_async(test, [1,2,3]) # tuple of args for foo\n",
    "\n",
    "# do some other stuff in the main process\n",
    "\n",
    "dists = async_result.get()  # get the return value from your function.\n",
    "    "
   ]
  },
  {
   "cell_type": "code",
   "execution_count": 41,
   "metadata": {},
   "outputs": [
    {
     "data": {
      "text/plain": [
       "[array([[-38.69819494, -15.47167101,  47.65106266],\n",
       "        [-35.76778987,  -6.40825341,  47.37738359]]),\n",
       " array([[-38.87628708,  -8.40698904,  44.96959176],\n",
       "        [-29.48627627, -17.46554106,  44.49760963]]),\n",
       " array([[-32.26621802, -23.00100305,  42.07330425]])]"
      ]
     },
     "execution_count": 41,
     "metadata": {},
     "output_type": "execute_result"
    }
   ],
   "source": [
    "inputs"
   ]
  },
  {
   "cell_type": "code",
   "execution_count": null,
   "metadata": {},
   "outputs": [],
   "source": [
    "dists = abs(signed_distance)\n",
    "dists"
   ]
  },
  {
   "cell_type": "code",
   "execution_count": 23,
   "metadata": {},
   "outputs": [
    {
     "name": "stdout",
     "output_type": "stream",
     "text": [
      "Hausdorff: 1.1874147075251684\n",
      "Median: 0.19985846435285887\n",
      "Mean: 0.26034363958237244\n",
      "Mean Squared Error: 0.11813057758589474\n"
     ]
    }
   ],
   "source": [
    "print(\"Hausdorff:\", max(dists))\n",
    "print(\"Median:\", np.median(dists))\n",
    "print(\"Mean:\", np.mean(dists))\n",
    "print(\"Mean Squared Error:\", np.mean(dists*dists))"
   ]
  },
  {
   "cell_type": "code",
   "execution_count": null,
   "metadata": {},
   "outputs": [],
   "source": [
    "trimesh.registration.icp(targt_down, cropped_mesh, initial=array([[1., 0., 0., 0.], [0., 1., 0., 0.], [0., 0., 1., 0.], [0., 0., 0., 1.]]), threshold=1e-05, max_iterations=20, **kwargs"
   ]
  },
  {
   "cell_type": "code",
   "execution_count": 93,
   "metadata": {},
   "outputs": [],
   "source": [
    "m, c = trimesh.registration.mesh_other(convert(cropped_mesh), np.asarray(target_down.points), samples=500, scale=True, icp_first=10, icp_final=50)"
   ]
  },
  {
   "cell_type": "code",
   "execution_count": 94,
   "metadata": {},
   "outputs": [
    {
     "data": {
      "text/plain": [
       "array([[ 0.99954558,  0.01361179,  0.03772956, -1.38495148],\n",
       "       [-0.01387064,  1.00023202,  0.00660988, -0.98361391],\n",
       "       [-0.03763517, -0.00712771,  0.99961641, -1.2478627 ],\n",
       "       [ 0.        ,  0.        ,  0.        ,  1.        ]])"
      ]
     },
     "execution_count": 94,
     "metadata": {},
     "output_type": "execute_result"
    }
   ],
   "source": [
    "m"
   ]
  },
  {
   "cell_type": "code",
   "execution_count": 108,
   "metadata": {},
   "outputs": [
    {
     "data": {
      "text/plain": [
       "8.89720391870747e-06"
      ]
     },
     "execution_count": 108,
     "metadata": {},
     "output_type": "execute_result"
    }
   ],
   "source": [
    "c"
   ]
  },
  {
   "cell_type": "code",
   "execution_count": 97,
   "metadata": {},
   "outputs": [],
   "source": [
    "draw_results(target, cropped_mesh, m)"
   ]
  },
  {
   "cell_type": "code",
   "execution_count": 109,
   "metadata": {},
   "outputs": [
    {
     "name": "stdout",
     "output_type": "stream",
     "text": [
      "Hausdorff: 67.57279519560882\n",
      "Median: 58.59395106523382\n",
      "Mean: 59.23389002152368\n",
      "Mean Squared Error: 3517.7227142114502\n"
     ]
    }
   ],
   "source": [
    "src_copy = copy.deepcopy(source)\n",
    "tar_copy = copy.deepcopy(target)\n",
    "src_copy.transform(m)\n",
    "    \n",
    "distVectors = trimesh.proximity.closest_point(convert(src_copy), np.asarray(tar_copy.points))\n",
    "dists = np.array([abs(np.sqrt(sum(d*d))) for d in distVectors[0]])\n",
    "    \n",
    "print(\"Hausdorff:\", max(dists))\n",
    "print(\"Median:\", np.median(dists))\n",
    "print(\"Mean:\", np.mean(dists))\n",
    "print(\"Mean Squared Error:\", np.mean(dists*dists))"
   ]
  },
  {
   "cell_type": "code",
   "execution_count": 111,
   "metadata": {},
   "outputs": [
    {
     "ename": "TypeError",
     "evalue": "(): incompatible function arguments. The following argument types are supported:\n    1. (self: open3d.cpu.pybind.geometry.PointCloud, arg0: open3d.cpu.pybind.utility.Vector3dVector) -> None\n\nInvoked with: PointCloud with 299291 points., array([0.57070565, 0.55467526, 0.55534027, ..., 0.58351682, 0.58355203,\n       0.58366006])",
     "output_type": "error",
     "traceback": [
      "\u001b[1;31m---------------------------------------------------------------------------\u001b[0m",
      "\u001b[1;31mTypeError\u001b[0m                                 Traceback (most recent call last)",
      "\u001b[1;32m<ipython-input-111-1df7515f9fdd>\u001b[0m in \u001b[0;36m<module>\u001b[1;34m\u001b[0m\n\u001b[0;32m      3\u001b[0m \u001b[0msrc_copy\u001b[0m\u001b[1;33m.\u001b[0m\u001b[0mtransform\u001b[0m\u001b[1;33m(\u001b[0m\u001b[0mm\u001b[0m\u001b[1;33m)\u001b[0m\u001b[1;33m\u001b[0m\u001b[1;33m\u001b[0m\u001b[0m\n\u001b[0;32m      4\u001b[0m \u001b[1;33m\u001b[0m\u001b[0m\n\u001b[1;32m----> 5\u001b[1;33m \u001b[0mtar_copy\u001b[0m\u001b[1;33m.\u001b[0m\u001b[0mcolors\u001b[0m \u001b[1;33m=\u001b[0m \u001b[0mdists\u001b[0m\u001b[1;33m/\u001b[0m\u001b[1;36m100\u001b[0m\u001b[1;33m\u001b[0m\u001b[1;33m\u001b[0m\u001b[0m\n\u001b[0m\u001b[0;32m      6\u001b[0m \u001b[1;33m\u001b[0m\u001b[0m\n\u001b[0;32m      7\u001b[0m \u001b[0mo3d\u001b[0m\u001b[1;33m.\u001b[0m\u001b[0mvisualization\u001b[0m\u001b[1;33m.\u001b[0m\u001b[0mdraw_geometries\u001b[0m\u001b[1;33m(\u001b[0m\u001b[1;33m[\u001b[0m\u001b[0msrc_copy\u001b[0m\u001b[1;33m,\u001b[0m\u001b[0mtar_copy\u001b[0m\u001b[1;33m,\u001b[0m\u001b[0mboundingbox\u001b[0m\u001b[1;33m]\u001b[0m\u001b[1;33m,\u001b[0m \u001b[0mmesh_show_back_face\u001b[0m\u001b[1;33m=\u001b[0m\u001b[1;32mTrue\u001b[0m\u001b[1;33m)\u001b[0m\u001b[1;33m\u001b[0m\u001b[1;33m\u001b[0m\u001b[0m\n",
      "\u001b[1;31mTypeError\u001b[0m: (): incompatible function arguments. The following argument types are supported:\n    1. (self: open3d.cpu.pybind.geometry.PointCloud, arg0: open3d.cpu.pybind.utility.Vector3dVector) -> None\n\nInvoked with: PointCloud with 299291 points., array([0.57070565, 0.55467526, 0.55534027, ..., 0.58351682, 0.58355203,\n       0.58366006])"
     ]
    }
   ],
   "source": [
    "src_copy = copy.deepcopy(source)\n",
    "tar_copy = copy.deepcopy(target)\n",
    "src_copy.transform(m)\n",
    "\n",
    "\n",
    "\n",
    "o3d.visualization.draw_geometries([src_copy,tar_copy,boundingbox], mesh_show_back_face=True)"
   ]
  },
  {
   "cell_type": "code",
   "execution_count": null,
   "metadata": {},
   "outputs": [],
   "source": []
  }
 ],
 "metadata": {
  "kernelspec": {
   "display_name": "Python 3",
   "language": "python",
   "name": "python3"
  },
  "language_info": {
   "codemirror_mode": {
    "name": "ipython",
    "version": 3
   },
   "file_extension": ".py",
   "mimetype": "text/x-python",
   "name": "python",
   "nbconvert_exporter": "python",
   "pygments_lexer": "ipython3",
   "version": "3.7.4"
  }
 },
 "nbformat": 4,
 "nbformat_minor": 2
}
