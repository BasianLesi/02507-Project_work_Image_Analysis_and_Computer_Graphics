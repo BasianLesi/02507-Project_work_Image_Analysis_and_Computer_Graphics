{
 "cells": [
  {
   "cell_type": "markdown",
   "metadata": {},
   "source": [
    "This notebook was for me [Tim] to test different evaluation techniques. I tried to apply different metrics to the point-to-point distance between two clouds which worked reasonabbly well. I however failed tothe the point to mesh distance since it was to computationally expensive. Lining up the stitched point cloud with the original model also proved to be difficult."
   ]
  },
  {
   "cell_type": "markdown",
   "metadata": {},
   "source": [
    "## Setup"
   ]
  },
  {
   "cell_type": "code",
   "execution_count": 17,
   "metadata": {},
   "outputs": [
    {
     "name": "stdout",
     "output_type": "stream",
     "text": [
      "Clustering, Plotting and Meshing loaded at\n"
     ]
    }
   ],
   "source": [
    "import open3d as o3d\n",
    "import numpy as np\n",
    "import copy\n",
    "import trimesh\n",
    "import threading\n",
    "import time\n",
    "from multiprocessing.pool import ThreadPool\n",
    "\n",
    "%run \"../Notebooks/ClusteringPlottingMeshing.ipynb\"\n",
    "%run \"../Notebooks/Stitching_functions.ipynb\""
   ]
  },
  {
   "cell_type": "code",
   "execution_count": 37,
   "metadata": {},
   "outputs": [
    {
     "data": {
      "text/plain": [
       "PointCloud with 299291 points."
      ]
     },
     "execution_count": 37,
     "metadata": {},
     "output_type": "execute_result"
    }
   ],
   "source": [
    "#load original mesh, scale it anf convert it to point cloud\n",
    "original_mesh = o3d.io.read_triangle_mesh(\"../data/dental.stl\")\n",
    "original_mesh.scale(1000, [0,0,0])\n",
    "original_mesh.compute_vertex_normals()\n",
    "\n",
    "original_pcd = o3d.geometry.PointCloud()\n",
    "original_pcd.points = original_mesh.vertices\n",
    "original_pcd.estimate_normals()\n",
    "original_pcd.paint_uniform_color([0.8,0.8,0.8])\n",
    "\n",
    "stitched_pcd = o3d.io.read_point_cloud(\"../data/st_cropped_2.ply\")\n",
    "stitched_pcd.estimate_normals()\n",
    "stitched_pcd.paint_uniform_color([0.8,0.2,0.2])\n"
   ]
  },
  {
   "cell_type": "code",
   "execution_count": 39,
   "metadata": {},
   "outputs": [
    {
     "data": {
      "text/plain": [
       "PointCloud with 299291 points."
      ]
     },
     "execution_count": 39,
     "metadata": {},
     "output_type": "execute_result"
    }
   ],
   "source": [
    "#make copies to not break the original\n",
    "org_mesh_copy = copy.deepcopy(original_mesh)\n",
    "org_pcd_copy = copy.deepcopy(original_pcd)\n",
    "st_pcd_copy = copy.deepcopy(stitched_pcd)\n",
    "\n",
    "\n",
    "transformation_setup = np.linalg.inv(np.array([\n",
    "     [ -0.42936695,   0.89689573,  -0.10593428,  18.08900141],\n",
    "     [ -0.73091052,  -0.4139897 ,  -0.54257012,  -4.68199364],\n",
    "     [ -0.53048452,  -0.15553319,   0.83330402, -14.77113242],\n",
    "     [  0.        ,   0.        ,   0.        ,   1.        ]]))\n",
    "\n",
    "\n",
    "st_pcd_copy.transform(transformation_setup)"
   ]
  },
  {
   "cell_type": "code",
   "execution_count": 13,
   "metadata": {},
   "outputs": [],
   "source": [
    "o3d.visualization.draw_geometries([org_mesh_copy,st_pcd_copy], mesh_show_back_face=True)"
   ]
  },
  {
   "cell_type": "raw",
   "metadata": {},
   "source": [
    "# Alternative starting transformations\n",
    "transformation_setup = np.linalg.inv(np.array([\n",
    "     [ -0.42848023,   0.89551476,  -0.12024146,  18.96549334],\n",
    "     [ -0.72105517,  -0.41909148,  -0.55176243,  -4.08932589],\n",
    "     [ -0.54450357,  -0.14971857,   0.82528796, -14.90926351],\n",
    "     [  0.        ,   0.        ,   0.        ,   1.        ]]))\n",
    "\n",
    "transformation_setup = np.linalg.inv(np.array([\n",
    "     [ -0.42769944,   0.89569105,  -0.12169932,  19.20310461],\n",
    "     [ -0.7399105,   -0.42424645,  -0.52206073,  -6.14917153],\n",
    "     [ -0.51923563,  -0.13323848,   0.84418118,  -14.54139077],\n",
    "     [  0.,           0.,           0.,           1.        ]]))"
   ]
  },
  {
   "cell_type": "markdown",
   "metadata": {},
   "source": [
    "## Point to Point metrics"
   ]
  },
  {
   "cell_type": "code",
   "execution_count": 28,
   "metadata": {
    "scrolled": true
   },
   "outputs": [
    {
     "name": "stdout",
     "output_type": "stream",
     "text": [
      "Hausdorff: 1.258721507821002\n",
      "Median: 0.2028577148444516\n",
      "Mean: 0.2663597818844661\n",
      "Mean Squared Error: 0.11712274560380403\n"
     ]
    }
   ],
   "source": [
    "dists = np.asarray(st_pcd_copy.compute_point_cloud_distance(org_pcd_copy))\n",
    "print(\"Hausdorff:\", max(dists))\n",
    "print(\"Median:\", np.median(dists))\n",
    "print(\"Mean:\", np.mean(dists))\n",
    "print(\"Mean Squared Error:\", np.mean(dists*dists))"
   ]
  },
  {
   "cell_type": "raw",
   "metadata": {},
   "source": [
    "Hausdorff: 1.258721507821002\n",
    "Median: 0.2028577148444516\n",
    "Mean: 0.2663597818844661\n",
    "Mean Squared Error: 0.11712274560380403\n",
    "    \n",
    "Hausdorff: 1.1748947838312018\n",
    "Median: 0.23057328565853255\n",
    "Mean: 0.27941349267827575\n",
    "Mean Squared Error: 0.1185647106853741\n",
    "\n",
    "Hausdorff: 1.3048449654696859\n",
    "Median: 0.2354118475215612\n",
    "Mean: 0.2886087628190869\n",
    "Mean Squared Error: 0.13111573365954582"
   ]
  },
  {
   "cell_type": "code",
   "execution_count": 41,
   "metadata": {},
   "outputs": [],
   "source": [
    "colors = [np.array([1,0,0])*d + np.array([0,1,0])*(1-d) for d in dists]\n",
    "st_pcd_copy.colors = o3d.utility.Vector3dVector(colors)"
   ]
  },
  {
   "cell_type": "code",
   "execution_count": 43,
   "metadata": {},
   "outputs": [
    {
     "name": "stdout",
     "output_type": "stream",
     "text": [
      "[Open3D WARNING] [ViewControl] SetViewPoint() failed because window height and width are not set.\n"
     ]
    }
   ],
   "source": [
    "o3d.visualization.draw_geometries([org_pcd_copy,st_pcd_copy], mesh_show_back_face=True)"
   ]
  },
  {
   "cell_type": "markdown",
   "metadata": {},
   "source": [
    "## Meshing Evaluation"
   ]
  },
  {
   "cell_type": "code",
   "execution_count": 18,
   "metadata": {},
   "outputs": [],
   "source": [
    "st_mesh = make_smooth_mesh(st_pcd_copy)"
   ]
  },
  {
   "cell_type": "code",
   "execution_count": 19,
   "metadata": {},
   "outputs": [],
   "source": [
    "o3d.visualization.draw_geometries([org_pcd_copy,st_mesh], mesh_show_back_face=True)"
   ]
  },
  {
   "cell_type": "code",
   "execution_count": 21,
   "metadata": {},
   "outputs": [
    {
     "data": {
      "text/plain": [
       "PointCloud with 108388 points."
      ]
     },
     "execution_count": 21,
     "metadata": {},
     "output_type": "execute_result"
    }
   ],
   "source": [
    "st_mesh_pcd = o3d.geometry.PointCloud()\n",
    "st_mesh_pcd.points = st_mesh.vertices\n",
    "st_mesh_pcd.estimate_normals()\n",
    "st_mesh_pcd.paint_uniform_color([0.2,0.2,0.8])"
   ]
  },
  {
   "cell_type": "code",
   "execution_count": 24,
   "metadata": {},
   "outputs": [
    {
     "name": "stdout",
     "output_type": "stream",
     "text": [
      "Hausdorff: 1.2376224933595468\n",
      "Median: 0.20428073792383555\n",
      "Mean: 0.2692732427087727\n",
      "Mean Squared Error: 0.12086211701530175\n"
     ]
    }
   ],
   "source": [
    "dists = np.asarray(st_mesh_pcd.compute_point_cloud_distance(org_pcd_copy))\n",
    "print(\"Hausdorff:\", max(dists))\n",
    "print(\"Median:\", np.median(dists))\n",
    "print(\"Mean:\", np.mean(dists))\n",
    "print(\"Mean Squared Error:\", np.mean(dists*dists))"
   ]
  },
  {
   "cell_type": "markdown",
   "metadata": {},
   "source": [
    "## Point to Mesh Metrics"
   ]
  },
  {
   "cell_type": "code",
   "execution_count": 23,
   "metadata": {},
   "outputs": [],
   "source": [
    "#crop model to reduce processing time\n",
    "boundingbox = o3d.geometry.OrientedBoundingBox.create_from_points(target.points)\n",
    "cropped_mesh = copy.deepcopy(model_mesh).crop(boundingbox) \n",
    "\n",
    "o3d.visualization.draw_geometries([cropped_mesh,target,boundingbox], mesh_show_back_face=True)"
   ]
  },
  {
   "cell_type": "code",
   "execution_count": 24,
   "metadata": {},
   "outputs": [],
   "source": [
    "#Scale down point cloud size because the algorithm runs in O(mesh_size*cloud_size) which makes it computationally very expensive \n",
    "voxel_size = 1.0\n",
    "st_pcd_down = target.voxel_down_sample(voxel_size)\n",
    "\n",
    "o3d.visualization.draw_geometries([st_pcd_down])"
   ]
  },
  {
   "cell_type": "code",
   "execution_count": 26,
   "metadata": {},
   "outputs": [],
   "source": [
    "dists2 = abs(trimesh.proximity.signed_distance(convert(cropped_mesh), np.asarray(st_pcd_down.points)))"
   ]
  },
  {
   "cell_type": "code",
   "execution_count": 27,
   "metadata": {},
   "outputs": [
    {
     "name": "stdout",
     "output_type": "stream",
     "text": [
      "Hausdorff: 1.1257412077449076\n",
      "Median: 0.20450815462755279\n",
      "Mean: 0.2682834633637908\n",
      "Mean Squared Error: 0.1249605028407107\n"
     ]
    }
   ],
   "source": [
    "print(\"Hausdorff:\", max(dists2))\n",
    "print(\"Median:\", np.median(dists2))\n",
    "print(\"Mean:\", np.mean(dists2))\n",
    "print(\"Mean Squared Error:\", np.mean(dists2*dists2))"
   ]
  },
  {
   "cell_type": "code",
   "execution_count": null,
   "metadata": {},
   "outputs": [],
   "source": []
  }
 ],
 "metadata": {
  "kernelspec": {
   "display_name": "Python 3",
   "language": "python",
   "name": "python3"
  },
  "language_info": {
   "codemirror_mode": {
    "name": "ipython",
    "version": 3
   },
   "file_extension": ".py",
   "mimetype": "text/x-python",
   "name": "python",
   "nbconvert_exporter": "python",
   "pygments_lexer": "ipython3",
   "version": "3.7.4"
  }
 },
 "nbformat": 4,
 "nbformat_minor": 2
}
