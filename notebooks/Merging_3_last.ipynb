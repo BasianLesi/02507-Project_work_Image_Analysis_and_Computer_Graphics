{
 "cells": [
  {
   "cell_type": "markdown",
   "metadata": {},
   "source": [
    "# Import "
   ]
  },
  {
   "cell_type": "code",
   "execution_count": 1,
   "metadata": {},
   "outputs": [],
   "source": [
    "# 3d library\n",
    "import open3d as o3d"
   ]
  },
  {
   "cell_type": "code",
   "execution_count": 2,
   "metadata": {},
   "outputs": [],
   "source": [
    "# image elaboration libraries\n",
    "\n",
    "#!pip install Pillow \n",
    "#!pip install imageio\n",
    "#!pip install cv2-plt-imshow\n",
    "from IPython.display import Image\n",
    "from imageio import imread\n",
    "from imageio import imwrite\n",
    "from PIL import Image\n",
    "from IPython.display import Image as Im\n",
    "\n",
    "import cv2\n",
    "import matplotlib.pyplot as plt\n",
    "from cv2_plt_imshow import cv2_plt_imshow, plt_format"
   ]
  },
  {
   "cell_type": "code",
   "execution_count": 3,
   "metadata": {},
   "outputs": [],
   "source": [
    "# others\n",
    "import numpy as np\n",
    "import os\n",
    "import random as myrand\n",
    "\n",
    "from tqdm.notebook import tqdm# progress bar\n",
    "import sys\n",
    "from time import time \n",
    "import copy"
   ]
  },
  {
   "cell_type": "code",
   "execution_count": 4,
   "metadata": {},
   "outputs": [],
   "source": [
    "delimiter = ', ' \n",
    "myrand.seed(42)\n",
    "dash = '-'*80"
   ]
  },
  {
   "cell_type": "code",
   "execution_count": 5,
   "metadata": {},
   "outputs": [],
   "source": [
    "from datetime import date\n",
    "from datetime import datetime\n",
    "import pickle as pkl"
   ]
  },
  {
   "cell_type": "markdown",
   "metadata": {},
   "source": [
    "# os and directories"
   ]
  },
  {
   "cell_type": "code",
   "execution_count": 6,
   "metadata": {},
   "outputs": [
    {
     "data": {
      "text/plain": [
       "'darwin'"
      ]
     },
     "execution_count": 6,
     "metadata": {},
     "output_type": "execute_result"
    }
   ],
   "source": [
    "from sys import platform\n",
    "platform"
   ]
  },
  {
   "cell_type": "code",
   "execution_count": 7,
   "metadata": {},
   "outputs": [
    {
     "data": {
      "text/plain": [
       "'/Users/ariannataormina/Documents/GitHub/02507-Project_work_Image_Analysis_and_Computer_Graphics'"
      ]
     },
     "execution_count": 7,
     "metadata": {},
     "output_type": "execute_result"
    }
   ],
   "source": [
    "os.chdir('/Users/ariannataormina/Documents/GitHub/02507-Project_work_Image_Analysis_and_Computer_Graphics/')\n",
    "cwd = os.getcwd()\n",
    "cwd"
   ]
  },
  {
   "cell_type": "code",
   "execution_count": 8,
   "metadata": {
    "scrolled": true
   },
   "outputs": [],
   "source": [
    "if platform == \"linux\" or platform == \"linux2\":\n",
    "    # linux\n",
    "    print (\"linux to be implemented\")\n",
    "elif platform == \"darwin\":\n",
    "    # OS X\n",
    "    ROOT= cwd +\"/data\" #mac\n",
    "    os.chdir(ROOT)\n",
    "    os.listdir(ROOT)\n",
    "    #!ls {ROOT}\n",
    "elif platform == \"win32\":\n",
    "    # Windows\n",
    "    ROOT='ARI_HD:\\\\' #w10\n",
    "    os.chdir(ROOT)\n",
    "    os.listdir(ROOT)\n",
    "    !dir {ROOT} "
   ]
  },
  {
   "cell_type": "code",
   "execution_count": 9,
   "metadata": {},
   "outputs": [],
   "source": [
    "img_folder = ROOT +\"/imgfolder\"\n",
    "ply_folder = ROOT +\"/plyfolder\""
   ]
  },
  {
   "cell_type": "code",
   "execution_count": 10,
   "metadata": {},
   "outputs": [],
   "source": [
    "all_images = sorted(os.listdir(img_folder))\n",
    "all_ply = sorted(os.listdir(ply_folder))"
   ]
  },
  {
   "cell_type": "code",
   "execution_count": 11,
   "metadata": {},
   "outputs": [],
   "source": [
    "all_paths_images = [img_folder+\"/\"+all_images[idx] for idx in range(len(all_images))]\n",
    "all_paths_ply = [ply_folder+\"/\"+all_ply[idx] for idx in range(len(all_ply))]"
   ]
  },
  {
   "cell_type": "code",
   "execution_count": 12,
   "metadata": {},
   "outputs": [
    {
     "data": {
      "text/plain": [
       "'/Users/ariannataormina/Documents/GitHub/02507-Project_work_Image_Analysis_and_Computer_Graphics/data/imgfolder/image0.png'"
      ]
     },
     "execution_count": 12,
     "metadata": {},
     "output_type": "execute_result"
    }
   ],
   "source": [
    "img_folder+\"/\"+all_images[0]"
   ]
  },
  {
   "cell_type": "markdown",
   "metadata": {},
   "source": [
    "## run notebooks"
   ]
  },
  {
   "cell_type": "code",
   "execution_count": 13,
   "metadata": {},
   "outputs": [],
   "source": [
    "%run \"../Notebooks/Stitching_functions.ipynb\"\n",
    "%run \"../Notebooks/Visualization_functions.ipynb\"\n",
    "%run \"../Notebooks/Downsampling_and_outliers_functions.ipynb\"\n",
    "%load_ext autoreload"
   ]
  },
  {
   "cell_type": "markdown",
   "metadata": {},
   "source": [
    "## Load the pointclouds"
   ]
  },
  {
   "cell_type": "code",
   "execution_count": 19,
   "metadata": {},
   "outputs": [],
   "source": [
    "## parameters initialization \n",
    "\n",
    "myparams = \"./ScreenCamera_2021-01-11-12-06-34.json\"  # parameter for camera point view, json file via pressing P\n",
    "myconfiguration_file = \"RenderOption_2021-01-11-12-22-53.json\" # configuration file for properties, json file via pressing o\n"
   ]
  },
  {
   "cell_type": "code",
   "execution_count": 22,
   "metadata": {},
   "outputs": [],
   "source": [
    "stitched_external_pc = o3d.io.read_point_cloud(\"stitched_external_pc.pcd\")\n",
    "stitched_internal_pc = o3d.io.read_point_cloud(\"stitched_internal_pc.pcd\")\n",
    "stitched_upper_pc = o3d.io.read_point_cloud(\"stitched_upper_pc.pcd\")"
   ]
  },
  {
   "cell_type": "code",
   "execution_count": 23,
   "metadata": {},
   "outputs": [],
   "source": [
    "labels_stitches = [\"stitched_external_pc\",\"stitched_internal_pc\", \"stitched_upper_pc\"]\n",
    "list_stitches = [stitched_external_pc,stitched_internal_pc,stitched_upper_pc]\n",
    "color_stitches = [[1, 0.706, 0],[0, 0.651, 0.929],[0,0.7,0.3]]"
   ]
  },
  {
   "cell_type": "markdown",
   "metadata": {},
   "source": [
    "## Plot"
   ]
  },
  {
   "cell_type": "code",
   "execution_count": 24,
   "metadata": {},
   "outputs": [
    {
     "name": "stdout",
     "output_type": "stream",
     "text": [
      "loading parameters: \n",
      "  ./ScreenCamera_2021-01-11-12-06-34.json\n",
      "loading configuration file: \n",
      "  RenderOption_2021-01-11-12-22-53.json\n",
      "\u001b[1;33m[Open3D WARNING] GLFW Error: The GLFW library is not initialized\u001b[0;m\n"
     ]
    }
   ],
   "source": [
    "##one plot\n",
    "custom_draw_geometry(stitched_external_pc,\n",
    "                     mytitle = \"stitched_external_pc\",\n",
    "                     params = myparams,  # parameter for camera point view, json file via pressing P\n",
    "                     configuration_file = myconfiguration_file, # configuration file for properties, json file via pressing o\n",
    "                     take_screen_shot = False,\n",
    "                     rotate = True)"
   ]
  },
  {
   "cell_type": "markdown",
   "metadata": {},
   "source": [
    "## Many plots"
   ]
  },
  {
   "cell_type": "code",
   "execution_count": 25,
   "metadata": {},
   "outputs": [
    {
     "name": "stdout",
     "output_type": "stream",
     "text": [
      "loading parameters: \n",
      "  ./ScreenCamera_2021-01-11-12-06-34.json\n",
      "loading configuration file: \n",
      "  RenderOption_2021-01-11-12-22-53.json\n",
      "\u001b[1;33m[Open3D WARNING] GLFW Error: The GLFW library is not initialized\u001b[0;m\n",
      "loading parameters: \n",
      "  ./ScreenCamera_2021-01-11-12-06-34.json\n",
      "loading configuration file: \n",
      "  RenderOption_2021-01-11-12-22-53.json\n",
      "\u001b[1;33m[Open3D WARNING] GLFW Error: The GLFW library is not initialized\u001b[0;m\n",
      "loading parameters: \n",
      "  ./ScreenCamera_2021-01-11-12-06-34.json\n",
      "loading configuration file: \n",
      "  RenderOption_2021-01-11-12-22-53.json\n",
      "\u001b[1;33m[Open3D WARNING] GLFW Error: The GLFW library is not initialized\u001b[0;m\n"
     ]
    }
   ],
   "source": [
    "# plot a list of geometries\n",
    "custom_draw_geometry([list_stitches[:]],\n",
    "                     mytitle = [labels_stitches[:]],\n",
    "                     params = myparams,  # parameter for camera point view, json file via pressing P\n",
    "                     configuration_file = myconfiguration_file, # configuration file for properties, json file via pressing o\n",
    "                     take_screen_shot = False,\n",
    "                     rotate = True)"
   ]
  },
  {
   "cell_type": "markdown",
   "metadata": {},
   "source": [
    "### downsampling"
   ]
  },
  {
   "cell_type": "code",
   "execution_count": 27,
   "metadata": {},
   "outputs": [
    {
     "name": "stdout",
     "output_type": "stream",
     "text": [
      "Downsampled_pcl_1\n",
      "loading parameters: \n",
      "  ./ScreenCamera_2021-01-11-12-06-34.json\n",
      "loading configuration file: \n",
      "  RenderOption_2021-01-11-12-22-53.json\n",
      "\u001b[1;33m[Open3D WARNING] GLFW Error: The GLFW library is not initialized\u001b[0;m\n",
      "Downsampled_pcl_1\n",
      "number of points original :  230502\n",
      "number of points with voxel down sample : 16011\n",
      "\n",
      "Downsampled_pcl_2\n",
      "loading parameters: \n",
      "  ./ScreenCamera_2021-01-11-12-06-34.json\n",
      "loading configuration file: \n",
      "  RenderOption_2021-01-11-12-22-53.json\n",
      "\u001b[1;33m[Open3D WARNING] GLFW Error: The GLFW library is not initialized\u001b[0;m\n",
      "Downsampled_pcl_2\n",
      "number of points original :  227230\n",
      "number of points with voxel down sample : 11908\n",
      "\n",
      "Downsampled_pcl_3\n",
      "loading parameters: \n",
      "  ./ScreenCamera_2021-01-11-12-06-34.json\n",
      "loading configuration file: \n",
      "  RenderOption_2021-01-11-12-22-53.json\n",
      "\u001b[1;33m[Open3D WARNING] GLFW Error: The GLFW library is not initialized\u001b[0;m\n",
      "Downsampled_pcl_3\n",
      "number of points original :  219648\n",
      "number of points with voxel down sample : 13335\n",
      "\n"
     ]
    }
   ],
   "source": [
    "downsampled_stitches = downsample_list_stitches(list_stitches,\n",
    "                                                #labels_stitches,color_stitches , \n",
    "                                                voxel_size = 0.3,\n",
    "                                                visualization_on = True,\n",
    "                                                print_statements = True)"
   ]
  },
  {
   "cell_type": "markdown",
   "metadata": {},
   "source": [
    "### merge the 3 stitched parts"
   ]
  },
  {
   "cell_type": "code",
   "execution_count": 102,
   "metadata": {},
   "outputs": [
    {
     "name": "stdout",
     "output_type": "stream",
     "text": [
      "The autoreload extension is already loaded. To reload it, use:\n",
      "  %reload_ext autoreload\n"
     ]
    }
   ],
   "source": [
    "%run \"../Notebooks/Stitching_functions.ipynb\"\n",
    "%run \"../Notebooks/Visualization_functions.ipynb\"\n",
    "%run \"../Notebooks/Downsampling_and_outliers_functions.ipynb\"\n",
    "%load_ext autoreload"
   ]
  },
  {
   "cell_type": "code",
   "execution_count": 30,
   "metadata": {},
   "outputs": [
    {
     "name": "stdout",
     "output_type": "stream",
     "text": [
      "11012021-13h13m15s\n"
     ]
    }
   ],
   "source": [
    "now = datetime.now()\n",
    "dt_string = now.strftime(\"%d%m%Y-%Hh%Mm%Ss\")\n",
    "print(dt_string)"
   ]
  },
  {
   "cell_type": "code",
   "execution_count": 84,
   "metadata": {},
   "outputs": [],
   "source": [
    "# prepare dataset\n",
    "voxel_size  =0.2 # with 0.1 doesnt work!\n",
    "i = 2\n",
    "j = 0\n",
    "source_label = labels_stitches[i][9:-3] # just labels parsing\n",
    "target_label =labels_stitches[j][9:-3]\n",
    "source = list_stitches[i]\n",
    "target = list_stitches[j]\n",
    "processed_source = downsampled_stitches[i]\n",
    "processed_target = downsampled_stitches[j]\n",
    "\n",
    "mytitle= dt_string+\"-%s_%s\"%(source_label,target_label)"
   ]
  },
  {
   "cell_type": "code",
   "execution_count": 85,
   "metadata": {},
   "outputs": [
    {
     "name": "stdout",
     "output_type": "stream",
     "text": [
      "allpc_downsampled_upper_external\n",
      "Load two point clouds and disturb initial pose.\n",
      "removing outliers\n",
      "loading parameters: \n",
      "  ./ScreenCamera_2021-01-11-12-06-34.json\n",
      "loading configuration file: \n",
      "  RenderOption_2021-01-11-12-22-53.json\n",
      "\u001b[1;33m[Open3D WARNING] GLFW Error: The GLFW library is not initialized\u001b[0;m\n",
      "\n",
      "GLOBAL REGISTRATION: RANSAC registration on downsampled point clouds.\n",
      "Transformation is:\n",
      "[[ 9.88539863e-01 -2.62497497e-02  1.48660319e-01 -7.05147822e+00]\n",
      " [-7.03713189e-02  7.91094357e-01  6.07632780e-01 -3.27569909e+01]\n",
      " [-1.33554548e-01 -6.11130648e-01  7.80181078e-01  1.24820851e+01]\n",
      " [ 0.00000000e+00  0.00000000e+00  0.00000000e+00  1.00000000e+00]]\n",
      "overlapping points :  48\n",
      "\n",
      "POINT-TO-PLANE ICP registration is applied on original point\n",
      "distance threshold 0.400.\n",
      "Transformation is:\n",
      "[[  0.98770593  -0.03770636   0.15170768  -7.10777873]\n",
      " [ -0.05056124   0.84125229   0.5382733  -30.1740234 ]\n",
      " [ -0.14792076  -0.53932626   0.8290034   10.52304358]\n",
      " [  0.           0.           0.           1.        ]]\n",
      "overlapping points :  3210\n"
     ]
    }
   ],
   "source": [
    "#MAIN\n",
    "source, target, transformation = stitch_sequences(processed_source,processed_target,\n",
    "                                                  source_label,target_label,\n",
    "                                                  mmax_iteration = 10**7,\n",
    "                                                  mmax_validation = 0.999\n",
    "                                                 )"
   ]
  },
  {
   "cell_type": "markdown",
   "metadata": {},
   "source": [
    "## visualize result"
   ]
  },
  {
   "cell_type": "code",
   "execution_count": 79,
   "metadata": {},
   "outputs": [],
   "source": [
    "draw_registration_result(source, target, transformation, title = \"\")"
   ]
  },
  {
   "cell_type": "code",
   "execution_count": 81,
   "metadata": {},
   "outputs": [],
   "source": [
    "upper_external = save_registration_result(source, target, transformation, \n",
    "                                        title= mytitle, \n",
    "                                        save_result = False,\n",
    "                                        visualize_result = True)"
   ]
  },
  {
   "cell_type": "code",
   "execution_count": 82,
   "metadata": {
    "scrolled": true
   },
   "outputs": [
    {
     "name": "stdout",
     "output_type": "stream",
     "text": [
      "\n",
      "\n",
      "number of points in clouds\n",
      "(0, 29346)\n"
     ]
    },
    {
     "data": {
      "text/plain": [
       "[29346]"
      ]
     },
     "execution_count": 82,
     "metadata": {},
     "output_type": "execute_result"
    }
   ],
   "source": [
    "get_num_points([upper_external], print_statement = True)"
   ]
  },
  {
   "cell_type": "markdown",
   "metadata": {},
   "source": [
    "## apply transformation on original "
   ]
  },
  {
   "cell_type": "code",
   "execution_count": 86,
   "metadata": {},
   "outputs": [],
   "source": [
    "#use the found transformation with original full point source and target\n",
    "\n",
    "source = list_stitches[i]\n",
    "target = list_stitches[j]\n",
    "\n",
    "draw_registration_result(source, target, transformation, title = \"\")"
   ]
  },
  {
   "cell_type": "code",
   "execution_count": 87,
   "metadata": {},
   "outputs": [
    {
     "name": "stdout",
     "output_type": "stream",
     "text": [
      "loading parameters: \n",
      "  ./ScreenCamera_2021-01-11-12-06-34.json\n",
      "loading configuration file: \n",
      "  RenderOption_2021-01-11-12-22-53.json\n",
      "\u001b[1;33m[Open3D WARNING] GLFW Error: The GLFW library is not initialized\u001b[0;m\n"
     ]
    }
   ],
   "source": [
    "#save it\n",
    "upper_external = save_registration_result(source, target, transformation, \n",
    "                                        title= mytitle, \n",
    "                                        save_result = True,\n",
    "                                        visualize_result = False)\n",
    "\n",
    "custom_draw_geometry(upper_external,\n",
    "                     mytitle = mytitle,\n",
    "                     params = myparams,  # parameter for camera point view, json file via pressing P\n",
    "                     configuration_file = myconfiguration_file, # configuration file for properties, json file via pressing o\n",
    "                     take_screen_shot = False,\n",
    "                     rotate = True)"
   ]
  },
  {
   "cell_type": "code",
   "execution_count": 88,
   "metadata": {
    "scrolled": true
   },
   "outputs": [
    {
     "name": "stdout",
     "output_type": "stream",
     "text": [
      "\n",
      "\n",
      "number of points in clouds\n",
      "(0, 450150)\n"
     ]
    },
    {
     "data": {
      "text/plain": [
       "[450150]"
      ]
     },
     "execution_count": 88,
     "metadata": {},
     "output_type": "execute_result"
    }
   ],
   "source": [
    "get_num_points([upper_external], print_statement = True)"
   ]
  },
  {
   "cell_type": "markdown",
   "metadata": {},
   "source": [
    "## downsample new one for next step"
   ]
  },
  {
   "cell_type": "code",
   "execution_count": 64,
   "metadata": {},
   "outputs": [
    {
     "name": "stdout",
     "output_type": "stream",
     "text": [
      "Downsampled_upper_external\n",
      "loading parameters: \n",
      "  ./ScreenCamera_2021-01-11-12-06-34.json\n",
      "loading configuration file: \n",
      "  RenderOption_2021-01-11-12-22-53.json\n",
      "\u001b[1;33m[Open3D WARNING] GLFW Error: The GLFW library is not initialized\u001b[0;m\n",
      "Downsampled_upper_external\n",
      "number of points original :  450150\n",
      "number of points with voxel down sample : 27657\n",
      "\n"
     ]
    }
   ],
   "source": [
    "downsampled_upper_external = downsample_list_stitches([upper_external],\n",
    "                                                [\"upper_external\"],color_stitches= None , \n",
    "                                                voxel_size = 0.3,\n",
    "                                                visualization_on = True,\n",
    "                                                print_statements = True)"
   ]
  },
  {
   "cell_type": "code",
   "execution_count": 90,
   "metadata": {},
   "outputs": [],
   "source": [
    "# input \n",
    "voxel_size  =0.2\n",
    "j = 1\n",
    "source_label = \"upper_external\"\n",
    "target_label =labels_stitches[j][9:-3]\n",
    "\n",
    "processed_source = upper_external\n",
    "processed_target = downsampled_stitches[j]\n",
    "\n",
    "mytitle= dt_string+\"-%s_%s\"%(source_label,target_label)"
   ]
  },
  {
   "cell_type": "code",
   "execution_count": 91,
   "metadata": {},
   "outputs": [
    {
     "data": {
      "text/plain": [
       "'11012021-13h13m15s-upper_external_internal'"
      ]
     },
     "execution_count": 91,
     "metadata": {},
     "output_type": "execute_result"
    }
   ],
   "source": [
    "mytitle"
   ]
  },
  {
   "cell_type": "code",
   "execution_count": 92,
   "metadata": {
    "scrolled": true
   },
   "outputs": [
    {
     "name": "stdout",
     "output_type": "stream",
     "text": [
      "allpc_downsampled_upper_external_internal\n",
      "Load two point clouds and disturb initial pose.\n",
      "removing outliers\n",
      "loading parameters: \n",
      "  ./ScreenCamera_2021-01-11-12-06-34.json\n",
      "loading configuration file: \n",
      "  RenderOption_2021-01-11-12-22-53.json\n",
      "\u001b[1;33m[Open3D WARNING] GLFW Error: The GLFW library is not initialized\u001b[0;m\n",
      "\n",
      "GLOBAL REGISTRATION: RANSAC registration on downsampled point clouds.\n",
      "Transformation is:\n",
      "[[-0.24400967  0.95540459 -0.16631704 13.71914808]\n",
      " [-0.89544531 -0.15612252  0.41689741 49.52148804]\n",
      " [ 0.37233986  0.25065481  0.89360796 30.82876441]\n",
      " [ 0.          0.          0.          1.        ]]\n",
      "overlapping points :  18\n",
      "\n",
      "POINT-TO-PLANE ICP registration is applied on original point\n",
      "distance threshold 0.400.\n",
      "Transformation is:\n",
      "[[-0.24324384  0.95501895 -0.1696209  13.52030847]\n",
      " [-0.90170004 -0.1581965   0.40238155 49.83045709]\n",
      " [ 0.35744857  0.250824    0.89962094 31.60967493]\n",
      " [ 0.          0.          0.          1.        ]]\n",
      "overlapping points :  154177\n"
     ]
    },
    {
     "data": {
      "application/vnd.jupyter.widget-view+json": {
       "model_id": "1f66317830b74908ad93a662ad49c5bf",
       "version_major": 2,
       "version_minor": 0
      },
      "text/plain": [
       "  0%|          | 0/3 [00:00<?, ?it/s]"
      ]
     },
     "metadata": {},
     "output_type": "display_data"
    }
   ],
   "source": [
    "source, target,transformation = tqdm(stitch_sequences(processed_source,processed_target,\n",
    "                                                                  source_label,target_label,\n",
    "                                                                  mmax_iteration = 10**7,\n",
    "                                                                  mmax_validation = 0.999\n",
    "                                                                 )\n",
    "                                                )"
   ]
  },
  {
   "cell_type": "markdown",
   "metadata": {},
   "source": [
    "## visualize result"
   ]
  },
  {
   "cell_type": "code",
   "execution_count": 93,
   "metadata": {},
   "outputs": [],
   "source": [
    "draw_registration_result(source, target, transformation, title = \"\")"
   ]
  },
  {
   "cell_type": "code",
   "execution_count": 94,
   "metadata": {},
   "outputs": [],
   "source": [
    "complete_downsampled = save_registration_result(source, target, transformation, \n",
    "                                        title= mytitle, \n",
    "                                        save_result = False,\n",
    "                                        visualize_result = True)"
   ]
  },
  {
   "cell_type": "code",
   "execution_count": 95,
   "metadata": {
    "scrolled": true
   },
   "outputs": [
    {
     "name": "stdout",
     "output_type": "stream",
     "text": [
      "\n",
      "\n",
      "number of points in clouds\n",
      "(0, 462058)\n"
     ]
    },
    {
     "data": {
      "text/plain": [
       "[462058]"
      ]
     },
     "execution_count": 95,
     "metadata": {},
     "output_type": "execute_result"
    }
   ],
   "source": [
    "get_num_points([complete_downsampled], print_statement = True)"
   ]
  },
  {
   "cell_type": "markdown",
   "metadata": {},
   "source": [
    "## apply transformation on original "
   ]
  },
  {
   "cell_type": "code",
   "execution_count": 96,
   "metadata": {},
   "outputs": [],
   "source": [
    "#use the found transformation with original full point source and target\n",
    "\n",
    "source = upper_external\n",
    "target = list_stitches[j]\n",
    "\n",
    "draw_registration_result(source, target, transformation, title = \"\")"
   ]
  },
  {
   "cell_type": "code",
   "execution_count": 97,
   "metadata": {},
   "outputs": [
    {
     "data": {
      "text/plain": [
       "'11012021-13h13m15s-upper_external_internal'"
      ]
     },
     "execution_count": 97,
     "metadata": {},
     "output_type": "execute_result"
    }
   ],
   "source": [
    "mytitle"
   ]
  },
  {
   "cell_type": "code",
   "execution_count": 98,
   "metadata": {},
   "outputs": [
    {
     "name": "stdout",
     "output_type": "stream",
     "text": [
      "loading parameters: \n",
      "  ./ScreenCamera_2021-01-11-12-06-34.json\n",
      "loading configuration file: \n",
      "  RenderOption_2021-01-11-12-22-53.json\n",
      "\u001b[1;33m[Open3D WARNING] GLFW Error: The GLFW library is not initialized\u001b[0;m\n"
     ]
    }
   ],
   "source": [
    "#save it\n",
    "complete = save_registration_result(source, target, transformation, \n",
    "                                        title= mytitle, \n",
    "                                        save_result = True,\n",
    "                                        visualize_result = False)\n",
    "\n",
    "custom_draw_geometry(complete,\n",
    "                     mytitle = mytitle,\n",
    "                     params = myparams,  # parameter for camera point view, json file via pressing P\n",
    "                     configuration_file = myconfiguration_file, # configuration file for properties, json file via pressing o\n",
    "                     take_screen_shot = False,\n",
    "                     rotate = True)"
   ]
  },
  {
   "cell_type": "code",
   "execution_count": 100,
   "metadata": {
    "scrolled": true
   },
   "outputs": [
    {
     "name": "stdout",
     "output_type": "stream",
     "text": [
      "\n",
      "\n",
      "number of points in clouds\n",
      "(0, 677380)\n"
     ]
    },
    {
     "data": {
      "text/plain": [
       "[677380]"
      ]
     },
     "execution_count": 100,
     "metadata": {},
     "output_type": "execute_result"
    }
   ],
   "source": [
    "get_num_points([complete], print_statement = True)"
   ]
  },
  {
   "cell_type": "code",
   "execution_count": null,
   "metadata": {},
   "outputs": [],
   "source": []
  },
  {
   "cell_type": "code",
   "execution_count": null,
   "metadata": {},
   "outputs": [],
   "source": []
  },
  {
   "cell_type": "code",
   "execution_count": null,
   "metadata": {},
   "outputs": [],
   "source": []
  },
  {
   "cell_type": "code",
   "execution_count": null,
   "metadata": {},
   "outputs": [],
   "source": []
  },
  {
   "cell_type": "code",
   "execution_count": null,
   "metadata": {},
   "outputs": [],
   "source": []
  },
  {
   "cell_type": "code",
   "execution_count": null,
   "metadata": {},
   "outputs": [],
   "source": []
  },
  {
   "cell_type": "code",
   "execution_count": null,
   "metadata": {},
   "outputs": [],
   "source": []
  },
  {
   "cell_type": "markdown",
   "metadata": {},
   "source": [
    "## Bin"
   ]
  },
  {
   "cell_type": "code",
   "execution_count": 65,
   "metadata": {},
   "outputs": [
    {
     "name": "stdout",
     "output_type": "stream",
     "text": [
      "Load two point clouds and disturb initial pose.\n",
      "removing outliers\n"
     ]
    }
   ],
   "source": [
    "\n",
    "source, target, source_down, target_down, source_fpfh, target_fpfh,trans_init = prepare_dataset(processed_source,\n",
    "                                                                                             processed_target,\n",
    "                                                                                             voxel_size=voxel_size, \n",
    "                                                                                             #trans_init,\n",
    "                                                                                             mytitle =mytitle,\n",
    "                                                                                             print_statements = True\n",
    "                                                                                              )"
   ]
  },
  {
   "cell_type": "code",
   "execution_count": null,
   "metadata": {},
   "outputs": [],
   "source": [
    "#save it\n",
    "source = upper_external\n",
    "processed_target = downsampled_stitches[j]\n",
    "\n",
    "complete = save_registration_result(source, target, transformation, \n",
    "                                        title= mytitle, \n",
    "                                        save_result = True,\n",
    "                                        visualize_result = False)"
   ]
  },
  {
   "cell_type": "code",
   "execution_count": null,
   "metadata": {},
   "outputs": [],
   "source": [
    "custom_draw_geometry((target+source),\n",
    "                 mytitle = mytitle,\n",
    "                 params = myparams,  # parameter for camera point view, json file via pressing P\n",
    "                 configuration_file = myconfiguration_file, # configuration file for properties, json file via pressing o\n",
    "                 take_screen_shot = False,\n",
    "                 rotate = True)"
   ]
  },
  {
   "cell_type": "code",
   "execution_count": null,
   "metadata": {},
   "outputs": [],
   "source": [
    "complete= o3d.io.read_point_cloud(\"10012021-22h26m24s-stitch_allpc_downsampled_upper_external_internal.pcd\")"
   ]
  },
  {
   "cell_type": "code",
   "execution_count": null,
   "metadata": {},
   "outputs": [],
   "source": [
    "### Radius oulier removal\n",
    "print(\"Radius oulier removal\")\n",
    "cl, ind = complete.remove_radius_outlier(nb_points=100, radius=0.8)\n",
    "custom_draw_geometry_outliers(complete, ind, \n",
    "                              mytitle = \"Radius_oulier_removal\", mytuples = \"\",\n",
    "                              params = myparams,  # parameter for camera point view, json file via pressing P\n",
    "                              configuration_file = myconfiguration_file, # configuration file for properties, json file via pressing o\n",
    "                              fov_step  = 15,\n",
    "                              rotate = False)"
   ]
  },
  {
   "cell_type": "code",
   "execution_count": null,
   "metadata": {},
   "outputs": [],
   "source": [
    "mytitle =\"Statistical outlier removal\"\n",
    "print (mytitle)\n",
    "my_nb_neighbors=10000\n",
    "my_std_ratio=0.1\n",
    "\n",
    "parameters = (my_nb_neighbors,my_std_ratio)\n",
    "parameters_labels = (\"my_nb_neighbors\",\"my_std_ratio\")\n",
    "mytuples = list(zip(parameters_labels,parameters))\n",
    "\n",
    "cl, ind = complete.remove_statistical_outlier(nb_neighbors=my_nb_neighbors,\n",
    "                                                std_ratio=my_std_ratio)\n",
    "display_inlier_outlier(complete, ind, mytitle, mytuples)"
   ]
  },
  {
   "cell_type": "code",
   "execution_count": null,
   "metadata": {},
   "outputs": [],
   "source": []
  },
  {
   "cell_type": "code",
   "execution_count": null,
   "metadata": {},
   "outputs": [],
   "source": [
    "# GLOBAL \n",
    "result_ransac = execute_global_registration(source_down, target_down,\n",
    "                                            source_fpfh, target_fpfh,\n",
    "                                            voxel_size= voxel_size,\n",
    "                                            print_statements = True\n",
    "                                           )"
   ]
  },
  {
   "cell_type": "code",
   "execution_count": null,
   "metadata": {},
   "outputs": [],
   "source": [
    "print(\"Transformation is:\")\n",
    "print(result_ransac.transformation)\n",
    "overlapping_points = result_ransac.correspondence_set\n",
    "print (\"overlapping points : \" ,len(np.asarray(overlapping_points)))"
   ]
  },
  {
   "cell_type": "code",
   "execution_count": null,
   "metadata": {},
   "outputs": [],
   "source": [
    "draw_registration_result(source, target, \n",
    "                     result_ransac.transformation,\n",
    "                     title = \"%global registration\"\n",
    "                    )"
   ]
  },
  {
   "cell_type": "code",
   "execution_count": null,
   "metadata": {},
   "outputs": [],
   "source": [
    "# ICP\n",
    "result_icp = refine_registration(source, target, \n",
    "                                             source_fpfh, target_fpfh,\n",
    "                                             voxel_size,\n",
    "                                             mytranformation =result_ransac.transformation,\n",
    "                                             print_statements = True\n",
    "                                            )"
   ]
  },
  {
   "cell_type": "code",
   "execution_count": null,
   "metadata": {},
   "outputs": [],
   "source": [
    "print(\"Transformation is:\")\n",
    "print(result_icp.transformation)\n",
    "overlapping_points = result_icp.correspondence_set\n",
    "print (\"overlapping points : \" ,len(np.asarray(overlapping_points)))"
   ]
  },
  {
   "cell_type": "code",
   "execution_count": null,
   "metadata": {},
   "outputs": [],
   "source": [
    "draw_registration_result(source, target, \n",
    "                     result_icp.transformation,\n",
    "                     title = \"icp registration\"\n",
    "                    )"
   ]
  },
  {
   "cell_type": "code",
   "execution_count": null,
   "metadata": {},
   "outputs": [],
   "source": [
    "#save it\n",
    "upper_external = save_registration_result(source, target, result_icp.transformation, \n",
    "                                        mytitle, \n",
    "                                        save_result = True,\n",
    "                                        visualize_result = False)"
   ]
  },
  {
   "cell_type": "code",
   "execution_count": null,
   "metadata": {},
   "outputs": [],
   "source": [
    "custom_draw_geometry(upper_external,\n",
    "                     mytitle = mytitle,\n",
    "                     params = myparams,  # parameter for camera point view, json file via pressing P\n",
    "                     configuration_file = myconfiguration_file, # configuration file for properties, json file via pressing o\n",
    "                     take_screen_shot = False,\n",
    "                     rotate = True)"
   ]
  }
 ],
 "metadata": {
  "kernelspec": {
   "display_name": "Python 3",
   "language": "python",
   "name": "python3"
  },
  "language_info": {
   "codemirror_mode": {
    "name": "ipython",
    "version": 3
   },
   "file_extension": ".py",
   "mimetype": "text/x-python",
   "name": "python",
   "nbconvert_exporter": "python",
   "pygments_lexer": "ipython3",
   "version": "3.8.5"
  }
 },
 "nbformat": 4,
 "nbformat_minor": 4
}
