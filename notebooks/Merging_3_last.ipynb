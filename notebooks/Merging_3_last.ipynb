{
 "cells": [
  {
   "cell_type": "markdown",
   "metadata": {},
   "source": [
    "## run notebooks"
   ]
  },
  {
   "cell_type": "code",
   "execution_count": 30,
   "metadata": {},
   "outputs": [
    {
     "name": "stdout",
     "output_type": "stream",
     "text": [
      "The autoreload extension is already loaded. To reload it, use:\n",
      "  %reload_ext autoreload\n"
     ]
    }
   ],
   "source": [
    "%run \"../Notebooks/intialization.ipynb\"\n",
    "%run \"../Notebooks/Stitching_functions.ipynb\"\n",
    "%run \"../Notebooks/Visualization_functions.ipynb\"\n",
    "%run \"../Notebooks/Downsampling_and_outliers_functions.ipynb\"\n",
    "%load_ext autoreload"
   ]
  },
  {
   "cell_type": "code",
   "execution_count": 31,
   "metadata": {
    "scrolled": true
   },
   "outputs": [],
   "source": [
    "## show files in directory recenlty modified\n",
    "#!find . -mtime 0"
   ]
  },
  {
   "cell_type": "markdown",
   "metadata": {},
   "source": [
    "## Load the pointclouds"
   ]
  },
  {
   "cell_type": "code",
   "execution_count": 32,
   "metadata": {},
   "outputs": [],
   "source": [
    "## parameters initialization \n",
    "myparams = \"./ScreenCamera_2021-01-12-10-28-18.json\"  # parameter for camera point view, json file via pressing P\n",
    "myconfiguration_file = \"RenderOption_2021-01-12-10-24-27.json\" # configuration file for properties, json file via pressing o\n"
   ]
  },
  {
   "cell_type": "code",
   "execution_count": 33,
   "metadata": {},
   "outputs": [],
   "source": [
    "stitched_external_pc = o3d.io.read_point_cloud(\"stitched_external_pc.pcd\")\n",
    "stitched_internal_pc = o3d.io.read_point_cloud(\"stitched_internal_pc.pcd\")\n",
    "stitched_upper_pc = o3d.io.read_point_cloud(\"stitched_upper_pc.pcd\")"
   ]
  },
  {
   "cell_type": "code",
   "execution_count": 34,
   "metadata": {},
   "outputs": [],
   "source": [
    "labels_stitches = [\"stitched_external_pc\",\"stitched_internal_pc\", \"stitched_upper_pc\"]\n",
    "list_stitches = [stitched_external_pc,stitched_internal_pc,stitched_upper_pc]\n",
    "color_stitches = [[1, 0.706, 0],[0, 0.651, 0.929],[0,0.7,0.3]]"
   ]
  },
  {
   "cell_type": "markdown",
   "metadata": {},
   "source": [
    "## Many plots"
   ]
  },
  {
   "cell_type": "code",
   "execution_count": 35,
   "metadata": {},
   "outputs": [
    {
     "name": "stdout",
     "output_type": "stream",
     "text": [
      "loading parameters: \n",
      "  ./ScreenCamera_2021-01-12-10-28-18.json\n",
      "loading configuration file: \n",
      "  RenderOption_2021-01-12-10-24-27.json\n",
      "\u001b[1;33m[Open3D WARNING] GLFW Error: The GLFW library is not initialized\u001b[0;m\n",
      "loading parameters: \n",
      "  ./ScreenCamera_2021-01-12-10-28-18.json\n",
      "loading configuration file: \n",
      "  RenderOption_2021-01-12-10-24-27.json\n",
      "\u001b[1;33m[Open3D WARNING] GLFW Error: The GLFW library is not initialized\u001b[0;m\n",
      "loading parameters: \n",
      "  ./ScreenCamera_2021-01-12-10-28-18.json\n",
      "loading configuration file: \n",
      "  RenderOption_2021-01-12-10-24-27.json\n",
      "\u001b[1;33m[Open3D WARNING] GLFW Error: The GLFW library is not initialized\u001b[0;m\n"
     ]
    }
   ],
   "source": [
    "# plot a list of geometries\n",
    "custom_draw_geometry([list_stitches[:]],\n",
    "                     mytitle = [labels_stitches[:]],\n",
    "                     params = myparams,  # parameter for camera point view, json file via pressing P\n",
    "                     configuration_file = myconfiguration_file, # configuration file for properties, json file via pressing o\n",
    "                     take_screen_shot = False,\n",
    "                     rotate = True)"
   ]
  },
  {
   "cell_type": "markdown",
   "metadata": {},
   "source": [
    "### downsampling"
   ]
  },
  {
   "cell_type": "code",
   "execution_count": 36,
   "metadata": {},
   "outputs": [
    {
     "name": "stdout",
     "output_type": "stream",
     "text": [
      "Downsampled_pcl_1\n",
      "loading parameters: \n",
      "  ./ScreenCamera_2021-01-12-10-28-18.json\n",
      "loading configuration file: \n",
      "  RenderOption_2021-01-12-10-24-27.json\n",
      "\u001b[1;33m[Open3D WARNING] GLFW Error: The GLFW library is not initialized\u001b[0;m\n",
      "Downsampled_pcl_1\n",
      "number of points original :  230502\n",
      "number of points with voxel down sample : 16013\n",
      "\n",
      "Downsampled_pcl_2\n",
      "loading parameters: \n",
      "  ./ScreenCamera_2021-01-12-10-28-18.json\n",
      "loading configuration file: \n",
      "  RenderOption_2021-01-12-10-24-27.json\n",
      "\u001b[1;33m[Open3D WARNING] GLFW Error: The GLFW library is not initialized\u001b[0;m\n",
      "Downsampled_pcl_2\n",
      "number of points original :  227230\n",
      "number of points with voxel down sample : 11910\n",
      "\n",
      "Downsampled_pcl_3\n",
      "loading parameters: \n",
      "  ./ScreenCamera_2021-01-12-10-28-18.json\n",
      "loading configuration file: \n",
      "  RenderOption_2021-01-12-10-24-27.json\n",
      "\u001b[1;33m[Open3D WARNING] GLFW Error: The GLFW library is not initialized\u001b[0;m\n",
      "Downsampled_pcl_3\n",
      "number of points original :  219648\n",
      "number of points with voxel down sample : 13335\n",
      "\n"
     ]
    }
   ],
   "source": [
    "downsampled_stitches = downsample_list_stitches(list_stitches,\n",
    "                                                #labels_stitches,color_stitches , \n",
    "                                                voxel_size = 0.3,\n",
    "                                                visualization_on = True,\n",
    "                                                print_statements = True)"
   ]
  },
  {
   "cell_type": "code",
   "execution_count": 24,
   "metadata": {},
   "outputs": [],
   "source": [
    "## alignment check\n",
    "#i = 0\n",
    "#o3d.visualization.draw_geometries([downsampled_stitches[i].paint_uniform_color([0.5, 0, 0]),\n",
    "                                   #list_stitches[i].paint_uniform_color([0, 0.5, 0])])"
   ]
  },
  {
   "cell_type": "markdown",
   "metadata": {},
   "source": [
    "## Merge the external, upper, internal together"
   ]
  },
  {
   "cell_type": "markdown",
   "metadata": {},
   "source": [
    "### Step 1- "
   ]
  },
  {
   "cell_type": "code",
   "execution_count": 39,
   "metadata": {},
   "outputs": [
    {
     "name": "stdout",
     "output_type": "stream",
     "text": [
      "12012021-13h10m17s\n",
      "allpc_downsampled_upper_external\n",
      "Load two point clouds and disturb initial pose.\n",
      "removing outliers\n",
      "\n",
      "GLOBAL REGISTRATION: RANSAC registration on downsampled point clouds.\n",
      "Transformation is:\n",
      "[[ 9.89051385e-01 -1.00081331e-03  1.47568138e-01 -6.95234796e+00]\n",
      " [-6.46001788e-02  8.96137313e-01  4.39049807e-01 -2.54936752e+01]\n",
      " [-1.32680722e-01 -4.43775748e-01  8.86261198e-01  7.67879794e+00]\n",
      " [ 0.00000000e+00  0.00000000e+00  0.00000000e+00  1.00000000e+00]]\n",
      "overlapping points :  20\n",
      "RegistrationResult with fitness=5.735589e-03, inlier_rmse=2.087349e-01, and correspondence_set size of 20\n",
      "Access transformation to get result.\n",
      "\n",
      "POINT-TO-PLANE ICP registration is applied on original point\n",
      "distance threshold 0.400.\n",
      "Transformation is:\n",
      "[[  0.98770938  -0.03760983   0.15170921  -7.10811636]\n",
      " [ -0.05060687   0.8413838    0.53806342 -30.1652896 ]\n",
      " [ -0.14788215  -0.53912782   0.82913935  10.51694402]\n",
      " [  0.           0.           0.           1.        ]]\n",
      "overlapping points :  3210\n",
      "RegistrationResult with fitness=2.407199e-01, inlier_rmse=1.619810e-01, and correspondence_set size of 3210\n",
      "Access transformation to get result.\n",
      "duration: 36.02741440099999\n"
     ]
    }
   ],
   "source": [
    "# timestamp\n",
    "now = datetime.now()\n",
    "dt_string = now.strftime(\"%d%m%Y-%Hh%Mm%Ss\")\n",
    "print(dt_string)\n",
    "\n",
    "# initialize \n",
    "voxel_size  =0.2 # with 0.1 doesnt work!\n",
    "i = 2\n",
    "j = 0\n",
    "source_label = labels_stitches[i][9:-3] # just labels parsing\n",
    "target_label =labels_stitches[j][9:-3]\n",
    "\n",
    "source = list_stitches[i]\n",
    "target = list_stitches[j]\n",
    "\n",
    "processed_source = downsampled_stitches[i]\n",
    "processed_target = downsampled_stitches[j]\n",
    "\n",
    "mytitle= dt_string+\"-%s_%s\"%(source_label,target_label)\n",
    "start = timer()\n",
    "\n",
    "#MAIN\n",
    "source_output, target_output, transformation_1 = stitch_sequences(processed_source,processed_target,\n",
    "                                                  source_label,target_label,\n",
    "                                                  mmax_iteration = 10**7,\n",
    "                                                  mmax_validation = 0.999,\n",
    "                                                  print_statements = True, \n",
    "                                                  visualization_on = False  \n",
    "                                                 )\n",
    "\n",
    "end = timer()\n",
    "print (f\"duration: {end-start}\")\n",
    "draw_registration_result(source_output, target_output, transformation_1, title = dt_string+\"Downsampled Registration results\")\n",
    "\n",
    "\n",
    "## apply transformation on original \n",
    "draw_registration_result(source, target, transformation_1, title = dt_string+\"Full Registration results\")"
   ]
  },
  {
   "cell_type": "code",
   "execution_count": 29,
   "metadata": {},
   "outputs": [
    {
     "name": "stdout",
     "output_type": "stream",
     "text": [
      "12012021-12h49m52s\n",
      "allpc_downsampled_upper_external\n",
      "Load two point clouds and disturb initial pose.\n",
      "removing outliers\n",
      "\n",
      "GLOBAL REGISTRATION: RANSAC registration on downsampled point clouds.\n",
      "Transformation is:\n",
      "[[ -0.04969377   0.13012126   0.99025198  -6.22751835]\n",
      " [  0.82299035   0.56708341  -0.0332159  -31.57271881]\n",
      " [ -0.56587756   0.8133172   -0.13526906  11.07439226]\n",
      " [  0.           0.           0.           1.        ]]\n",
      "overlapping points :  31\n",
      "RegistrationResult with fitness=8.910606e-03, inlier_rmse=2.148738e-01, and correspondence_set size of 31\n",
      "Access transformation to get result.\n",
      "\n",
      "POINT-TO-PLANE ICP registration is applied on original point\n",
      "distance threshold 0.400.\n",
      "Transformation is:\n",
      "[[ -0.03762227   0.15169919   0.98771044  -7.10767312]\n",
      " [  0.84138228   0.53806725  -0.0505914  -30.16567625]\n",
      " [ -0.53912932   0.8291387   -0.14788032  10.51691426]\n",
      " [  0.           0.           0.           1.        ]]\n",
      "overlapping points :  3210\n",
      "RegistrationResult with fitness=2.407199e-01, inlier_rmse=1.619839e-01, and correspondence_set size of 3210\n",
      "Access transformation to get result.\n",
      "duration: 35.23569035499986\n"
     ]
    }
   ],
   "source": [
    "# timestamp\n",
    "now = datetime.now()\n",
    "dt_string = now.strftime(\"%d%m%Y-%Hh%Mm%Ss\")\n",
    "print(dt_string)\n",
    "\n",
    "# initialize \n",
    "voxel_size  =0.2 # with 0.1 doesnt work!\n",
    "i = 2\n",
    "j = 0\n",
    "source_label = labels_stitches[i][9:-3] # just labels parsing\n",
    "target_label =labels_stitches[j][9:-3]\n",
    "\n",
    "source = list_stitches[i]\n",
    "target = list_stitches[j]\n",
    "\n",
    "processed_source = downsampled_stitches[i]\n",
    "processed_target = downsampled_stitches[j]\n",
    "\n",
    "mytitle= dt_string+\"-%s_%s\"%(source_label,target_label)\n",
    "start = timer()\n",
    "\n",
    "#MAIN\n",
    "source_output, target_output, transformation_1 = stitch_sequences(processed_source,processed_target,\n",
    "                                                  source_label,target_label,\n",
    "                                                  mmax_iteration = 10**8,\n",
    "                                                  mmax_validation = 0.999,\n",
    "                                                  print_statements = True, \n",
    "                                                  visualization_on = False  \n",
    "                                                 )\n",
    "\n",
    "end = timer()\n",
    "print (f\"duration: {end-start}\")\n",
    "draw_registration_result(source_output, target_output, transformation_1, title = dt_string+\"Downsampled Registration results\")\n",
    "\n",
    "\n",
    "## apply transformation on original \n",
    "draw_registration_result(source, target, transformation_1, title = dt_string+\"Full Registration results\")"
   ]
  },
  {
   "cell_type": "markdown",
   "metadata": {},
   "source": [
    "## downsample new one for next step"
   ]
  },
  {
   "cell_type": "code",
   "execution_count": null,
   "metadata": {},
   "outputs": [],
   "source": [
    "downsampled_upper_external = downsample_list_stitches([upper_external],\n",
    "                                                        [\"upper_external\"],color_stitches= None , \n",
    "                                                        voxel_size = 0.3,\n",
    "                                                        visualization_on = False,\n",
    "                                                        print_statements = False)"
   ]
  },
  {
   "cell_type": "markdown",
   "metadata": {},
   "source": [
    "## Step 2-"
   ]
  },
  {
   "cell_type": "code",
   "execution_count": null,
   "metadata": {},
   "outputs": [],
   "source": [
    "# input \n",
    "voxel_size  =0.2\n",
    "j = 1\n",
    "source_label = \"upper_external\"\n",
    "target_label =labels_stitches[j][9:-3]\n",
    "\n",
    "processed_source = upper_external\n",
    "processed_target = downsampled_stitches[j]\n",
    "\n",
    "mytitle= dt_string+\"-%s_%s\"%(source_label,target_label)\n",
    "\n",
    "\n",
    "start = timer()\n",
    "\n",
    "source_output, target_output,transformation = tqdm(stitch_sequences(processed_source,processed_target,\n",
    "                                                                  source_label,target_label,\n",
    "                                                                  mmax_iteration = 10**7,\n",
    "                                                                  mmax_validation = 0.999,\n",
    "                                                                  print_statements = False,\n",
    "                                                                  visualization_on = False\n",
    "                                                                 )\n",
    "                                                )\n",
    "\n",
    "\n",
    "end = timer()\n",
    "print (f\"duration: {end-start}\")\n",
    "draw_registration_result(source_output, target_output, transformation, title = \"Downsampled Registration results\")"
   ]
  },
  {
   "cell_type": "code",
   "execution_count": null,
   "metadata": {},
   "outputs": [],
   "source": [
    "#source = upper_external\n",
    "#target = list_stitches[j]\n",
    "\n",
    "draw_registration_result(source, target, transformation, title = \"Registration results\")\n",
    "\n"
   ]
  },
  {
   "cell_type": "code",
   "execution_count": null,
   "metadata": {
    "scrolled": true
   },
   "outputs": [],
   "source": [
    "source, target,transformation = tqdm(stitch_sequences(processed_source,processed_target,\n",
    "                                                                  source_label,target_label,\n",
    "                                                                  mmax_iteration = 10**7,\n",
    "                                                                  mmax_validation = 0.999,\n",
    "                                                                  print_statements = False,\n",
    "                                                                  visualization_on = False\n",
    "                                                                 )\n",
    "                                                )"
   ]
  },
  {
   "cell_type": "markdown",
   "metadata": {},
   "source": [
    "## visualize result"
   ]
  },
  {
   "cell_type": "code",
   "execution_count": null,
   "metadata": {},
   "outputs": [],
   "source": [
    "#draw_registration_result(source, target, transformation, title = \"\")"
   ]
  },
  {
   "cell_type": "code",
   "execution_count": null,
   "metadata": {},
   "outputs": [],
   "source": [
    "\"\"\"\n",
    "complete_downsampled = save_registration_result(source, target, transformation, \n",
    "                                        title= mytitle, \n",
    "                                        save_result = False,\n",
    "                                        visualize_result = False)\n",
    "\"\"\""
   ]
  },
  {
   "cell_type": "code",
   "execution_count": null,
   "metadata": {
    "scrolled": true
   },
   "outputs": [],
   "source": [
    "#get_num_points([complete_downsampled], print_statement = True)"
   ]
  },
  {
   "cell_type": "markdown",
   "metadata": {},
   "source": [
    "## apply transformation on original "
   ]
  },
  {
   "cell_type": "code",
   "execution_count": null,
   "metadata": {},
   "outputs": [],
   "source": [
    "#use the found transformation with original full point source and target\n",
    "\n",
    "source = upper_external\n",
    "target = list_stitches[j]\n",
    "\n",
    "draw_registration_result(source, target, transformation, title = \"\")"
   ]
  },
  {
   "cell_type": "code",
   "execution_count": null,
   "metadata": {},
   "outputs": [],
   "source": [
    "mytitle"
   ]
  },
  {
   "cell_type": "code",
   "execution_count": null,
   "metadata": {},
   "outputs": [],
   "source": [
    "#save it\n",
    "complete = save_registration_result(source, target, transformation, \n",
    "                                        title= mytitle, \n",
    "                                        save_result = True,\n",
    "                                        visualize_result = False)\n",
    "\n",
    "custom_draw_geometry(complete,\n",
    "                     mytitle = mytitle,\n",
    "                     params = myparams,  # parameter for camera point view, json file via pressing P\n",
    "                     configuration_file = myconfiguration_file, # configuration file for properties, json file via pressing o\n",
    "                     take_screen_shot = False,\n",
    "                     rotate = True)"
   ]
  },
  {
   "cell_type": "code",
   "execution_count": null,
   "metadata": {
    "scrolled": true
   },
   "outputs": [],
   "source": [
    "get_num_points([complete], print_statement = True)"
   ]
  }
 ],
 "metadata": {
  "kernelspec": {
   "display_name": "Python 3",
   "language": "python",
   "name": "python3"
  },
  "language_info": {
   "codemirror_mode": {
    "name": "ipython",
    "version": 3
   },
   "file_extension": ".py",
   "mimetype": "text/x-python",
   "name": "python",
   "nbconvert_exporter": "python",
   "pygments_lexer": "ipython3",
   "version": "3.8.5"
  }
 },
 "nbformat": 4,
 "nbformat_minor": 4
}
