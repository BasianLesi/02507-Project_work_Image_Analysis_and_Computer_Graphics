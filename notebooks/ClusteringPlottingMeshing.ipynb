{
 "cells": [
  {
   "cell_type": "markdown",
   "metadata": {},
   "source": [
    "## How to use\n",
    "This notebook contains a collection of functions usefull for Clustering, Meshing and Plotting. To add this to any other notebook just run\n",
    "\n",
    "%run \"../Notebooks/ClusteringPlottingMeshing.ipynb\"\n",
    "\n",
    "at the beginning."
   ]
  },
  {
   "cell_type": "markdown",
   "metadata": {},
   "source": [
    "## Imports"
   ]
  },
  {
   "cell_type": "code",
   "execution_count": 11,
   "metadata": {},
   "outputs": [],
   "source": [
    "#!pip install open3d\n",
    "\n",
    "from mpl_toolkits.mplot3d import Axes3D\n",
    "import matplotlib.pyplot as plt\n",
    "import numpy as np\n",
    "import open3d as o3d\n",
    "import trimesh"
   ]
  },
  {
   "cell_type": "markdown",
   "metadata": {},
   "source": [
    "## Plotting"
   ]
  },
  {
   "cell_type": "code",
   "execution_count": 12,
   "metadata": {},
   "outputs": [],
   "source": [
    "# FUNCTION: \n",
    "#    This function plots a point cloud\n",
    "#\n",
    "# INPUT:\n",
    "#   - cloud (open3d.geometry.PointCloud): original point cloud on which the operation is performed \n",
    "#   - epsilon (float): epsilon parameter for the dbscan algorithm (optional)\n",
    "#   - min_points (int): min_points parameter for the dbscan algorithm (optional)\n",
    "#   - correct_rotation (boolean): rotates point cloud to ideal position for this project, overwrites mirrorX/mirrorY/mirrorZ\n",
    "#   - shaded (boolean): applies a simple shading for a 3D effect if true\n",
    "#   - mirrorX (boolean): mirrors cloud along the X-axis\n",
    "#   - mirrorY (boolean): mirrors cloud along the Y-axis\n",
    "#   - mirrorZ (boolean): mirrors cloud along the Z-axis\n",
    "\n",
    "def plotCloud(cloud, correct_rotation = False, shaded = False, mirrorX = False, mirrorY = False, mirrorZ = False):\n",
    "    if(correct_rotation):\n",
    "        mirrorX = False\n",
    "        mirrorY = True\n",
    "        mirrorZ = True\n",
    "    \n",
    "    fig = plt.figure(figsize=(10,10))\n",
    "    ax = fig.add_subplot(111, projection='3d')\n",
    "    \n",
    "    colors = cloud.colors\n",
    "    if(shaded):\n",
    "        cloud.estimate_normals()\n",
    "        cloud.normalize_normals()\n",
    "        normals = np.absolute(np.asarray(cloud.normals))\n",
    "        colors = []\n",
    "        for n,c in zip(normals,cloud.colors):\n",
    "            colors.append(c * (np.dot(n,[0,0,1])*0.8+0.2))\n",
    "        \n",
    "        \n",
    "    points = np.asarray(cloud.points)\n",
    "            \n",
    "    ax.scatter(points[:,0]*-(mirrorX*2-1),points[:,1]*-(mirrorY*2-1),points[:,2]*-(mirrorZ*2-1), c = colors, marker = \".\", alpha = 0.2)\n",
    "    plt.show()\n",
    "    "
   ]
  },
  {
   "cell_type": "markdown",
   "metadata": {},
   "source": [
    "## Clustering"
   ]
  },
  {
   "cell_type": "code",
   "execution_count": 13,
   "metadata": {},
   "outputs": [],
   "source": [
    "cluster_colors = [[0, 0, 1],[0, 1, 1], [0, 1, 0], [1, 1, 0], [1, 0, 1], [1, 0, 0], [1, 0.5, 0], [1, 0, 0.5], \n",
    "                  [0.5, 1, 0], [0, 1, 0.5], [0.5, 0, 1], [0, 0.5, 1], [1, 0.5, 0.5], [0.5, 1, 0.5], [0.5, 0.5, 1]]\n",
    "\n",
    "# FUNCTION:\n",
    "#   This function applies the dbscan clustering algorithm to a point cloud and paints the clusters accordingly\n",
    "#\n",
    "# INPUT:\n",
    "#   - cloud (open3d.geometry.PointCloud): original point cloud on which the operation is performed \n",
    "#   - epsilon (float): epsilon parameter for the dbscan algorithm (optional)\n",
    "#   - min_points (int): min_points parameter for the dbscan algorithm (optional)\n",
    "#   - colors (float array, shape: [n,3]): list of colors in which to paint the clusters\n",
    "\n",
    "def paintClusters(cloud, epsilon = 0.3, min_points = 3, colors = cluster_colors):\n",
    "    clustering = np.asarray(cloud.cluster_dbscan(epsilon, min_points))\n",
    "    result = []\n",
    "    for c in clustering:\n",
    "        if c>=len(colors):\n",
    "            result.append([0.5,0.5,0.5])\n",
    "        else:\n",
    "            result.append(colors[c])\n",
    "    cloud.colors = o3d.utility.Vector3dVector(result)"
   ]
  },
  {
   "cell_type": "code",
   "execution_count": 14,
   "metadata": {},
   "outputs": [],
   "source": [
    "# FUNCTION:\n",
    "#   This function removes outliers in a point cloud by applying the dbscan clustering algorithm and removing small clusters\n",
    "#\n",
    "# INPUT:\n",
    "#   - cloud (open3d.geometry.PointCloud): original point cloud on which the operation is performed \n",
    "#   - threshold (int/float): size below wich clusters are removed. If theshold >= 1, then the absolut value is used,\n",
    "#                            if threshold < 1 then the threshold is calculated as percentage of the biggest cluster\n",
    "#   - epsilon (float): epsilon parameter for the dbscan algorithm (optional)\n",
    "#   - min_points (int): min_points parameter for the dbscan algorithm (optional)\n",
    "\n",
    "def removeOutliers(cloud, threshold = 1000, epsilon = 0.3, min_points = 3):\n",
    "    clustering = np.asarray(cloud.cluster_dbscan(epsilon, min_points))\n",
    "    \n",
    "    #count cluster\n",
    "    number_of_cl = max(np.asarray(clustering))\n",
    "    unique, c = np.unique(np.asarray(clustering), return_counts=True)\n",
    "    \n",
    "    #if threshold is given as percentage, calculate real threshold\n",
    "    if threshold < 1:\n",
    "        threshold = max(c) * threshold\n",
    "    \n",
    "    \n",
    "    counts = dict(zip(unique,c))\n",
    "    final_cl = [0]*len(clustering)\n",
    "    \n",
    "    points_old = np.asarray(cloud.points)\n",
    "    points_new = []\n",
    "    for i in range(len(clustering)):\n",
    "        if counts[clustering[i]] > threshold:\n",
    "            #final_cl[i] = 1\n",
    "            points_new.append(points_old[i])\n",
    "        #else:\n",
    "            #final_cl[i] = 0\n",
    "        #print(i,db.labels_[i],counts[db.labels_[i]],final_cl[i])\n",
    "            \n",
    "    #points = np.asarray(cloud.points)[final_cl]\n",
    "    \n",
    "    pcd = o3d.geometry.PointCloud()\n",
    "    pcd.points = o3d.utility.Vector3dVector(points_new)\n",
    "    pcd.paint_uniform_color([0.5, 0.5, 0.5])\n",
    "    return pcd"
   ]
  },
  {
   "cell_type": "markdown",
   "metadata": {},
   "source": [
    "## Meshing"
   ]
  },
  {
   "cell_type": "code",
   "execution_count": 25,
   "metadata": {},
   "outputs": [],
   "source": [
    "# FUNCTION:\n",
    "#    Converts open3d TriangleMesh to trimesh Trimesh and vise versa\n",
    "# INPUT:\n",
    "#    mesh (open3d TriangleMesh/trimesh Trimesh)\n",
    "# OUTPUT:\n",
    "#    return (trimesh Trimesh/open3d TriangleMesh)\n",
    "\n",
    "def convert(mesh):\n",
    "    if isinstance(mesh, o3d.cpu.pybind.geometry.TriangleMesh):\n",
    "        return trimesh.Trimesh(np.asarray(mesh.vertices), np.asarray(mesh.triangles), vertex_normals=np.asarray(mesh.vertex_normals))\n",
    "    else:\n",
    "        omesh = mesh.as_open3d\n",
    "        omesh.compute_vertex_normals()\n",
    "        return omesh\n",
    "    \n",
    "def convert2open3d(tmesh):\n",
    "    if isinstance(tmesh, o3d.cpu.pybind.geometry.TriangleMesh):\n",
    "        return tmesh\n",
    "    else:\n",
    "        mesh = tmesh.as_open3d\n",
    "        mesh.compute_vertex_normals()\n",
    "        return mesh\n",
    "    \n",
    "def convert2trimesh(mesh):\n",
    "    if isinstance(mesh, o3d.cpu.pybind.geometry.TriangleMesh):\n",
    "        return trimesh.Trimesh(np.asarray(mesh.vertices), np.asarray(mesh.triangles), vertex_normals=np.asarray(mesh.vertex_normals))\n",
    "    else:\n",
    "        return tmesh"
   ]
  },
  {
   "cell_type": "code",
   "execution_count": 16,
   "metadata": {},
   "outputs": [],
   "source": [
    "# FUNCTION:\n",
    "#    Converts open3d TriangleMesh to trimesh Trimesh and vise versa\n",
    "# INPUT:\n",
    "#    mesh (open3d TriangleMesh/trimesh Trimesh)\n",
    "# OUTPUT:\n",
    "#    return (trimesh Trimesh/open3d TriangleMesh)\n",
    "\n",
    "def make_mesh(cloud, alpha = 0.2):\n",
    "    mesh = o3d.geometry.TriangleMesh.create_from_point_cloud_alpha_shape(cloud, alpha)       \n",
    "    mesh.compute_vertex_normals()    \n",
    "    tmesh = convert2trimesh(mesh)\n",
    "    trimesh.repair.fix_normals(tmesh)\n",
    "    return tmesh.as_open3d\n",
    "    \n",
    "def smooth(mesh,  smooth_iterations = 10, smooth_lamb = 0.5):\n",
    "    smooth_mesh = fixed_mesh.filter_smooth_laplacian(smooth_iterations, smooth_lamb)\n",
    "    smooth_mesh.compute_vertex_normals()\n",
    "    return smooth_mesh"
   ]
  },
  {
   "cell_type": "code",
   "execution_count": 17,
   "metadata": {},
   "outputs": [],
   "source": [
    "# FUNCTION converts an open3d PointCloud into an open3d mese\n",
    "# INPUT:\n",
    "#   - cloud (open3d PointCloud): point cloud\n",
    "#   - alpha (float): alpha parameter of the meshing algorithm\n",
    "#   - smooth_lamb (float): lambda parameter of the laplacian smoothing algorithm\n",
    "#   - smooth_iterations (float): iterations parameter of the laplacian smoothing algorithm    \n",
    "def make_smooth_mesh(cloud, alpha = 0.2, smooth_iterations = 10, smooth_lamb = 0.5):    \n",
    "    return smooth(make_mesh(cloud, alpha), smooth_iterations, smooth_lamb)"
   ]
  },
  {
   "cell_type": "code",
   "execution_count": 20,
   "metadata": {},
   "outputs": [
    {
     "name": "stdout",
     "output_type": "stream",
     "text": [
      "Clustering, Plotting and Meshing loaded at\n"
     ]
    }
   ],
   "source": [
    "print(\"Clustering, Plotting and Meshing loaded at\")"
   ]
  },
  {
   "cell_type": "markdown",
   "metadata": {},
   "source": [
    "## Testing Area"
   ]
  },
  {
   "cell_type": "raw",
   "metadata": {},
   "source": [
    "# For testing purposes only\n",
    "\n",
    "import os\n",
    "\n",
    "\n",
    "# save original path\n",
    "try: original_path\n",
    "except NameError: original_path = os.path.abspath(os.getcwd())\n",
    "\n",
    "# reset path\n",
    "os.chdir(original_path)\n",
    "\n",
    "# reset path\n",
    "os.chdir(original_path)\n",
    "\n",
    "# change to .ply folder\n",
    "os.chdir('../data/')\n",
    "\n",
    "# load files\n",
    "pcd = o3d.io.read_point_cloud('stitched_external_pc.pcd')"
   ]
  },
  {
   "cell_type": "raw",
   "metadata": {},
   "source": [
    "paintClusters(pcd)\n",
    "plotCloud(pcd, True, True)"
   ]
  },
  {
   "cell_type": "raw",
   "metadata": {},
   "source": [
    "m = make_mesh(removeOutliers(pcd))"
   ]
  }
 ],
 "metadata": {
  "kernelspec": {
   "display_name": "Python 3",
   "language": "python",
   "name": "python3"
  },
  "language_info": {
   "codemirror_mode": {
    "name": "ipython",
    "version": 3
   },
   "file_extension": ".py",
   "mimetype": "text/x-python",
   "name": "python",
   "nbconvert_exporter": "python",
   "pygments_lexer": "ipython3",
   "version": "3.7.4"
  }
 },
 "nbformat": 4,
 "nbformat_minor": 2
}
