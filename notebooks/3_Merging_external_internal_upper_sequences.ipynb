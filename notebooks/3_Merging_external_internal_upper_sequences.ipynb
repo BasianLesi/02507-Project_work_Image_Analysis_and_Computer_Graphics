{
 "cells": [
  {
   "cell_type": "markdown",
   "metadata": {},
   "source": [
    "## run notebooks"
   ]
  },
  {
   "cell_type": "code",
   "execution_count": 41,
   "metadata": {},
   "outputs": [
    {
     "name": "stdout",
     "output_type": "stream",
     "text": [
      "The autoreload extension is already loaded. To reload it, use:\n",
      "  %reload_ext autoreload\n"
     ]
    }
   ],
   "source": [
    "%run \"../Notebooks/intialization.ipynb\"\n",
    "%run \"../Notebooks/Stitching_functions.ipynb\"\n",
    "%run \"../Notebooks/Visualization_functions.ipynb\"\n",
    "%run \"../Notebooks/Downsampling_and_outliers_functions.ipynb\"\n",
    "%load_ext autoreload"
   ]
  },
  {
   "cell_type": "code",
   "execution_count": 31,
   "metadata": {
    "scrolled": true
   },
   "outputs": [],
   "source": [
    "## show files in directory recenlty modified\n",
    "#!find . -mtime 0"
   ]
  },
  {
   "cell_type": "markdown",
   "metadata": {},
   "source": [
    "## Load the pointclouds"
   ]
  },
  {
   "cell_type": "code",
   "execution_count": 42,
   "metadata": {},
   "outputs": [],
   "source": [
    "## parameters initialization \n",
    "myparams = \"./ScreenCamera_2021-01-12-10-28-18.json\"  # parameter for camera point view, json file via pressing P\n",
    "myconfiguration_file = \"RenderOption_2021-01-12-10-24-27.json\" # configuration file for properties, json file via pressing o\n"
   ]
  },
  {
   "cell_type": "code",
   "execution_count": 43,
   "metadata": {},
   "outputs": [],
   "source": [
    "stitched_external_pc = o3d.io.read_point_cloud(\"stitched_external_pc.pcd\")\n",
    "stitched_internal_pc = o3d.io.read_point_cloud(\"stitched_internal_pc.pcd\")\n",
    "stitched_upper_pc = o3d.io.read_point_cloud(\"stitched_upper_pc.pcd\")"
   ]
  },
  {
   "cell_type": "code",
   "execution_count": 44,
   "metadata": {},
   "outputs": [],
   "source": [
    "labels_stitches = [\"stitched_external_pc\",\"stitched_internal_pc\", \"stitched_upper_pc\"]\n",
    "list_stitches = [stitched_external_pc,stitched_internal_pc,stitched_upper_pc]\n",
    "color_stitches = [[1, 0.706, 0],[0, 0.651, 0.929],[0,0.7,0.3]]"
   ]
  },
  {
   "cell_type": "markdown",
   "metadata": {},
   "source": [
    "## Many plots"
   ]
  },
  {
   "cell_type": "code",
   "execution_count": 45,
   "metadata": {},
   "outputs": [
    {
     "name": "stdout",
     "output_type": "stream",
     "text": [
      "loading parameters: \n",
      "  ./ScreenCamera_2021-01-12-10-28-18.json\n",
      "loading configuration file: \n",
      "  RenderOption_2021-01-12-10-24-27.json\n",
      "\u001b[1;33m[Open3D WARNING] GLFW Error: The GLFW library is not initialized\u001b[0;m\n",
      "loading parameters: \n",
      "  ./ScreenCamera_2021-01-12-10-28-18.json\n",
      "loading configuration file: \n",
      "  RenderOption_2021-01-12-10-24-27.json\n",
      "\u001b[1;33m[Open3D WARNING] GLFW Error: The GLFW library is not initialized\u001b[0;m\n",
      "loading parameters: \n",
      "  ./ScreenCamera_2021-01-12-10-28-18.json\n",
      "loading configuration file: \n",
      "  RenderOption_2021-01-12-10-24-27.json\n",
      "\u001b[1;33m[Open3D WARNING] GLFW Error: The GLFW library is not initialized\u001b[0;m\n"
     ]
    }
   ],
   "source": [
    "# plot a list of geometries\n",
    "custom_draw_geometry([list_stitches[:]],\n",
    "                     mytitle = [labels_stitches[:]],\n",
    "                     params = myparams,  # parameter for camera point view, json file via pressing P\n",
    "                     configuration_file = myconfiguration_file, # configuration file for properties, json file via pressing o\n",
    "                     take_screen_shot = False,\n",
    "                     rotate = True)"
   ]
  },
  {
   "cell_type": "markdown",
   "metadata": {},
   "source": [
    "### downsampling"
   ]
  },
  {
   "cell_type": "code",
   "execution_count": 46,
   "metadata": {},
   "outputs": [
    {
     "name": "stdout",
     "output_type": "stream",
     "text": [
      "Downsampled_pcl_1\n",
      "loading parameters: \n",
      "  ./ScreenCamera_2021-01-12-10-28-18.json\n",
      "loading configuration file: \n",
      "  RenderOption_2021-01-12-10-24-27.json\n",
      "\u001b[1;33m[Open3D WARNING] GLFW Error: The GLFW library is not initialized\u001b[0;m\n",
      "Downsampled_pcl_1\n",
      "number of points original :  230502\n",
      "number of points with voxel down sample : 16013\n",
      "\n",
      "Downsampled_pcl_2\n",
      "loading parameters: \n",
      "  ./ScreenCamera_2021-01-12-10-28-18.json\n",
      "loading configuration file: \n",
      "  RenderOption_2021-01-12-10-24-27.json\n",
      "\u001b[1;33m[Open3D WARNING] GLFW Error: The GLFW library is not initialized\u001b[0;m\n",
      "Downsampled_pcl_2\n",
      "number of points original :  227230\n",
      "number of points with voxel down sample : 11910\n",
      "\n",
      "Downsampled_pcl_3\n",
      "loading parameters: \n",
      "  ./ScreenCamera_2021-01-12-10-28-18.json\n",
      "loading configuration file: \n",
      "  RenderOption_2021-01-12-10-24-27.json\n",
      "\u001b[1;33m[Open3D WARNING] GLFW Error: The GLFW library is not initialized\u001b[0;m\n",
      "Downsampled_pcl_3\n",
      "number of points original :  219648\n",
      "number of points with voxel down sample : 13335\n",
      "\n"
     ]
    }
   ],
   "source": [
    "downsampled_stitches = downsample_list_stitches(list_stitches,\n",
    "                                                #labels_stitches,color_stitches , \n",
    "                                                voxel_size = 0.3,\n",
    "                                                visualization_on = True,\n",
    "                                                print_statements = True)"
   ]
  },
  {
   "cell_type": "code",
   "execution_count": 24,
   "metadata": {},
   "outputs": [],
   "source": [
    "## alignment check\n",
    "#i = 0\n",
    "#o3d.visualization.draw_geometries([downsampled_stitches[i].paint_uniform_color([0.5, 0, 0]),\n",
    "                                   #list_stitches[i].paint_uniform_color([0, 0.5, 0])])"
   ]
  },
  {
   "cell_type": "markdown",
   "metadata": {},
   "source": [
    "## Merge the external, upper, internal together"
   ]
  },
  {
   "cell_type": "markdown",
   "metadata": {},
   "source": [
    "### Step 1- "
   ]
  },
  {
   "cell_type": "code",
   "execution_count": 47,
   "metadata": {},
   "outputs": [
    {
     "name": "stdout",
     "output_type": "stream",
     "text": [
      "12012021-13h51m53s\n",
      "allpc_downsampled_upper_external\n",
      "Load two point clouds and disturb initial pose.\n",
      "removing outliers\n",
      "\n",
      "GLOBAL REGISTRATION: RANSAC registration on downsampled point clouds.\n",
      "Transformation is:\n",
      "[[  0.99522317  -0.07050567   0.06752629  -3.54340418]\n",
      " [  0.04112075   0.93007491   0.3650613  -24.10631397]\n",
      " [ -0.0885434   -0.36054073   0.92853134   5.29086722]\n",
      " [  0.           0.           0.           1.        ]]\n",
      "overlapping points :  15\n",
      "RegistrationResult with fitness=4.301692e-03, inlier_rmse=2.048818e-01, and correspondence_set size of 15\n",
      "Access transformation to get result.\n",
      "\n",
      "POINT-TO-PLANE ICP registration is applied on original point\n",
      "distance threshold 0.400.\n",
      "Transformation is:\n",
      "[[  0.98764626  -0.02989253   0.15382231  -7.23425995]\n",
      " [ -0.0487185    0.87441172   0.48273248 -27.85461593]\n",
      " [ -0.14893413  -0.48426292   0.86215315   9.09004466]\n",
      " [  0.           0.           0.           1.        ]]\n",
      "overlapping points :  3144\n",
      "RegistrationResult with fitness=2.357705e-01, inlier_rmse=1.977389e-01, and correspondence_set size of 3144\n",
      "Access transformation to get result.\n",
      "duration: 36.015268101999936\n"
     ]
    }
   ],
   "source": [
    "# timestamp\n",
    "now = datetime.now()\n",
    "dt_string = now.strftime(\"%d%m%Y-%Hh%Mm%Ss\")\n",
    "print(dt_string)\n",
    "\n",
    "# initialize \n",
    "voxel_size  =0.2 # with 0.1 doesnt work!\n",
    "i = 2\n",
    "j = 0\n",
    "source_label = labels_stitches[i][9:-3] # just labels parsing\n",
    "target_label =labels_stitches[j][9:-3]\n",
    "\n",
    "source = list_stitches[i]\n",
    "target = list_stitches[j]\n",
    "\n",
    "processed_source = downsampled_stitches[i]\n",
    "processed_target = downsampled_stitches[j]\n",
    "\n",
    "mytitle= dt_string+\"-%s_%s\"%(source_label,target_label)\n",
    "start = timer()\n",
    "\n",
    "#MAIN\n",
    "source_output, target_output, transformation_1 = stitch_sequences(processed_source,processed_target,\n",
    "                                                  source_label,target_label,\n",
    "                                                  mmax_iteration = 10**7,\n",
    "                                                  mmax_validation = 0.999,\n",
    "                                                  print_statements = True, \n",
    "                                                  visualization_on = False  \n",
    "                                                 )\n",
    "\n",
    "end = timer()\n",
    "print (f\"duration: {end-start}\")\n",
    "draw_registration_result(source_output, target_output, transformation_1, title = dt_string+\"Downsampled Registration results\")\n",
    "\n",
    "\n",
    "## apply transformation on original \n",
    "draw_registration_result(source, target, transformation_1, title = dt_string+\"Full Registration results\")"
   ]
  },
  {
   "cell_type": "code",
   "execution_count": 49,
   "metadata": {},
   "outputs": [],
   "source": [
    "upper_external = save_registration_result(source, target, transformation_1, \n",
    "                                        title= mytitle, \n",
    "                                        save_result = False,\n",
    "                                        visualize_result = False)"
   ]
  },
  {
   "cell_type": "markdown",
   "metadata": {},
   "source": [
    "## downsample new one for next step"
   ]
  },
  {
   "cell_type": "code",
   "execution_count": 51,
   "metadata": {},
   "outputs": [
    {
     "name": "stdout",
     "output_type": "stream",
     "text": [
      "Downsampled_upper_external\n",
      "loading parameters: \n",
      "  ./ScreenCamera_2021-01-12-10-28-18.json\n",
      "loading configuration file: \n",
      "  RenderOption_2021-01-12-10-24-27.json\n",
      "\u001b[1;33m[Open3D WARNING] GLFW Error: The GLFW library is not initialized\u001b[0;m\n"
     ]
    }
   ],
   "source": [
    "downsampled_upper_external = downsample_list_stitches([upper_external],\n",
    "                                                        [\"upper_external\"],color_stitches= None , \n",
    "                                                        voxel_size = 0.3,\n",
    "                                                        visualization_on = True,\n",
    "                                                        print_statements = False)"
   ]
  },
  {
   "cell_type": "markdown",
   "metadata": {},
   "source": [
    "## Step 2-"
   ]
  },
  {
   "cell_type": "code",
   "execution_count": 56,
   "metadata": {},
   "outputs": [
    {
     "name": "stdout",
     "output_type": "stream",
     "text": [
      "allpc_downsampled_upper_external_internal\n"
     ]
    },
    {
     "data": {
      "application/vnd.jupyter.widget-view+json": {
       "model_id": "8e96584f87ca4e13bbaf5426e038ae69",
       "version_major": 2,
       "version_minor": 0
      },
      "text/plain": [
       "  0%|          | 0/3 [00:00<?, ?it/s]"
      ]
     },
     "metadata": {},
     "output_type": "display_data"
    },
    {
     "name": "stdout",
     "output_type": "stream",
     "text": [
      "duration: 15.386144336998768\n"
     ]
    }
   ],
   "source": [
    "# input \n",
    "voxel_size  =0.2\n",
    "j = 1\n",
    "source_label = \"upper_external\"\n",
    "target_label =labels_stitches[j][9:-3]\n",
    "\n",
    "processed_source = downsampled_upper_external[0]\n",
    "processed_target = downsampled_stitches[j]\n",
    "\n",
    "mytitle= dt_string+\"-%s_%s\"%(source_label,target_label)\n",
    "\n",
    "\n",
    "start = timer()\n",
    "\n",
    "source_output, target_output,transformation_2 = tqdm(stitch_sequences(processed_source,processed_target,\n",
    "                                                                  source_label,target_label,\n",
    "                                                                  mmax_iteration = 10**7,\n",
    "                                                                  mmax_validation = 0.999,\n",
    "                                                                  print_statements = False,\n",
    "                                                                  visualization_on = False\n",
    "                                                                 )\n",
    "                                                )\n",
    "\n",
    "\n",
    "end = timer()\n",
    "print (f\"duration: {end-start}\")\n",
    "draw_registration_result(source_output, target_output, transformation_2, title = \"Downsampled Registration results\")\n",
    "\n",
    "source = upper_external\n",
    "target = list_stitches[j]\n",
    "draw_registration_result(source, target, transformation_2, title = \"Registration results\")"
   ]
  },
  {
   "cell_type": "code",
   "execution_count": 57,
   "metadata": {},
   "outputs": [
    {
     "data": {
      "text/plain": [
       "'12012021-13h51m53s-upper_external_internal'"
      ]
     },
     "execution_count": 57,
     "metadata": {},
     "output_type": "execute_result"
    }
   ],
   "source": [
    "mytitle"
   ]
  },
  {
   "cell_type": "code",
   "execution_count": 59,
   "metadata": {},
   "outputs": [
    {
     "name": "stdout",
     "output_type": "stream",
     "text": [
      "loading parameters: \n",
      "  ./ScreenCamera_2021-01-12-10-28-18.json\n",
      "loading configuration file: \n",
      "  RenderOption_2021-01-12-10-24-27.json\n",
      "\u001b[1;33m[Open3D WARNING] GLFW Error: The GLFW library is not initialized\u001b[0;m\n"
     ]
    }
   ],
   "source": [
    "#save it\n",
    "complete = save_registration_result(source, target, transformation_2, \n",
    "                                        title= mytitle, \n",
    "                                        save_result = False,\n",
    "                                        visualize_result = False)\n",
    "\n",
    "custom_draw_geometry(complete,\n",
    "                     mytitle = \"complete stitch\",\n",
    "                     params = myparams,  # parameter for camera point view, json file via pressing P\n",
    "                     configuration_file = myconfiguration_file, # configuration file for properties, json file via pressing o\n",
    "                     take_screen_shot = False,\n",
    "                     rotate = True)"
   ]
  },
  {
   "cell_type": "code",
   "execution_count": 60,
   "metadata": {
    "scrolled": true
   },
   "outputs": [
    {
     "name": "stdout",
     "output_type": "stream",
     "text": [
      "\n"
     ]
    },
    {
     "data": {
      "text/plain": [
       "[677380]"
      ]
     },
     "execution_count": 60,
     "metadata": {},
     "output_type": "execute_result"
    }
   ],
   "source": [
    "get_num_points([complete])"
   ]
  },
  {
   "cell_type": "code",
   "execution_count": 61,
   "metadata": {},
   "outputs": [
    {
     "data": {
      "text/plain": [
       "True"
      ]
     },
     "execution_count": 61,
     "metadata": {},
     "output_type": "execute_result"
    }
   ],
   "source": [
    "o3d.io.write_point_cloud(\"complete.pcd\", complete)\n",
    "o3d.io.write_point_cloud(dt_string+\"complete.pcd\", complete)"
   ]
  },
  {
   "cell_type": "code",
   "execution_count": null,
   "metadata": {},
   "outputs": [],
   "source": []
  }
 ],
 "metadata": {
  "kernelspec": {
   "display_name": "Python 3",
   "language": "python",
   "name": "python3"
  },
  "language_info": {
   "codemirror_mode": {
    "name": "ipython",
    "version": 3
   },
   "file_extension": ".py",
   "mimetype": "text/x-python",
   "name": "python",
   "nbconvert_exporter": "python",
   "pygments_lexer": "ipython3",
   "version": "3.8.5"
  }
 },
 "nbformat": 4,
 "nbformat_minor": 4
}
