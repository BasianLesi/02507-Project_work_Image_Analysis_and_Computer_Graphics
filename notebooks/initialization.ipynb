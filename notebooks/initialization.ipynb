{
 "cells": [
  {
   "cell_type": "markdown",
   "metadata": {},
   "source": [
    "## Import "
   ]
  },
  {
   "cell_type": "code",
   "execution_count": 1,
   "metadata": {},
   "outputs": [],
   "source": [
    "# 3d library\n",
    "import open3d as o3d\n",
    "\n",
    "# image elaboration libraries\n",
    "\n",
    "#!pip install Pillow \n",
    "#!pip install imageio\n",
    "#!pip install cv2-plt-imshow\n",
    "from IPython.display import Image\n",
    "from imageio import imread\n",
    "from imageio import imwrite\n",
    "from PIL import Image\n",
    "from IPython.display import Image as Im\n",
    "\n",
    "import cv2\n",
    "import matplotlib.pyplot as plt\n",
    "from cv2_plt_imshow import cv2_plt_imshow, plt_format\n",
    "\n",
    "# others\n",
    "import numpy as np\n",
    "import os\n",
    "import random as myrand\n",
    "\n",
    "from tqdm.notebook import tqdm# progress bar\n",
    "import sys\n",
    "from time import time \n",
    "import copy\n",
    "\n",
    "delimiter = ', ' \n",
    "myrand.seed(42)\n",
    "dash = '-'*80\n",
    "\n",
    "from datetime import date\n",
    "from datetime import datetime\n",
    "import pickle as pkl\n",
    "\n",
    "import timeit\n",
    "from timeit import default_timer as timer\n",
    "\n",
    "#pip install scikit-spatial\n",
    "from skspatial.objects import Points, Plane\n",
    "from skspatial.plotting import plot_3d\n",
    "from sys import platform"
   ]
  },
  {
   "cell_type": "code",
   "execution_count": 2,
   "metadata": {},
   "outputs": [],
   "source": [
    "# with glob \n",
    "import glob\n",
    "import re\n",
    "import trimesh \n",
    "#!pip install networkx"
   ]
  },
  {
   "cell_type": "markdown",
   "metadata": {},
   "source": [
    "## set up directories"
   ]
  },
  {
   "cell_type": "code",
   "execution_count": 3,
   "metadata": {},
   "outputs": [],
   "source": [
    "platform\n",
    "\n",
    "os.chdir('/Users/ariannataormina/Documents/GitHub/02507-Project_work_Image_Analysis_and_Computer_Graphics/')\n",
    "cwd = os.getcwd()\n",
    "cwd\n",
    "\n",
    "if platform == \"linux\" or platform == \"linux2\":\n",
    "    # linux\n",
    "    print (\"linux to be implemented\")\n",
    "elif platform == \"darwin\":\n",
    "    # OS X\n",
    "    ROOT= cwd +\"/data\" #mac\n",
    "    os.chdir(ROOT)\n",
    "    os.listdir(ROOT)\n",
    "    #!ls {ROOT}\n",
    "elif platform == \"win32\":\n",
    "    # Windows\n",
    "    ROOT='ARI_HD:\\\\' #w10\n",
    "    os.chdir(ROOT)\n",
    "    os.listdir(ROOT)\n",
    "    !dir {ROOT} \n",
    "\n",
    "\n",
    "img_folder = ROOT +\"/imgfolder_2\"\n",
    "ply_folder = ROOT +\"/plyfolder_2\"\n",
    "\n",
    "all_images = sorted(os.listdir(img_folder))\n",
    "all_ply = sorted(os.listdir(ply_folder))\n",
    "\n",
    "all_paths_images = [img_folder+\"/\"+all_images[idx] for idx in range(len(all_images))]\n",
    "all_paths_ply = [ply_folder+\"/\"+all_ply[idx] for idx in range(len(all_ply))]"
   ]
  },
  {
   "cell_type": "markdown",
   "metadata": {},
   "source": [
    "## helper functions -file handling"
   ]
  },
  {
   "cell_type": "code",
   "execution_count": 24,
   "metadata": {},
   "outputs": [],
   "source": [
    "def last_visualization_parameters(day = None):\n",
    "    if day is None: \n",
    "        last_screen = sorted([name for name in glob.glob('./Screen*.json') if name[2:8] == \"Screen\" ])[-1] # last screen\n",
    "        last_render = sorted([name for name in glob.glob('./Render*.json') if name[2:8] == \"Render\" ])[-1]  # last render\n",
    "    \n",
    "    else:\n",
    "        last_screen = sorted([name for name in glob.glob('./Screen*.json') \n",
    "                              if (name[2:8] == \"Screen\" and name[-16:-14] == str(day))])[-1] # last screen\n",
    "        \n",
    "        last_render = sorted([name for name in glob.glob('./Render*.json')\n",
    "                              if (name[2:8] == \"Render\" and name[-16:-14] == str(day))])[-1]  # last render\n",
    "    return last_screen, last_render"
   ]
  },
  {
   "cell_type": "code",
   "execution_count": 17,
   "metadata": {},
   "outputs": [],
   "source": [
    "#https://realpython.com/working-with-files-in-python/#more-advanced-pattern-matching\n",
    "def last_file(extension=''):\n",
    "        newest = max(glob.iglob(f'./*{extension}'), key=os.path.getctime)\n",
    "        return newest\n",
    "    \n",
    "def all_files_containing(word, extension = None):\n",
    "    all_files = [name for name in glob.glob(f'./*{word}*')]\n",
    "    if extension is not None: \n",
    "        all_files = [name for name in all_files if os.path.splitext(name)[1] == str(extension)]\n",
    "    return all_files\n",
    "\n",
    "def last_file_containing(word, extension = None):\n",
    "    \"\"\"\n",
    "    last_file_containing(\"outlier\", extension = '.png')\n",
    "    \"\"\"\n",
    "    all_files = all_files_containing(word, extension)\n",
    "    last_file = sorted(all_files)[-1]\n",
    "    return last_file\n",
    "\n",
    "def last_n_files_containing(word,n, extension = None):\n",
    "    \"\"\"\n",
    "    last_n_files_containing(\"outlier\",n= 2, extension = '.png')\n",
    "    \"\"\"\n",
    "    all_files = all_files_containing(word, extension)\n",
    "    lasts_file = sorted(all_files)[-n:]\n",
    "    return lasts_file\n",
    "\n",
    "\n",
    "def select_from_files_containing(word, extension = None):\n",
    "    \"\"\"\n",
    "    selected_file = select_from_files_containing(\"outlier\", extension = '.png')\n",
    "    \"\"\"\n",
    "    answer =\"n\"\n",
    "    while answer == \"n\":\n",
    "        all_files = all_files_containing(word, extension)\n",
    "        print (*enumerate(all_files), sep = \"\\n\")\n",
    "        print (\"\\nselect file\")\n",
    "        selected = input()\n",
    "        \n",
    "        if selected.isdecimal():\n",
    "            selected_file = all_files[int(selected)]\n",
    "        else:\n",
    "            selected_file = selected\n",
    "            \n",
    "        if selected_file in all_files:\n",
    "            print (f\"\\nfile selected: {selected_file}\")\n",
    "            print (\"y to confirm, n to redo the selection, any key to exit without selecting\")\n",
    "            answer = input()\n",
    "            \n",
    "    if answer == \"y\":\n",
    "        return selected_file\n",
    "    else:\n",
    "        return None"
   ]
  },
  {
   "cell_type": "code",
   "execution_count": 6,
   "metadata": {},
   "outputs": [],
   "source": [
    "# timestamp\n",
    "def mytimestamp(sep= \"-\"):\n",
    "    \"\"\"\n",
    "    mytimestamp()\n",
    "    \"\"\"\n",
    "    now = datetime.now()\n",
    "    dt_string = now.strftime(\"%d%m%Y-%Hh%Mm%Ss\")\n",
    "    return dt_string+sep"
   ]
  },
  {
   "cell_type": "markdown",
   "metadata": {},
   "source": [
    "## default variables"
   ]
  },
  {
   "cell_type": "code",
   "execution_count": 23,
   "metadata": {},
   "outputs": [
    {
     "data": {
      "text/plain": [
       "'./ScreenCamera_2021-01-13-01-29-21.json'"
      ]
     },
     "execution_count": 23,
     "metadata": {},
     "output_type": "execute_result"
    }
   ],
   "source": [
    "last_file(\".json\")"
   ]
  },
  {
   "cell_type": "code",
   "execution_count": 30,
   "metadata": {},
   "outputs": [],
   "source": [
    "myparams, myconfiguration_file = last_visualization_parameters()"
   ]
  },
  {
   "cell_type": "code",
   "execution_count": 8,
   "metadata": {},
   "outputs": [
    {
     "name": "stdout",
     "output_type": "stream",
     "text": [
      "loaded variables: \n",
      "myparams, myconfiguration_file\n"
     ]
    }
   ],
   "source": [
    "print (\"loaded variables: \")\n",
    "print (\"myparams, myconfiguration_file\")"
   ]
  },
  {
   "cell_type": "code",
   "execution_count": null,
   "metadata": {},
   "outputs": [],
   "source": []
  }
 ],
 "metadata": {
  "kernelspec": {
   "display_name": "Python 3",
   "language": "python",
   "name": "python3"
  },
  "language_info": {
   "codemirror_mode": {
    "name": "ipython",
    "version": 3
   },
   "file_extension": ".py",
   "mimetype": "text/x-python",
   "name": "python",
   "nbconvert_exporter": "python",
   "pygments_lexer": "ipython3",
   "version": "3.8.5"
  }
 },
 "nbformat": 4,
 "nbformat_minor": 4
}
