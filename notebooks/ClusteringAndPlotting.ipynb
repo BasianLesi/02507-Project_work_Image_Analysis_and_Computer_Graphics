{
 "cells": [
  {
   "cell_type": "markdown",
   "metadata": {},
   "source": [
    "## Imports"
   ]
  },
  {
   "cell_type": "code",
   "execution_count": 5,
   "metadata": {},
   "outputs": [],
   "source": [
    "import numpy as np\n",
    "import open3d as o3d\n",
    "import sklearn as sk\n",
    "from sklearn import cluster, datasets, mixture\n",
    "from mpl_toolkits.mplot3d import Axes3D\n",
    "import matplotlib.pyplot as plt\n",
    "import numpy as np\n",
    "import os as os"
   ]
  },
  {
   "cell_type": "markdown",
   "metadata": {},
   "source": [
    "## Helper Functions"
   ]
  },
  {
   "cell_type": "code",
   "execution_count": 6,
   "metadata": {},
   "outputs": [],
   "source": [
    "# Inputs:\n",
    "#    cloud: either open3d cloud or numpy array\n",
    "#    color: array for colors, leave None for default colors\n",
    "#    mirrorX/mirrorY/mirrorZ: boolean, to mirror the plot alongside the respective axis\n",
    "\n",
    "def plotCloud(cloud, color = None, mirrorX = False, mirrorY = False, mirrorZ = False):\n",
    "    fig = plt.figure(figsize=(10,10))\n",
    "    ax = fig.add_subplot(111, projection='3d')\n",
    "    \n",
    "    points = []\n",
    "    if(type(cloud) == \"numpy.ndarray\"): # if cloud is array\n",
    "        points = cloud\n",
    "    else: #if cloud is open3d cloud\n",
    "        points = np.asarray(cloud.points)\n",
    "        if color == None:\n",
    "            color = cloud.colors\n",
    "            \n",
    "    ax.scatter(points[:,0]*-(mirrorX*2-1),points[:,1]*-(mirrorY*2-1),points[:,2]*-(mirrorZ*2-1), c = color, marker = \".\", alpha = 0.2)\n",
    "    plt.show()\n",
    "\n",
    "#plotCloud(pcd, mirrorY = True, mirrorZ = True)"
   ]
  },
  {
   "cell_type": "code",
   "execution_count": 7,
   "metadata": {},
   "outputs": [],
   "source": [
    "def clusterColor(cluster, colors):\n",
    "    result = []\n",
    "    for c in cluster:\n",
    "        if c>=len(colors):\n",
    "            result.append([0.5,0.5,0.5])\n",
    "        else:\n",
    "            result.append(colors[c])\n",
    "    return result"
   ]
  },
  {
   "cell_type": "markdown",
   "metadata": {},
   "source": [
    "## Clustering"
   ]
  },
  {
   "cell_type": "code",
   "execution_count": 8,
   "metadata": {},
   "outputs": [],
   "source": [
    "# Colors\n",
    "cluster_colors = [[0, 0, 1],[0, 1, 1], [0, 1, 0], [1, 1, 0], [1, 0, 1], [1, 0, 0]]"
   ]
  },
  {
   "cell_type": "code",
   "execution_count": 9,
   "metadata": {},
   "outputs": [],
   "source": [
    "#Agglomerative Clustering\n",
    "def clusterAgg(X):\n",
    "    clusteringAgg = cluster.AgglomerativeClustering().fit(X)\n",
    "    cluster.AgglomerativeClustering()\n",
    "    return clusteringAgg\n",
    "    \n",
    "#clusteringAgg = clusterAgg(np.asarray(downpcds[0].points))"
   ]
  },
  {
   "cell_type": "code",
   "execution_count": 10,
   "metadata": {},
   "outputs": [],
   "source": [
    "#DBSCAN\n",
    "def clusterDBSCAN(X, min_size = 1):\n",
    "    db = cluster.DBSCAN(eps=0.3, min_samples = min_size).fit(X)\n",
    "    core_samples_mask = np.zeros_like(db.labels_, dtype=bool)\n",
    "    core_samples_mask[db.core_sample_indices_] = True\n",
    "    return db"
   ]
  },
  {
   "cell_type": "markdown",
   "metadata": {},
   "source": [
    "## Outlier Removal"
   ]
  },
  {
   "cell_type": "code",
   "execution_count": 11,
   "metadata": {},
   "outputs": [],
   "source": [
    "def removeOutliers(cloud, threshold = 1000):\n",
    "    db = clusterDBSCAN(np.asarray(cloud.points))\n",
    "    #count cluster\n",
    "    number_of_cl = max(db.labels_)\n",
    "    unique, c = np.unique(db.labels_, return_counts=True)\n",
    "    counts = dict(zip(unique,c))\n",
    "    final_cl = [0]*len(db.labels_)\n",
    "    \n",
    "    points_old = np.asarray(cloud.points)\n",
    "    points_new = []\n",
    "    for i in range(len(db.labels_)):\n",
    "        if counts[db.labels_[i]] > threshold:\n",
    "            #final_cl[i] = 1\n",
    "            points_new.append(points_old[i])\n",
    "        #else:\n",
    "            #final_cl[i] = 0\n",
    "        #print(i,db.labels_[i],counts[db.labels_[i]],final_cl[i])\n",
    "            \n",
    "    #points = np.asarray(cloud.points)[final_cl]\n",
    "    \n",
    "    pcd = o3d.geometry.PointCloud()\n",
    "    pcd.points = o3d.utility.Vector3dVector(points_new)\n",
    "    pcd.paint_uniform_color([0.5, 0.5, 0.5])\n",
    "    return pcd"
   ]
  },
  {
   "cell_type": "code",
   "execution_count": 13,
   "metadata": {},
   "outputs": [
    {
     "name": "stdout",
     "output_type": "stream",
     "text": [
      "Clustering and Plotting loaded\n"
     ]
    }
   ],
   "source": [
    "print(\"Clustering and Plotting loaded\")"
   ]
  },
  {
   "cell_type": "code",
   "execution_count": null,
   "metadata": {},
   "outputs": [],
   "source": []
  }
 ],
 "metadata": {
  "kernelspec": {
   "display_name": "Python 3",
   "language": "python",
   "name": "python3"
  },
  "language_info": {
   "codemirror_mode": {
    "name": "ipython",
    "version": 3
   },
   "file_extension": ".py",
   "mimetype": "text/x-python",
   "name": "python",
   "nbconvert_exporter": "python",
   "pygments_lexer": "ipython3",
   "version": "3.7.4"
  }
 },
 "nbformat": 4,
 "nbformat_minor": 2
}
