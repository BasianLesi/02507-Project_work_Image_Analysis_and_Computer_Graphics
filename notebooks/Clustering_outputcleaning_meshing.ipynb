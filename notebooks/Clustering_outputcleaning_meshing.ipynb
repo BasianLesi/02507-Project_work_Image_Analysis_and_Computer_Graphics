{
 "cells": [
  {
   "cell_type": "markdown",
   "metadata": {},
   "source": [
    "# Import "
   ]
  },
  {
   "cell_type": "code",
   "execution_count": 1,
   "metadata": {},
   "outputs": [],
   "source": [
    "# 3d library\n",
    "import open3d as o3d"
   ]
  },
  {
   "cell_type": "code",
   "execution_count": 2,
   "metadata": {},
   "outputs": [],
   "source": [
    "# image elaboration libraries\n",
    "\n",
    "#!pip install Pillow \n",
    "#!pip install imageio\n",
    "#!pip install cv2-plt-imshow\n",
    "from IPython.display import Image\n",
    "from imageio import imread\n",
    "from imageio import imwrite\n",
    "from PIL import Image\n",
    "from IPython.display import Image as Im\n",
    "\n",
    "import cv2\n",
    "import matplotlib.pyplot as plt\n",
    "from cv2_plt_imshow import cv2_plt_imshow, plt_format"
   ]
  },
  {
   "cell_type": "code",
   "execution_count": 3,
   "metadata": {},
   "outputs": [],
   "source": [
    "# others\n",
    "import numpy as np\n",
    "import os\n",
    "import random as myrand\n",
    "\n",
    "from tqdm.notebook import tqdm# progress bar\n",
    "import sys\n",
    "from time import time \n",
    "import copy"
   ]
  },
  {
   "cell_type": "code",
   "execution_count": 4,
   "metadata": {},
   "outputs": [],
   "source": [
    "delimiter = ', ' \n",
    "myrand.seed(42)\n",
    "dash = '-'*80"
   ]
  },
  {
   "cell_type": "code",
   "execution_count": 5,
   "metadata": {},
   "outputs": [],
   "source": [
    "from datetime import date\n",
    "from datetime import datetime\n",
    "import pickle as pkl"
   ]
  },
  {
   "cell_type": "code",
   "execution_count": 226,
   "metadata": {},
   "outputs": [],
   "source": [
    "import timeit\n",
    "from timeit import default_timer as timer"
   ]
  },
  {
   "cell_type": "code",
   "execution_count": null,
   "metadata": {},
   "outputs": [],
   "source": [
    "#pip install scikit-spatial\n",
    "from skspatial.objects import Points, Plane\n",
    "from skspatial.plotting import plot_3d"
   ]
  },
  {
   "cell_type": "code",
   "execution_count": 7,
   "metadata": {
    "scrolled": true
   },
   "outputs": [
    {
     "name": "stdout",
     "output_type": "stream",
     "text": [
      "ARITA_point_cloud_project.ipynb\r\n",
      "Clustering_outputcleaning_meshing.ipynb\r\n",
      "Downsampling_and_outliers_functions.ipynb\r\n",
      "Merging_3_last.ipynb\r\n",
      "Stitching_functions.ipynb\r\n",
      "Stitching_functions_advanced.ipynb\r\n",
      "Visualization_functions.ipynb\r\n",
      "readme\r\n"
     ]
    }
   ],
   "source": [
    "!ls"
   ]
  },
  {
   "cell_type": "code",
   "execution_count": 8,
   "metadata": {},
   "outputs": [
    {
     "data": {
      "text/plain": [
       "'darwin'"
      ]
     },
     "execution_count": 8,
     "metadata": {},
     "output_type": "execute_result"
    }
   ],
   "source": [
    "from sys import platform\n",
    "platform"
   ]
  },
  {
   "cell_type": "code",
   "execution_count": 9,
   "metadata": {},
   "outputs": [
    {
     "data": {
      "text/plain": [
       "'/Users/ariannataormina/Documents/GitHub/02507-Project_work_Image_Analysis_and_Computer_Graphics'"
      ]
     },
     "execution_count": 9,
     "metadata": {},
     "output_type": "execute_result"
    }
   ],
   "source": [
    "os.chdir('/Users/ariannataormina/Documents/GitHub/02507-Project_work_Image_Analysis_and_Computer_Graphics/')\n",
    "cwd = os.getcwd()\n",
    "cwd"
   ]
  },
  {
   "cell_type": "code",
   "execution_count": 10,
   "metadata": {},
   "outputs": [],
   "source": [
    "if platform == \"linux\" or platform == \"linux2\":\n",
    "    # linux\n",
    "    print (\"linux to be implemented\")\n",
    "elif platform == \"darwin\":\n",
    "    # OS X\n",
    "    ROOT= cwd +\"/data\" #mac\n",
    "    os.chdir(ROOT)\n",
    "    os.listdir(ROOT)\n",
    "    #!ls {ROOT}\n",
    "elif platform == \"win32\":\n",
    "    # Windows\n",
    "    ROOT='ARI_HD:\\\\' #w10\n",
    "    os.chdir(ROOT)\n",
    "    os.listdir(ROOT)\n",
    "    !dir {ROOT} "
   ]
  },
  {
   "cell_type": "code",
   "execution_count": 11,
   "metadata": {
    "scrolled": true
   },
   "outputs": [
    {
     "name": "stdout",
     "output_type": "stream",
     "text": [
      "0601-stitch_19-20.pcd\r\n",
      "0601-transformation_result_icp.pkl\r\n",
      "0601-transformation_result_icp_safe_copy.pkl\r\n",
      "10012021-21h37m05s-stitch_allpc_downsampled_upper_external.pcd\r\n",
      "10012021-22h26m24s-stitch_allpc_downsampled_upper_external_internal.pcd\r\n",
      "10012021-22h44m41s-stitch_allpc_downsampled_upper_external.pcd\r\n",
      "11012021-13h01m00sstitched_external_pc.pcd\r\n",
      "11012021-13h01m00sstitched_internal_pc.pcd\r\n",
      "11012021-13h01m00sstitched_upper_pc.pcd\r\n",
      "11012021-13h13m15s-stitch_11012021-13h13m15s-upper_external.pcd\r\n",
      "11012021-13h13m15s-stitch_11012021-13h13m15s-upper_external_internal.pcd\r\n",
      "DepthCamera_2021-01-10-22-37-11.json\r\n",
      "DepthCapture_2021-01-10-22-37-11.png\r\n",
      "Radius_oulier_removal_fov=1.png\r\n",
      "Radius_oulier_removal_fov=10.png\r\n",
      "Radius_oulier_removal_fov=15.png\r\n",
      "Radius_oulier_removal_fov=3.png\r\n",
      "RenderOption_2021-01-10-13-54-08.json\r\n",
      "RenderOption_2021-01-10-13-54-21.json\r\n",
      "RenderOption_2021-01-10-14-08-33.json\r\n",
      "RenderOption_2021-01-10-14-09-09.json\r\n",
      "RenderOption_2021-01-10-14-11-03.json\r\n",
      "RenderOption_2021-01-10-14-15-31.json\r\n",
      "RenderOption_2021-01-10-14-28-07.json\r\n",
      "RenderOption_2021-01-10-15-20-48.json\r\n",
      "RenderOption_2021-01-10-16-10-03.json\r\n",
      "RenderOption_2021-01-10-16-40-36.json\r\n",
      "RenderOption_2021-01-11-12-03-13.json\r\n",
      "RenderOption_2021-01-11-12-22-53.json\r\n",
      "RenderOption_2021-01-11-12-27-31.json\r\n",
      "RenderOption_2021-01-11-14-51-54.json\r\n",
      "ScreenCamera_2021-01-08-10-35-04.json\r\n",
      "ScreenCamera_2021-01-10-14-21-14.json\r\n",
      "ScreenCamera_2021-01-10-14-49-47.json\r\n",
      "ScreenCamera_2021-01-10-15-00-31.json\r\n",
      "ScreenCamera_2021-01-10-15-57-24.json\r\n",
      "ScreenCamera_2021-01-10-15-57-26.json\r\n",
      "ScreenCamera_2021-01-10-16-10-04.json\r\n",
      "ScreenCamera_2021-01-11-12-03-11.json\r\n",
      "ScreenCamera_2021-01-11-12-03-12.json\r\n",
      "ScreenCamera_2021-01-11-12-06-34.json\r\n",
      "ScreenCamera_2021-01-11-12-22-52.json\r\n",
      "ScreenCamera_2021-01-11-12-28-43.json\r\n",
      "ScreenCamera_2021-01-11-12-29-22.json\r\n",
      "ScreenCamera_2021-01-11-12-37-47.json\r\n",
      "ScreenCamera_2021-01-11-14-42-22.json\r\n",
      "ScreenCamera_2021-01-11-14-51-54.json\r\n",
      "ScreenCapture_2021-01-08-10-35-04.png\r\n",
      "ScreenCapture_2021-01-10-14-21-14.png\r\n",
      "ScreenCapture_2021-01-10-14-49-47.png\r\n",
      "ScreenCapture_2021-01-10-15-00-31.png\r\n",
      "ScreenCapture_2021-01-10-15-57-24.png\r\n",
      "ScreenCapture_2021-01-10-15-57-26.png\r\n",
      "ScreenCapture_2021-01-10-16-10-04.png\r\n",
      "ScreenCapture_2021-01-11-12-03-11.png\r\n",
      "ScreenCapture_2021-01-11-12-03-12.png\r\n",
      "ScreenCapture_2021-01-11-12-06-34.png\r\n",
      "ScreenCapture_2021-01-11-12-22-52.png\r\n",
      "ScreenCapture_2021-01-11-12-28-43.png\r\n",
      "ScreenCapture_2021-01-11-12-29-22.png\r\n",
      "ScreenCapture_2021-01-11-12-37-47.png\r\n",
      "ScreenCapture_2021-01-11-14-42-22.png\r\n",
      "ScreenCapture_2021-01-11-14-51-54.png\r\n",
      "Screenshot 2021-01-08 at 11.30.28.png\r\n",
      "Screenshot 2021-01-08 at 11.56.57.png\r\n",
      "Showing outliers (red) and inliers (gray) .png\r\n",
      "cropped.png\r\n",
      "\u001b[34mimgfolder\u001b[m\u001b[m\r\n",
      "instructions.png\r\n",
      "new_test_cloud.png\r\n",
      "\u001b[34mplyfolder\u001b[m\u001b[m\r\n",
      "readme\r\n",
      "stitch2plyfolder.zip\r\n",
      "stitched_external_pc.pcd\r\n",
      "stitched_internal_pc.pcd\r\n",
      "stitched_upper_pc.pcd\r\n",
      "test_cloud.png\r\n"
     ]
    }
   ],
   "source": [
    "!ls"
   ]
  },
  {
   "cell_type": "markdown",
   "metadata": {},
   "source": [
    "## run notebooks"
   ]
  },
  {
   "cell_type": "code",
   "execution_count": 340,
   "metadata": {
    "scrolled": true
   },
   "outputs": [
    {
     "name": "stdout",
     "output_type": "stream",
     "text": [
      "The autoreload extension is already loaded. To reload it, use:\n",
      "  %reload_ext autoreload\n"
     ]
    }
   ],
   "source": [
    "## run notebooks\n",
    "%run \"../Notebooks/intialization.ipynb\"\n",
    "%run \"../Notebooks/Stitching_functions.ipynb\"\n",
    "%run \"../Notebooks/Visualization_functions.ipynb\"\n",
    "%run \"../Notebooks/Downsampling_and_outliers_functions.ipynb\"\n",
    "%load_ext autoreload"
   ]
  },
  {
   "cell_type": "markdown",
   "metadata": {},
   "source": [
    "## Load the pointclouds"
   ]
  },
  {
   "cell_type": "code",
   "execution_count": 13,
   "metadata": {},
   "outputs": [],
   "source": [
    "## parameters initialization \n",
    "\n",
    "myparams = \"./ScreenCamera_2021-01-11-12-06-34.json\"  # parameter for camera point view, json file via pressing P\n",
    "myconfiguration_file = \"RenderOption_2021-01-11-12-22-53.json\" # configuration file for properties, json file via pressing o\n"
   ]
  },
  {
   "cell_type": "code",
   "execution_count": 323,
   "metadata": {},
   "outputs": [],
   "source": [
    "complete= o3d.io.read_point_cloud(\"11012021-13h13m15s-stitch_11012021-13h13m15s-upper_external_internal.pcd\")"
   ]
  },
  {
   "cell_type": "code",
   "execution_count": 292,
   "metadata": {},
   "outputs": [
    {
     "name": "stdout",
     "output_type": "stream",
     "text": [
      "loading parameters: \n",
      "  ./ScreenCamera_2021-01-11-12-06-34.json\n",
      "loading configuration file: \n",
      "  RenderOption_2021-01-11-12-22-53.json\n",
      "\u001b[1;33m[Open3D WARNING] GLFW Error: The GLFW library is not initialized\u001b[0;m\n"
     ]
    }
   ],
   "source": [
    "\n",
    "custom_draw_geometry(complete,\n",
    "                     mytitle = \"complete\",\n",
    "                     params = myparams,  # parameter for camera point view, json file via pressing P\n",
    "                     configuration_file = myconfiguration_file, # configuration file for properties, json file via pressing o\n",
    "                     take_screen_shot = False,\n",
    "                     rotate = True)"
   ]
  },
  {
   "cell_type": "code",
   "execution_count": 293,
   "metadata": {},
   "outputs": [
    {
     "name": "stdout",
     "output_type": "stream",
     "text": [
      "\n"
     ]
    },
    {
     "data": {
      "text/plain": [
       "[677380]"
      ]
     },
     "execution_count": 293,
     "metadata": {},
     "output_type": "execute_result"
    }
   ],
   "source": [
    "get_num_points([complete])"
   ]
  },
  {
   "cell_type": "code",
   "execution_count": 295,
   "metadata": {},
   "outputs": [
    {
     "name": "stdout",
     "output_type": "stream",
     "text": [
      "statistical outlier removal for complete\n",
      "loading parameters: \n",
      "  ./ScreenCamera_2021-01-11-12-06-34.json\n",
      "loading configuration file: \n",
      "  RenderOption_2021-01-11-12-22-53.json\n"
     ]
    }
   ],
   "source": [
    "# ind are the inlier indexes\n",
    "processed_stitches,ind = exclude_outliers_list_stitches([\"complete\"],[complete],[[0,0.5,0.1]], \n",
    "                               parameters= (100,0.99),\n",
    "                               preprocess_outliers = \"stat\" ,\n",
    "                               visualization_on = True,\n",
    "                               rotate = False)"
   ]
  },
  {
   "cell_type": "code",
   "execution_count": 294,
   "metadata": {},
   "outputs": [
    {
     "name": "stdout",
     "output_type": "stream",
     "text": [
      "statistical outlier removal for complete\n",
      "loading parameters: \n",
      "  ./ScreenCamera_2021-01-11-12-06-34.json\n",
      "loading configuration file: \n",
      "  RenderOption_2021-01-11-12-22-53.json\n"
     ]
    }
   ],
   "source": [
    "processed_stitches,ind = exclude_outliers_list_stitches([\"complete\"],[complete],[[0,0.5,0.1]], \n",
    "                               parameters= (100,2),\n",
    "                               #preprocess_outliers = \"stat\" ,\n",
    "                               visualization_on = True,\n",
    "                               rotate = False)"
   ]
  },
  {
   "cell_type": "markdown",
   "metadata": {},
   "source": [
    "## clustering"
   ]
  },
  {
   "cell_type": "code",
   "execution_count": 350,
   "metadata": {},
   "outputs": [
    {
     "name": "stdout",
     "output_type": "stream",
     "text": [
      "[Open3D DEBUG] Precompute Neighbours\n",
      "[Open3D DEBUG] Done Precompute Neighbours\n",
      "[Open3D DEBUG] Compute Clusters\n",
      "[Open3D DEBUG] Done Compute Clusters: 172\n",
      "\n",
      "point cloud has 172 clusters\n",
      "there are 677380 points in all clusters\n",
      "there are 12156 points identified as ouliers \n",
      "there are 653141 points in the biggest cluster \n"
     ]
    }
   ],
   "source": [
    "complete_cluster = clustering(  complete,\n",
    "                                myeps=0.2, \n",
    "                                mymin_points=10,\n",
    "\n",
    "                                #statements\n",
    "                                print_statement = True,\n",
    "                                visualization_on = True)"
   ]
  },
  {
   "cell_type": "code",
   "execution_count": 351,
   "metadata": {},
   "outputs": [
    {
     "name": "stdout",
     "output_type": "stream",
     "text": [
      "loading parameters: \n",
      "  ./ScreenCamera_2021-01-11-12-06-34.json\n",
      "loading configuration file: \n",
      "  RenderOption_2021-01-11-12-22-53.json\n",
      "\u001b[1;33m[Open3D WARNING] GLFW Error: The GLFW library is not initialized\u001b[0;m\n"
     ]
    }
   ],
   "source": [
    "custom_draw_geometry(complete_cluster, \n",
    "                     mytitle = \"biggest_cluster_cloud\", mytuples = \"\",\n",
    "                     params =myparams, \n",
    "                     configuration_file = myconfiguration_file, \n",
    "                     take_screen_shot = False,\n",
    "                     rotate = True)"
   ]
  },
  {
   "cell_type": "code",
   "execution_count": 352,
   "metadata": {},
   "outputs": [
    {
     "data": {
      "text/plain": [
       "True"
      ]
     },
     "execution_count": 352,
     "metadata": {},
     "output_type": "execute_result"
    }
   ],
   "source": [
    "#save\n",
    "o3d.io.write_point_cloud(\"complete_cluster.pcd\", complete_cluster)"
   ]
  },
  {
   "cell_type": "markdown",
   "metadata": {},
   "source": [
    "## plane segmentation"
   ]
  },
  {
   "cell_type": "markdown",
   "metadata": {},
   "source": [
    "The problem with default plane segmentation is that not always detect the plane we want and we risk to go on endlessly..."
   ]
  },
  {
   "cell_type": "code",
   "execution_count": 353,
   "metadata": {
    "scrolled": false
   },
   "outputs": [
    {
     "name": "stdout",
     "output_type": "stream",
     "text": [
      "Plane equation: -0.15x + -0.54y + 0.83z + -43.03 = 0\n",
      "plane detected contains 72444 points\n",
      "loading parameters: \n",
      "  ./ScreenCamera_2021-01-11-12-06-34.json\n",
      "loading configuration file: \n",
      "  RenderOption_2021-01-11-12-22-53.json\n",
      "\u001b[1;33m[Open3D WARNING] GLFW Error: The GLFW library is not initialized\u001b[0;m\n",
      "Delete the plane in red (y/n): \n",
      "y\n",
      "continue finding planes (y/n): \n",
      "n\n"
     ]
    }
   ],
   "source": [
    "complete_cluster_2 = find_and_delete_planes(complete_cluster)"
   ]
  },
  {
   "cell_type": "code",
   "execution_count": 354,
   "metadata": {},
   "outputs": [
    {
     "data": {
      "text/plain": [
       "True"
      ]
     },
     "execution_count": 354,
     "metadata": {},
     "output_type": "execute_result"
    }
   ],
   "source": [
    "#save\n",
    "o3d.io.write_point_cloud(\"complete_cluster_2.pcd\", complete_cluster_2)"
   ]
  },
  {
   "cell_type": "code",
   "execution_count": 355,
   "metadata": {},
   "outputs": [
    {
     "name": "stdout",
     "output_type": "stream",
     "text": [
      "[Open3D DEBUG] Precompute Neighbours\n",
      "[Open3D DEBUG] Done Precompute Neighbours\n",
      "[Open3D DEBUG] Compute Clusters\n",
      "[Open3D DEBUG] Done Compute Clusters: 7\n",
      "\n",
      "point cloud has 7 clusters\n",
      "there are 580697 points in all clusters\n",
      "there are 870 points identified as ouliers \n",
      "there are 488502 points in the biggest cluster \n"
     ]
    }
   ],
   "source": [
    "complete_cluster = clustering(  complete_cluster_2,\n",
    "                                myeps=0.2, \n",
    "                                mymin_points=10,\n",
    "\n",
    "                                #statements\n",
    "                                print_statement = True,\n",
    "                                visualization_on = True)"
   ]
  },
  {
   "cell_type": "code",
   "execution_count": 356,
   "metadata": {},
   "outputs": [
    {
     "data": {
      "text/plain": [
       "True"
      ]
     },
     "execution_count": 356,
     "metadata": {},
     "output_type": "execute_result"
    }
   ],
   "source": [
    "#save\n",
    "o3d.io.write_point_cloud(\"complete_cluster_3.pcd\", complete_cluster)"
   ]
  },
  {
   "cell_type": "markdown",
   "metadata": {},
   "source": [
    "## manual selection of planes"
   ]
  },
  {
   "cell_type": "code",
   "execution_count": 320,
   "metadata": {},
   "outputs": [
    {
     "name": "stdout",
     "output_type": "stream",
     "text": [
      "\n",
      "1) Please pick at least 3 points using [shift + left click]\n",
      "   Press [shift + right click] to undo point picking\n",
      "2) After picking points, press 'Q' to close the window\n",
      "[Open3D INFO] Picked point #316378 (-5.3, 4.8, 59.) to add in queue.\n",
      "[Open3D INFO] Picked point #352469 (-5.1, 4.2, 57.) to add in queue.\n",
      "[Open3D INFO] Picked point #295290 (-3.7, 4.3, 59.) to add in queue.\n",
      "\n",
      "\n",
      "plane point:  [-4.70364229  4.43168577 58.36163584]\n",
      "normal to the plane:  [-0.24243865 -0.90388312  0.3524469 ]\n",
      "\n",
      "total number of points:  569830\n",
      "number excluded points :  29971\n",
      "with pos_margin= 0.1 ; neg_margin= 1\n",
      "\n",
      "calculating indexes (might take a while...)\n"
     ]
    }
   ],
   "source": [
    "complete_cluster_4 = custom_remove_plane(complete_cluster_3,\n",
    "                                        nneg_margin = 1,\n",
    "                                        ppos_margin = 0.1,\n",
    "\n",
    "                                        #visualization parameters\n",
    "                                        #mytitle = \"Selection of planes to remove\", mytuples = None, \n",
    "                                        #params = None, #camera parameters,json file (P)\n",
    "                                        #fov_step  = None, \n",
    "                                        #configuration_file = None, #object properties ,json file (O)\n",
    "                                        #rotate = False,\n",
    "\n",
    "                                        #statements\n",
    "                                        print_statements = True,\n",
    "                                        visualization_on = True,\n",
    "                                       )"
   ]
  },
  {
   "cell_type": "code",
   "execution_count": 321,
   "metadata": {},
   "outputs": [
    {
     "name": "stdout",
     "output_type": "stream",
     "text": [
      "loading parameters: \n",
      "  ./ScreenCamera_2021-01-11-12-06-34.json\n",
      "loading configuration file: \n",
      "  RenderOption_2021-01-11-12-22-53.json\n",
      "\u001b[1;33m[Open3D WARNING] GLFW Error: The GLFW library is not initialized\u001b[0;m\n"
     ]
    }
   ],
   "source": [
    "custom_draw_geometry(complete_cluster_4, \n",
    "                     mytitle = \"cleaned up point cloud\", mytuples = \"\",\n",
    "                     params =myparams, \n",
    "                     configuration_file = myconfiguration_file, \n",
    "                     take_screen_shot = False,\n",
    "                     rotate = True)"
   ]
  },
  {
   "cell_type": "code",
   "execution_count": 322,
   "metadata": {},
   "outputs": [
    {
     "data": {
      "text/plain": [
       "539859"
      ]
     },
     "execution_count": 322,
     "metadata": {},
     "output_type": "execute_result"
    }
   ],
   "source": [
    "len(complete_cluster_4.points)"
   ]
  },
  {
   "cell_type": "markdown",
   "metadata": {},
   "source": [
    "## saving "
   ]
  },
  {
   "cell_type": "code",
   "execution_count": null,
   "metadata": {},
   "outputs": [],
   "source": [
    "o3d.io.write_point_cloud(\"complete_clean\", complete_cluster_4)"
   ]
  },
  {
   "cell_type": "code",
   "execution_count": 45,
   "metadata": {},
   "outputs": [],
   "source": [
    "outlier_cloud = biggest_cluster_cloud.select_by_index(inliers, invert=True)"
   ]
  },
  {
   "cell_type": "code",
   "execution_count": null,
   "metadata": {},
   "outputs": [],
   "source": []
  },
  {
   "cell_type": "markdown",
   "metadata": {},
   "source": [
    "## Bin"
   ]
  },
  {
   "cell_type": "code",
   "execution_count": 23,
   "metadata": {},
   "outputs": [
    {
     "name": "stdout",
     "output_type": "stream",
     "text": [
      "[Open3D DEBUG] Precompute Neighbours\n",
      "[Open3D DEBUG] Done Precompute Neighbours\n",
      "[Open3D DEBUG] Compute Clusters\n",
      "[Open3D DEBUG] Done Compute Clusters: 172\n",
      "point cloud has 172 clusters\n",
      "[[0.12156863 0.46666667 0.70588235 1.        ]\n",
      " [0.12156863 0.46666667 0.70588235 1.        ]\n",
      " [0.12156863 0.46666667 0.70588235 1.        ]\n",
      " ...\n",
      " [0.12156863 0.46666667 0.70588235 1.        ]\n",
      " [0.12156863 0.46666667 0.70588235 1.        ]\n",
      " [0.12156863 0.46666667 0.70588235 1.        ]]\n"
     ]
    }
   ],
   "source": [
    "\"\"\"\n",
    "With eps you can define the max Euclidean distance between two points that should belong to the same cluster. \n",
    "With min_points you define the minimal number of points that are necessary to create a cluster.\n",
    "This algorithm precomputes all neighbors in the epsilon radius for all points. This can require a lot of memory if the chosen epsilon is too large.\n",
    "\"\"\"\n",
    "\n",
    "with o3d.utility.VerbosityContextManager(\n",
    "        o3d.utility.VerbosityLevel.Debug) as cm:\n",
    "    labels = np.array(\n",
    "        complete.cluster_dbscan(eps=0.2, min_points=10, print_progress=True))\n",
    "\n",
    "max_label = labels.max()\n",
    "#identify the biggest cluster label\n",
    "biggest_cluster_label = most_common(labels)\n",
    "\n",
    "print(f\"point cloud has {max_label + 1} clusters\")\n",
    "colors = plt.get_cmap(\"tab20\")(labels / (max_label if max_label > 0 else 1))\n",
    "print (colors)\n",
    "colors[labels < 0] = 0 # in black the outliers...\n",
    "colors[labels != biggest_cluster_label] = 0 # in black everything that is not main cluster..\n",
    "\n",
    "#colors[labels < max_label] = 0\n",
    "complete.colors = o3d.utility.Vector3dVector(colors[:, :3]) #float64 array of shape (num_points, 3), range [0, 1] , use numpy.asarray() to access data\n",
    "o3d.visualization.draw_geometries([complete])"
   ]
  },
  {
   "cell_type": "code",
   "execution_count": 32,
   "metadata": {},
   "outputs": [
    {
     "name": "stdout",
     "output_type": "stream",
     "text": [
      "there are 677380 points in all clusters \n"
     ]
    }
   ],
   "source": [
    "print (\"there are %s points in all clusters \" %len(labels))"
   ]
  },
  {
   "cell_type": "code",
   "execution_count": 33,
   "metadata": {},
   "outputs": [
    {
     "name": "stdout",
     "output_type": "stream",
     "text": [
      "there are 12156 points identified as ouliers \n"
     ]
    }
   ],
   "source": [
    "negative_labels = [label for label in labels if label <0]\n",
    "print (\"there are %s points identified as ouliers \" %len(negative_labels))"
   ]
  },
  {
   "cell_type": "code",
   "execution_count": 27,
   "metadata": {},
   "outputs": [
    {
     "name": "stdout",
     "output_type": "stream",
     "text": [
      "there are 653141 points in the biggest cluster \n"
     ]
    }
   ],
   "source": [
    "biggest_cluster_labels = [label for label in labels if label == biggest_cluster_label]\n",
    "print (\"there are %s points in the biggest cluster \" %len(biggest_cluster_labels))"
   ]
  },
  {
   "cell_type": "code",
   "execution_count": 31,
   "metadata": {},
   "outputs": [
    {
     "name": "stdout",
     "output_type": "stream",
     "text": [
      "[0, 0, 0, 0, 0, 0, 0, 0, 0, 0]\n",
      "[4400, 4401, 4402, 4403, 4404, 4405, 4406, 4407, 4408, 4409]\n"
     ]
    }
   ],
   "source": [
    "# select indexes of points in the biggest cluster\n",
    "index_biggest_cluster_labels = [i for i, e in enumerate(labels) if e == biggest_cluster_label]\n",
    "print (biggest_cluster_labels[4300:4310])\n",
    "print (index_biggest_cluster_labels[4300:4310])"
   ]
  },
  {
   "cell_type": "code",
   "execution_count": 60,
   "metadata": {},
   "outputs": [],
   "source": [
    "biggest_cluster_cloud = complete.select_by_index(index_biggest_cluster_labels)"
   ]
  },
  {
   "cell_type": "code",
   "execution_count": 61,
   "metadata": {
    "scrolled": true
   },
   "outputs": [
    {
     "name": "stdout",
     "output_type": "stream",
     "text": [
      "loading parameters: \n",
      "  ./ScreenCamera_2021-01-11-12-06-34.json\n",
      "loading configuration file: \n",
      "  RenderOption_2021-01-11-12-22-53.json\n",
      "\u001b[1;33m[Open3D WARNING] GLFW Error: The GLFW library is not initialized\u001b[0;m\n"
     ]
    }
   ],
   "source": [
    "custom_draw_geometry(biggest_cluster_cloud, \n",
    "                         mytitle = \"biggest_cluster_cloud\", mytuples = \"\",\n",
    "                         params =myparams, \n",
    "                         configuration_file = myconfiguration_file, \n",
    "                         take_screen_shot = False,\n",
    "                         rotate = True)"
   ]
  },
  {
   "cell_type": "markdown",
   "metadata": {},
   "source": [
    "pick_points function allows hand selection of planes that we want to delete."
   ]
  },
  {
   "cell_type": "code",
   "execution_count": 250,
   "metadata": {},
   "outputs": [
    {
     "name": "stdout",
     "output_type": "stream",
     "text": [
      "\n",
      "1) Please pick at least three correspondences using [shift + left click]\n",
      "   Press [shift + right click] to undo point picking\n",
      "2) After picking points, press 'Q' to close the window\n",
      "[Open3D INFO] Picked point #187587 (19., 1.9, 65.) to add in queue.\n",
      "[Open3D INFO] Picked point #164621 (21., 1.6, 65.) to add in queue.\n",
      "[Open3D INFO] Picked point #186370 (24., 0.86, 65.) to add in queue.\n",
      "[Open3D INFO] Picked point #164486 (22., 1.5, 65.) to add in queue.\n",
      "[Open3D INFO] Picked point #187620 (23., 1.8, 66.) to add in queue.\n",
      "[Open3D INFO] Picked point #163048 (23., 0.27, 65.) to add in queue.\n",
      "\n"
     ]
    }
   ],
   "source": [
    "# selected points\n",
    "selected_points = pick_points(outlier_cloud)"
   ]
  },
  {
   "cell_type": "code",
   "execution_count": 235,
   "metadata": {},
   "outputs": [
    {
     "data": {
      "text/plain": [
       "[[-6.0338897705078125, 4.501068592071533, 57.62178421020508],\n",
       " [-5.628180980682373, 4.099498271942139, 56.83785629272461],\n",
       " [-0.9336533546447754, 4.437504291534424, 61.02872085571289]]"
      ]
     },
     "execution_count": 235,
     "metadata": {},
     "output_type": "execute_result"
    }
   ],
   "source": [
    "# access the coordinates of the points\n",
    "coordinates_points = list()\n",
    "for i in range(3):\n",
    "    this_coord = np.asarray(outlier_cloud.points)[selected_points[i]]\n",
    "    coordinates_points.append(list(this_coord))\n",
    "    \n",
    "coordinates_points"
   ]
  },
  {
   "cell_type": "code",
   "execution_count": 237,
   "metadata": {},
   "outputs": [
    {
     "name": "stdout",
     "output_type": "stream",
     "text": [
      "Plane(point=Point([-4.1985747 ,  4.34602372, 58.49612045]), normal=Vector([-0.23950872, -0.90881813,  0.34159212]))\n",
      "plane point:  [-4.1985747   4.34602372 58.49612045]\n",
      "normal to the plane:  [-0.23950872 -0.90881813  0.34159212]\n"
     ]
    }
   ],
   "source": [
    "# translate in scikit language the newly found coordinates\n",
    "points = Points(coordinates_points)\n",
    "#identify the plane through the points\n",
    "plane = Plane.best_fit(points)\n",
    "print (plane)\n",
    "print (\"plane point: \",plane.point)\n",
    "print (\"normal to the plane: \",plane.normal)"
   ]
  },
  {
   "cell_type": "markdown",
   "metadata": {},
   "source": [
    "## verification "
   ]
  },
  {
   "cell_type": "code",
   "execution_count": 238,
   "metadata": {},
   "outputs": [
    {
     "name": "stdout",
     "output_type": "stream",
     "text": [
      "point: [-4.1985747   4.34602372 58.49612045]\n",
      "normal: [-0.23950872 -0.90881813  0.34159212]\n",
      "Plane equation: -0.24x + -0.91y + 0.34z + -17.04 = 0\n",
      "\n",
      "point: [-6.0338897705078125, 4.501068592071533, 57.62178421020508]\n",
      "normal: [-0.23950872 -0.90881813  0.34159212]\n",
      "Plane equation: -0.24x + -0.91y + 0.34z + -17.04 = 0\n",
      "\n"
     ]
    }
   ],
   "source": [
    "# check that two different point that we know belong to the plane actually return the plane\n",
    "a,b,c,d = plane_equation(plane.point,plane.normal)\n",
    "a,b,c,d = plane_equation(coordinates_points[0],plane.normal)"
   ]
  },
  {
   "cell_type": "code",
   "execution_count": 240,
   "metadata": {},
   "outputs": [
    {
     "data": {
      "text/plain": [
       "True"
      ]
     },
     "execution_count": 240,
     "metadata": {},
     "output_type": "execute_result"
    }
   ],
   "source": [
    "# obvious check this shoudl return true\n",
    "is_point_in_plane(coordinates_points[0], plane.normal)"
   ]
  },
  {
   "cell_type": "markdown",
   "metadata": {},
   "source": [
    "## find points belonging to the plane +-"
   ]
  },
  {
   "cell_type": "code",
   "execution_count": 242,
   "metadata": {},
   "outputs": [
    {
     "name": "stdout",
     "output_type": "stream",
     "text": [
      "total number of points:  580764\n",
      "excluded points :  11660\n"
     ]
    }
   ],
   "source": [
    "# for each point in the point cloud, \n",
    "# if it lies on the plane identified by the manually selected 3 points, it gets excluded\n",
    "all_points = np.asarray(outlier_cloud.points)\n",
    "print (\"total number of points: \",len(all_points))\n",
    "inliers_new = [list(all_points[i]) for i in range(len(all_points)) if is_point_in_plane(all_points[i], \n",
    "                                                                                  plane.normal,\n",
    "                                                                                  neg_margin = 0.2,\n",
    "                                                                                  pos_margin = 0.01)]\n",
    "print (\"excluded points : \",len(inliers_new))"
   ]
  },
  {
   "cell_type": "code",
   "execution_count": 243,
   "metadata": {},
   "outputs": [],
   "source": [
    "#inliers_new"
   ]
  },
  {
   "cell_type": "code",
   "execution_count": 244,
   "metadata": {
    "scrolled": false
   },
   "outputs": [
    {
     "name": "stdout",
     "output_type": "stream",
     "text": [
      "1.0053485720000026\n"
     ]
    }
   ],
   "source": [
    "start = timer()\n",
    "all_list_points = [list(e) for i, e in enumerate(all_points[:])]\n",
    "end = timer()\n",
    "print(end - start)"
   ]
  },
  {
   "cell_type": "markdown",
   "metadata": {},
   "source": [
    "## TO DO, WHICH ONE IS FASTER? "
   ]
  },
  {
   "cell_type": "code",
   "execution_count": 245,
   "metadata": {},
   "outputs": [
    {
     "name": "stdout",
     "output_type": "stream",
     "text": [
      "195.01134608700158\n"
     ]
    }
   ],
   "source": [
    "# find indexes \n",
    "# if the point is one of the inliers_new is index is added\n",
    "# this take some time\n",
    "start = timer()\n",
    "inliers_new_idx = [i for i, e in enumerate(all_list_points) if e in inliers_new]\n",
    "end = timer()\n",
    "print(end - start)"
   ]
  },
  {
   "cell_type": "code",
   "execution_count": 246,
   "metadata": {},
   "outputs": [
    {
     "name": "stdout",
     "output_type": "stream",
     "text": [
      "123.46780484899864\n"
     ]
    }
   ],
   "source": [
    "start = timer()\n",
    "inliers_new_idx = [all_list_points.index(e) for e in inliers_new]\n",
    "end = timer()\n",
    "print(end - start)"
   ]
  },
  {
   "cell_type": "code",
   "execution_count": 247,
   "metadata": {},
   "outputs": [
    {
     "data": {
      "text/plain": [
       "11660"
      ]
     },
     "execution_count": 247,
     "metadata": {},
     "output_type": "execute_result"
    }
   ],
   "source": [
    "len(inliers_new_idx)"
   ]
  },
  {
   "cell_type": "code",
   "execution_count": 248,
   "metadata": {},
   "outputs": [],
   "source": [
    "outlier_cloud_new = outlier_cloud.select_by_index(inliers_new_idx, invert=True)"
   ]
  },
  {
   "cell_type": "code",
   "execution_count": 249,
   "metadata": {},
   "outputs": [
    {
     "name": "stdout",
     "output_type": "stream",
     "text": [
      "loading parameters: \n",
      "  ./ScreenCamera_2021-01-11-12-06-34.json\n",
      "loading configuration file: \n",
      "  RenderOption_2021-01-11-12-22-53.json\n",
      "\u001b[1;33m[Open3D WARNING] GLFW Error: The GLFW library is not initialized\u001b[0;m\n"
     ]
    }
   ],
   "source": [
    "custom_draw_geometry(outlier_cloud_new, \n",
    "                         mytitle = \"biggest_cluster_cloud\", mytuples = \"\",\n",
    "                         params =myparams, \n",
    "                         configuration_file = myconfiguration_file, \n",
    "                         take_screen_shot = False,\n",
    "                         rotate = True)"
   ]
  },
  {
   "cell_type": "code",
   "execution_count": null,
   "metadata": {},
   "outputs": [],
   "source": []
  }
 ],
 "metadata": {
  "kernelspec": {
   "display_name": "Python 3",
   "language": "python",
   "name": "python3"
  }
 },
 "nbformat": 4,
 "nbformat_minor": 4
}
