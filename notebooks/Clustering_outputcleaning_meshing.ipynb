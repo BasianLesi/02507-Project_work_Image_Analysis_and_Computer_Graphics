{
 "cells": [
  {
   "cell_type": "markdown",
   "metadata": {},
   "source": [
    "## run notebooks"
   ]
  },
  {
   "cell_type": "code",
   "execution_count": 340,
   "metadata": {
    "scrolled": true
   },
   "outputs": [
    {
     "name": "stdout",
     "output_type": "stream",
     "text": [
      "The autoreload extension is already loaded. To reload it, use:\n",
      "  %reload_ext autoreload\n"
     ]
    }
   ],
   "source": [
    "## run notebooks\n",
    "%run \"../Notebooks/intialization.ipynb\"\n",
    "%run \"../Notebooks/Stitching_functions.ipynb\"\n",
    "%run \"../Notebooks/Visualization_functions.ipynb\"\n",
    "%run \"../Notebooks/Downsampling_and_outliers_functions.ipynb\"\n",
    "%load_ext autoreload"
   ]
  },
  {
   "cell_type": "markdown",
   "metadata": {},
   "source": [
    "## Load the pointclouds"
   ]
  },
  {
   "cell_type": "code",
   "execution_count": 13,
   "metadata": {},
   "outputs": [],
   "source": [
    "## parameters initialization \n",
    "\n",
    "myparams = \"./ScreenCamera_2021-01-11-12-06-34.json\"  # parameter for camera point view, json file via pressing P\n",
    "myconfiguration_file = \"RenderOption_2021-01-11-12-22-53.json\" # configuration file for properties, json file via pressing o\n"
   ]
  },
  {
   "cell_type": "code",
   "execution_count": 323,
   "metadata": {},
   "outputs": [],
   "source": [
    "complete= o3d.io.read_point_cloud(\"11012021-13h13m15s-stitch_11012021-13h13m15s-upper_external_internal.pcd\")"
   ]
  },
  {
   "cell_type": "code",
   "execution_count": 292,
   "metadata": {},
   "outputs": [
    {
     "name": "stdout",
     "output_type": "stream",
     "text": [
      "loading parameters: \n",
      "  ./ScreenCamera_2021-01-11-12-06-34.json\n",
      "loading configuration file: \n",
      "  RenderOption_2021-01-11-12-22-53.json\n",
      "\u001b[1;33m[Open3D WARNING] GLFW Error: The GLFW library is not initialized\u001b[0;m\n"
     ]
    }
   ],
   "source": [
    "\n",
    "custom_draw_geometry(complete,\n",
    "                     mytitle = \"complete\",\n",
    "                     params = myparams,  # parameter for camera point view, json file via pressing P\n",
    "                     configuration_file = myconfiguration_file, # configuration file for properties, json file via pressing o\n",
    "                     take_screen_shot = False,\n",
    "                     rotate = True)"
   ]
  },
  {
   "cell_type": "code",
   "execution_count": 293,
   "metadata": {},
   "outputs": [
    {
     "name": "stdout",
     "output_type": "stream",
     "text": [
      "\n"
     ]
    },
    {
     "data": {
      "text/plain": [
       "[677380]"
      ]
     },
     "execution_count": 293,
     "metadata": {},
     "output_type": "execute_result"
    }
   ],
   "source": [
    "get_num_points([complete])"
   ]
  },
  {
   "cell_type": "code",
   "execution_count": 295,
   "metadata": {},
   "outputs": [
    {
     "name": "stdout",
     "output_type": "stream",
     "text": [
      "statistical outlier removal for complete\n",
      "loading parameters: \n",
      "  ./ScreenCamera_2021-01-11-12-06-34.json\n",
      "loading configuration file: \n",
      "  RenderOption_2021-01-11-12-22-53.json\n"
     ]
    }
   ],
   "source": [
    "# ind are the inlier indexes\n",
    "processed_stitches,ind = exclude_outliers_list_stitches([\"complete\"],[complete],[[0,0.5,0.1]], \n",
    "                               parameters= (100,0.99),\n",
    "                               preprocess_outliers = \"stat\" ,\n",
    "                               visualization_on = True,\n",
    "                               rotate = False)"
   ]
  },
  {
   "cell_type": "code",
   "execution_count": 294,
   "metadata": {},
   "outputs": [
    {
     "name": "stdout",
     "output_type": "stream",
     "text": [
      "statistical outlier removal for complete\n",
      "loading parameters: \n",
      "  ./ScreenCamera_2021-01-11-12-06-34.json\n",
      "loading configuration file: \n",
      "  RenderOption_2021-01-11-12-22-53.json\n"
     ]
    }
   ],
   "source": [
    "processed_stitches,ind = exclude_outliers_list_stitches([\"complete\"],[complete],[[0,0.5,0.1]], \n",
    "                               parameters= (100,2),\n",
    "                               #preprocess_outliers = \"stat\" ,\n",
    "                               visualization_on = True,\n",
    "                               rotate = False)"
   ]
  },
  {
   "cell_type": "markdown",
   "metadata": {},
   "source": [
    "## clustering"
   ]
  },
  {
   "cell_type": "code",
   "execution_count": 350,
   "metadata": {},
   "outputs": [
    {
     "name": "stdout",
     "output_type": "stream",
     "text": [
      "[Open3D DEBUG] Precompute Neighbours\n",
      "[Open3D DEBUG] Done Precompute Neighbours\n",
      "[Open3D DEBUG] Compute Clusters\n",
      "[Open3D DEBUG] Done Compute Clusters: 172\n",
      "\n",
      "point cloud has 172 clusters\n",
      "there are 677380 points in all clusters\n",
      "there are 12156 points identified as ouliers \n",
      "there are 653141 points in the biggest cluster \n"
     ]
    }
   ],
   "source": [
    "complete_cluster = clustering(  complete,\n",
    "                                myeps=0.2, \n",
    "                                mymin_points=10,\n",
    "\n",
    "                                #statements\n",
    "                                print_statement = True,\n",
    "                                visualization_on = True)"
   ]
  },
  {
   "cell_type": "code",
   "execution_count": 351,
   "metadata": {},
   "outputs": [
    {
     "name": "stdout",
     "output_type": "stream",
     "text": [
      "loading parameters: \n",
      "  ./ScreenCamera_2021-01-11-12-06-34.json\n",
      "loading configuration file: \n",
      "  RenderOption_2021-01-11-12-22-53.json\n",
      "\u001b[1;33m[Open3D WARNING] GLFW Error: The GLFW library is not initialized\u001b[0;m\n"
     ]
    }
   ],
   "source": [
    "custom_draw_geometry(complete_cluster, \n",
    "                     mytitle = \"biggest_cluster_cloud\", mytuples = \"\",\n",
    "                     params =myparams, \n",
    "                     configuration_file = myconfiguration_file, \n",
    "                     take_screen_shot = False,\n",
    "                     rotate = True)"
   ]
  },
  {
   "cell_type": "code",
   "execution_count": 352,
   "metadata": {},
   "outputs": [
    {
     "data": {
      "text/plain": [
       "True"
      ]
     },
     "execution_count": 352,
     "metadata": {},
     "output_type": "execute_result"
    }
   ],
   "source": [
    "#save\n",
    "o3d.io.write_point_cloud(\"complete_cluster.pcd\", complete_cluster)"
   ]
  },
  {
   "cell_type": "markdown",
   "metadata": {},
   "source": [
    "## plane segmentation"
   ]
  },
  {
   "cell_type": "markdown",
   "metadata": {},
   "source": [
    "The problem with default plane segmentation is that not always detect the plane we want and we risk to go on endlessly..."
   ]
  },
  {
   "cell_type": "code",
   "execution_count": 353,
   "metadata": {
    "scrolled": false
   },
   "outputs": [
    {
     "name": "stdout",
     "output_type": "stream",
     "text": [
      "Plane equation: -0.15x + -0.54y + 0.83z + -43.03 = 0\n",
      "plane detected contains 72444 points\n",
      "loading parameters: \n",
      "  ./ScreenCamera_2021-01-11-12-06-34.json\n",
      "loading configuration file: \n",
      "  RenderOption_2021-01-11-12-22-53.json\n",
      "\u001b[1;33m[Open3D WARNING] GLFW Error: The GLFW library is not initialized\u001b[0;m\n",
      "Delete the plane in red (y/n): \n",
      "y\n",
      "continue finding planes (y/n): \n",
      "n\n"
     ]
    }
   ],
   "source": [
    "complete_cluster_2 = find_and_delete_planes(complete_cluster)"
   ]
  },
  {
   "cell_type": "code",
   "execution_count": 354,
   "metadata": {},
   "outputs": [
    {
     "data": {
      "text/plain": [
       "True"
      ]
     },
     "execution_count": 354,
     "metadata": {},
     "output_type": "execute_result"
    }
   ],
   "source": [
    "#save\n",
    "o3d.io.write_point_cloud(\"complete_cluster_2.pcd\", complete_cluster_2)"
   ]
  },
  {
   "cell_type": "code",
   "execution_count": 355,
   "metadata": {},
   "outputs": [
    {
     "name": "stdout",
     "output_type": "stream",
     "text": [
      "[Open3D DEBUG] Precompute Neighbours\n",
      "[Open3D DEBUG] Done Precompute Neighbours\n",
      "[Open3D DEBUG] Compute Clusters\n",
      "[Open3D DEBUG] Done Compute Clusters: 7\n",
      "\n",
      "point cloud has 7 clusters\n",
      "there are 580697 points in all clusters\n",
      "there are 870 points identified as ouliers \n",
      "there are 488502 points in the biggest cluster \n"
     ]
    }
   ],
   "source": [
    "complete_cluster = clustering(  complete_cluster_2,\n",
    "                                myeps=0.2, \n",
    "                                mymin_points=10,\n",
    "\n",
    "                                #statements\n",
    "                                print_statement = True,\n",
    "                                visualization_on = True)"
   ]
  },
  {
   "cell_type": "code",
   "execution_count": 356,
   "metadata": {},
   "outputs": [
    {
     "data": {
      "text/plain": [
       "True"
      ]
     },
     "execution_count": 356,
     "metadata": {},
     "output_type": "execute_result"
    }
   ],
   "source": [
    "#save\n",
    "o3d.io.write_point_cloud(\"complete_cluster_3.pcd\", complete_cluster)"
   ]
  },
  {
   "cell_type": "markdown",
   "metadata": {},
   "source": [
    "## manual selection of planes"
   ]
  },
  {
   "cell_type": "code",
   "execution_count": 320,
   "metadata": {},
   "outputs": [
    {
     "name": "stdout",
     "output_type": "stream",
     "text": [
      "\n",
      "1) Please pick at least 3 points using [shift + left click]\n",
      "   Press [shift + right click] to undo point picking\n",
      "2) After picking points, press 'Q' to close the window\n",
      "[Open3D INFO] Picked point #316378 (-5.3, 4.8, 59.) to add in queue.\n",
      "[Open3D INFO] Picked point #352469 (-5.1, 4.2, 57.) to add in queue.\n",
      "[Open3D INFO] Picked point #295290 (-3.7, 4.3, 59.) to add in queue.\n",
      "\n",
      "\n",
      "plane point:  [-4.70364229  4.43168577 58.36163584]\n",
      "normal to the plane:  [-0.24243865 -0.90388312  0.3524469 ]\n",
      "\n",
      "total number of points:  569830\n",
      "number excluded points :  29971\n",
      "with pos_margin= 0.1 ; neg_margin= 1\n",
      "\n",
      "calculating indexes (might take a while...)\n"
     ]
    }
   ],
   "source": [
    "complete_cluster_4 = custom_remove_plane(complete_cluster_3,\n",
    "                                        nneg_margin = 1,\n",
    "                                        ppos_margin = 0.1,\n",
    "\n",
    "                                        #visualization parameters\n",
    "                                        #mytitle = \"Selection of planes to remove\", mytuples = None, \n",
    "                                        #params = None, #camera parameters,json file (P)\n",
    "                                        #fov_step  = None, \n",
    "                                        #configuration_file = None, #object properties ,json file (O)\n",
    "                                        #rotate = False,\n",
    "\n",
    "                                        #statements\n",
    "                                        print_statements = True,\n",
    "                                        visualization_on = True,\n",
    "                                       )"
   ]
  },
  {
   "cell_type": "code",
   "execution_count": 321,
   "metadata": {},
   "outputs": [
    {
     "name": "stdout",
     "output_type": "stream",
     "text": [
      "loading parameters: \n",
      "  ./ScreenCamera_2021-01-11-12-06-34.json\n",
      "loading configuration file: \n",
      "  RenderOption_2021-01-11-12-22-53.json\n",
      "\u001b[1;33m[Open3D WARNING] GLFW Error: The GLFW library is not initialized\u001b[0;m\n"
     ]
    }
   ],
   "source": [
    "custom_draw_geometry(complete_cluster_4, \n",
    "                     mytitle = \"cleaned up point cloud\", mytuples = \"\",\n",
    "                     params =myparams, \n",
    "                     configuration_file = myconfiguration_file, \n",
    "                     take_screen_shot = False,\n",
    "                     rotate = True)"
   ]
  },
  {
   "cell_type": "code",
   "execution_count": 322,
   "metadata": {},
   "outputs": [
    {
     "data": {
      "text/plain": [
       "539859"
      ]
     },
     "execution_count": 322,
     "metadata": {},
     "output_type": "execute_result"
    }
   ],
   "source": [
    "len(complete_cluster_4.points)"
   ]
  },
  {
   "cell_type": "markdown",
   "metadata": {},
   "source": [
    "## saving "
   ]
  },
  {
   "cell_type": "code",
   "execution_count": null,
   "metadata": {},
   "outputs": [],
   "source": [
    "o3d.io.write_point_cloud(\"complete_clean\", complete_cluster_4)"
   ]
  },
  {
   "cell_type": "code",
   "execution_count": 45,
   "metadata": {},
   "outputs": [],
   "source": [
    "outlier_cloud = biggest_cluster_cloud.select_by_index(inliers, invert=True)"
   ]
  }
 ],
 "metadata": {
  "kernelspec": {
   "display_name": "Python 3",
   "language": "python",
   "name": "python3"
  }
 },
 "nbformat": 4,
 "nbformat_minor": 4
}
